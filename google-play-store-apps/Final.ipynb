{
 "cells": [
  {
   "cell_type": "markdown",
   "metadata": {},
   "source": [
    "## <span style=\"color:Blue\">Overview and Motivation</span>\n",
    "#### This notebook contains data engineering tasks done on the google playstore apps dataset. In this notebook we try to find some answers for some questions an app producer may ask. Here we help app producers understand the features which affect customer statisfication. We aim at finding relationships between some app features and the app rating. This may help app producers reach high customer satisfaction."
   ]
  },
  {
   "cell_type": "code",
   "execution_count": 1,
   "metadata": {},
   "outputs": [],
   "source": [
    "import pandas as pd\n",
    "import numpy as np\n",
    "import scipy.stats as st\n",
    "import matplotlib.pyplot as plt\n",
    "import seaborn as sns\n",
    "from pandas.plotting import scatter_matrix\n",
    "%matplotlib inline\n",
    "\n",
    "class display(object):\n",
    "    \"\"\"Display HTML representation of multiple objects\"\"\"\n",
    "    template = \"\"\"<div style=\"float: left; padding: 10px;\">\n",
    "    <p style='font-family:\"Courier New\", Courier, monospace'>{0}</p>{1}\n",
    "    </div>\"\"\"\n",
    "    def __init__(self, *args):\n",
    "        self.args = args\n",
    "        \n",
    "    def _repr_html_(self):\n",
    "        return '\\n'.join(self.template.format(a, eval(a)._repr_html_())\n",
    "                         for a in self.args)\n",
    "    \n",
    "    def __repr__(self):\n",
    "        return '\\n\\n'.join(a + '\\n' + repr(eval(a))\n",
    "                           for a in self.args)"
   ]
  },
  {
   "cell_type": "markdown",
   "metadata": {},
   "source": [
    "## <span style=\"color:Blue\">Initial Questions</span>\n",
    "#### The inital question to investigate this dataset of android apps is to figure out which attriubutes has an effect or a correlation with the rating of each app. The rating of apps is the column of interest as it reflects how efficient the app is.\n",
    "\n",
    "#### The questions asked to reach that goal are:-\n",
    "\n",
    "#### 1. Does the rating depends on the category of the app? Are there any categories of apps that get the highest ratings?\n",
    "\n",
    "#### 2. Is the number of reviews on an app reflect that this app is interesting to the users? Is there a correlation between the number of reviews and the rating of the app?\n",
    "\n",
    "#### 3. Does the size of an app makes the users give it higher ratings? Do small apps have higher ratings than larger apps?\n",
    "\n",
    "#### 4. Is the rating dependent on the number of installs or the content rating ?\n",
    "\n",
    "#### 5. Does the type or price of the app have any correlation with the rating of the app?\n",
    "\n",
    "#### 6. Are there any genres of apps that get the highest or lowest ratings?\n",
    "\n",
    "#### 7. Does the date when the app was last updated reflects how often is the app being maintained and thus has a relation with its rating?\n",
    "\n",
    "#### 8. Is the current version of the app or the android version that it requires has an effect on its rating?"
   ]
  },
  {
   "cell_type": "code",
   "execution_count": 2,
   "metadata": {
    "scrolled": true
   },
   "outputs": [
    {
     "data": {
      "text/html": [
       "<div>\n",
       "<style scoped>\n",
       "    .dataframe tbody tr th:only-of-type {\n",
       "        vertical-align: middle;\n",
       "    }\n",
       "\n",
       "    .dataframe tbody tr th {\n",
       "        vertical-align: top;\n",
       "    }\n",
       "\n",
       "    .dataframe thead th {\n",
       "        text-align: right;\n",
       "    }\n",
       "</style>\n",
       "<table border=\"1\" class=\"dataframe\">\n",
       "  <thead>\n",
       "    <tr style=\"text-align: right;\">\n",
       "      <th></th>\n",
       "      <th>App</th>\n",
       "      <th>Category</th>\n",
       "      <th>Rating</th>\n",
       "      <th>Reviews</th>\n",
       "      <th>Size</th>\n",
       "      <th>Installs</th>\n",
       "      <th>Type</th>\n",
       "      <th>Price</th>\n",
       "      <th>Content Rating</th>\n",
       "      <th>Genres</th>\n",
       "      <th>Last Updated</th>\n",
       "      <th>Current Ver</th>\n",
       "      <th>Android Ver</th>\n",
       "    </tr>\n",
       "  </thead>\n",
       "  <tbody>\n",
       "    <tr>\n",
       "      <th>0</th>\n",
       "      <td>Photo Editor &amp; Candy Camera &amp; Grid &amp; ScrapBook</td>\n",
       "      <td>ART_AND_DESIGN</td>\n",
       "      <td>4.1</td>\n",
       "      <td>159</td>\n",
       "      <td>19M</td>\n",
       "      <td>10,000+</td>\n",
       "      <td>Free</td>\n",
       "      <td>0</td>\n",
       "      <td>Everyone</td>\n",
       "      <td>Art &amp; Design</td>\n",
       "      <td>January 7, 2018</td>\n",
       "      <td>1.0.0</td>\n",
       "      <td>4.0.3 and up</td>\n",
       "    </tr>\n",
       "    <tr>\n",
       "      <th>1</th>\n",
       "      <td>Coloring book moana</td>\n",
       "      <td>ART_AND_DESIGN</td>\n",
       "      <td>3.9</td>\n",
       "      <td>967</td>\n",
       "      <td>14M</td>\n",
       "      <td>500,000+</td>\n",
       "      <td>Free</td>\n",
       "      <td>0</td>\n",
       "      <td>Everyone</td>\n",
       "      <td>Art &amp; Design;Pretend Play</td>\n",
       "      <td>January 15, 2018</td>\n",
       "      <td>2.0.0</td>\n",
       "      <td>4.0.3 and up</td>\n",
       "    </tr>\n",
       "    <tr>\n",
       "      <th>2</th>\n",
       "      <td>U Launcher Lite – FREE Live Cool Themes, Hide ...</td>\n",
       "      <td>ART_AND_DESIGN</td>\n",
       "      <td>4.7</td>\n",
       "      <td>87510</td>\n",
       "      <td>8.7M</td>\n",
       "      <td>5,000,000+</td>\n",
       "      <td>Free</td>\n",
       "      <td>0</td>\n",
       "      <td>Everyone</td>\n",
       "      <td>Art &amp; Design</td>\n",
       "      <td>August 1, 2018</td>\n",
       "      <td>1.2.4</td>\n",
       "      <td>4.0.3 and up</td>\n",
       "    </tr>\n",
       "    <tr>\n",
       "      <th>3</th>\n",
       "      <td>Sketch - Draw &amp; Paint</td>\n",
       "      <td>ART_AND_DESIGN</td>\n",
       "      <td>4.5</td>\n",
       "      <td>215644</td>\n",
       "      <td>25M</td>\n",
       "      <td>50,000,000+</td>\n",
       "      <td>Free</td>\n",
       "      <td>0</td>\n",
       "      <td>Teen</td>\n",
       "      <td>Art &amp; Design</td>\n",
       "      <td>June 8, 2018</td>\n",
       "      <td>Varies with device</td>\n",
       "      <td>4.2 and up</td>\n",
       "    </tr>\n",
       "    <tr>\n",
       "      <th>4</th>\n",
       "      <td>Pixel Draw - Number Art Coloring Book</td>\n",
       "      <td>ART_AND_DESIGN</td>\n",
       "      <td>4.3</td>\n",
       "      <td>967</td>\n",
       "      <td>2.8M</td>\n",
       "      <td>100,000+</td>\n",
       "      <td>Free</td>\n",
       "      <td>0</td>\n",
       "      <td>Everyone</td>\n",
       "      <td>Art &amp; Design;Creativity</td>\n",
       "      <td>June 20, 2018</td>\n",
       "      <td>1.1</td>\n",
       "      <td>4.4 and up</td>\n",
       "    </tr>\n",
       "  </tbody>\n",
       "</table>\n",
       "</div>"
      ],
      "text/plain": [
       "                                                 App        Category  Rating  \\\n",
       "0     Photo Editor & Candy Camera & Grid & ScrapBook  ART_AND_DESIGN     4.1   \n",
       "1                                Coloring book moana  ART_AND_DESIGN     3.9   \n",
       "2  U Launcher Lite – FREE Live Cool Themes, Hide ...  ART_AND_DESIGN     4.7   \n",
       "3                              Sketch - Draw & Paint  ART_AND_DESIGN     4.5   \n",
       "4              Pixel Draw - Number Art Coloring Book  ART_AND_DESIGN     4.3   \n",
       "\n",
       "  Reviews  Size     Installs  Type Price Content Rating  \\\n",
       "0     159   19M      10,000+  Free     0       Everyone   \n",
       "1     967   14M     500,000+  Free     0       Everyone   \n",
       "2   87510  8.7M   5,000,000+  Free     0       Everyone   \n",
       "3  215644   25M  50,000,000+  Free     0           Teen   \n",
       "4     967  2.8M     100,000+  Free     0       Everyone   \n",
       "\n",
       "                      Genres      Last Updated         Current Ver  \\\n",
       "0               Art & Design   January 7, 2018               1.0.0   \n",
       "1  Art & Design;Pretend Play  January 15, 2018               2.0.0   \n",
       "2               Art & Design    August 1, 2018               1.2.4   \n",
       "3               Art & Design      June 8, 2018  Varies with device   \n",
       "4    Art & Design;Creativity     June 20, 2018                 1.1   \n",
       "\n",
       "    Android Ver  \n",
       "0  4.0.3 and up  \n",
       "1  4.0.3 and up  \n",
       "2  4.0.3 and up  \n",
       "3    4.2 and up  \n",
       "4    4.4 and up  "
      ]
     },
     "execution_count": 2,
     "metadata": {},
     "output_type": "execute_result"
    }
   ],
   "source": [
    "dataSet = pd.read_csv(\"./googleplaystore.csv\")\n",
    "dataSet.head()"
   ]
  },
  {
   "cell_type": "markdown",
   "metadata": {},
   "source": [
    "## Part 1: Data Inspection & outlier Removal"
   ]
  },
  {
   "cell_type": "code",
   "execution_count": 3,
   "metadata": {
    "scrolled": true
   },
   "outputs": [
    {
     "name": "stdout",
     "output_type": "stream",
     "text": [
      "(10841, 13)\n"
     ]
    }
   ],
   "source": [
    "print(dataSet.shape)"
   ]
  },
  {
   "cell_type": "markdown",
   "metadata": {},
   "source": [
    "The Data has 10841 Records and 13 features."
   ]
  },
  {
   "cell_type": "code",
   "execution_count": 4,
   "metadata": {},
   "outputs": [
    {
     "data": {
      "text/plain": [
       "Rating            1474\n",
       "Current Ver          8\n",
       "Android Ver          3\n",
       "Content Rating       1\n",
       "Type                 1\n",
       "Last Updated         0\n",
       "Genres               0\n",
       "Price                0\n",
       "Installs             0\n",
       "Size                 0\n",
       "Reviews              0\n",
       "Category             0\n",
       "App                  0\n",
       "dtype: int64"
      ]
     },
     "execution_count": 4,
     "metadata": {},
     "output_type": "execute_result"
    }
   ],
   "source": [
    "total = dataSet.isnull().sum().sort_values(ascending=False)\n",
    "total"
   ]
  },
  {
   "cell_type": "markdown",
   "metadata": {},
   "source": [
    "### Rating"
   ]
  },
  {
   "cell_type": "markdown",
   "metadata": {},
   "source": [
    "The rating has the largest number of missing values"
   ]
  },
  {
   "cell_type": "code",
   "execution_count": 5,
   "metadata": {},
   "outputs": [
    {
     "data": {
      "text/plain": [
       "count    9367.000000\n",
       "mean        4.193338\n",
       "std         0.537431\n",
       "min         1.000000\n",
       "25%         4.000000\n",
       "50%         4.300000\n",
       "75%         4.500000\n",
       "max        19.000000\n",
       "Name: Rating, dtype: float64"
      ]
     },
     "execution_count": 5,
     "metadata": {},
     "output_type": "execute_result"
    }
   ],
   "source": [
    "dataSet['Rating'].describe()"
   ]
  },
  {
   "cell_type": "markdown",
   "metadata": {},
   "source": [
    "The describe show that the Rating column has mean of 4.19 , a min of 1 and max of 19.\n",
    "The count of non null values is 9367 which means 10841-9367=1474 null values for the rating."
   ]
  },
  {
   "cell_type": "code",
   "execution_count": 6,
   "metadata": {},
   "outputs": [
    {
     "data": {
      "text/plain": [
       "4.4     1109\n",
       "4.3     1076\n",
       "4.5     1038\n",
       "4.2      952\n",
       "4.6      823\n",
       "4.1      708\n",
       "4.0      568\n",
       "4.7      499\n",
       "3.9      386\n",
       "3.8      303\n",
       "5.0      274\n",
       "3.7      239\n",
       "4.8      234\n",
       "3.6      174\n",
       "3.5      163\n",
       "3.4      128\n",
       "3.3      102\n",
       "4.9       87\n",
       "3.0       83\n",
       "3.1       69\n",
       "3.2       64\n",
       "2.9       45\n",
       "2.8       42\n",
       "2.6       25\n",
       "2.7       25\n",
       "2.5       21\n",
       "2.3       20\n",
       "2.4       19\n",
       "1.0       16\n",
       "2.2       14\n",
       "1.9       13\n",
       "2.0       12\n",
       "2.1        8\n",
       "1.7        8\n",
       "1.8        8\n",
       "1.6        4\n",
       "1.4        3\n",
       "1.5        3\n",
       "1.2        1\n",
       "19.0       1\n",
       "Name: Rating, dtype: int64"
      ]
     },
     "execution_count": 6,
     "metadata": {},
     "output_type": "execute_result"
    }
   ],
   "source": [
    "dataSet['Rating'].value_counts()"
   ]
  },
  {
   "cell_type": "markdown",
   "metadata": {},
   "source": [
    "### <span style=\"color:Green\"> The value 19 is an outlier to the rating range so it will be replaced by nan for now.</span>"
   ]
  },
  {
   "cell_type": "code",
   "execution_count": 7,
   "metadata": {},
   "outputs": [
    {
     "data": {
      "text/html": [
       "<div>\n",
       "<style scoped>\n",
       "    .dataframe tbody tr th:only-of-type {\n",
       "        vertical-align: middle;\n",
       "    }\n",
       "\n",
       "    .dataframe tbody tr th {\n",
       "        vertical-align: top;\n",
       "    }\n",
       "\n",
       "    .dataframe thead th {\n",
       "        text-align: right;\n",
       "    }\n",
       "</style>\n",
       "<table border=\"1\" class=\"dataframe\">\n",
       "  <thead>\n",
       "    <tr style=\"text-align: right;\">\n",
       "      <th></th>\n",
       "      <th>App</th>\n",
       "      <th>Category</th>\n",
       "      <th>Rating</th>\n",
       "      <th>Reviews</th>\n",
       "      <th>Size</th>\n",
       "      <th>Installs</th>\n",
       "      <th>Type</th>\n",
       "      <th>Price</th>\n",
       "      <th>Content Rating</th>\n",
       "      <th>Genres</th>\n",
       "      <th>Last Updated</th>\n",
       "      <th>Current Ver</th>\n",
       "      <th>Android Ver</th>\n",
       "    </tr>\n",
       "  </thead>\n",
       "  <tbody>\n",
       "    <tr>\n",
       "      <th>10472</th>\n",
       "      <td>Life Made WI-Fi Touchscreen Photo Frame</td>\n",
       "      <td>1.9</td>\n",
       "      <td>19.0</td>\n",
       "      <td>3.0M</td>\n",
       "      <td>1,000+</td>\n",
       "      <td>Free</td>\n",
       "      <td>0</td>\n",
       "      <td>Everyone</td>\n",
       "      <td>NaN</td>\n",
       "      <td>February 11, 2018</td>\n",
       "      <td>1.0.19</td>\n",
       "      <td>4.0 and up</td>\n",
       "      <td>NaN</td>\n",
       "    </tr>\n",
       "  </tbody>\n",
       "</table>\n",
       "</div>"
      ],
      "text/plain": [
       "                                           App Category  Rating Reviews  \\\n",
       "10472  Life Made WI-Fi Touchscreen Photo Frame      1.9    19.0    3.0M   \n",
       "\n",
       "         Size Installs Type     Price Content Rating             Genres  \\\n",
       "10472  1,000+     Free    0  Everyone            NaN  February 11, 2018   \n",
       "\n",
       "      Last Updated Current Ver Android Ver  \n",
       "10472       1.0.19  4.0 and up         NaN  "
      ]
     },
     "execution_count": 7,
     "metadata": {},
     "output_type": "execute_result"
    }
   ],
   "source": [
    "dataSet[dataSet['Rating']==19].head()"
   ]
  },
  {
   "cell_type": "code",
   "execution_count": 8,
   "metadata": {},
   "outputs": [
    {
     "data": {
      "text/plain": [
       "1.8    8\n",
       "1.6    4\n",
       "1.4    3\n",
       "1.5    3\n",
       "1.2    1\n",
       "Name: Rating, dtype: int64"
      ]
     },
     "execution_count": 8,
     "metadata": {},
     "output_type": "execute_result"
    }
   ],
   "source": [
    "dataSet['Rating']=dataSet['Rating'].replace(19,np.NaN)\n",
    "dataSet['Rating'].value_counts().tail()"
   ]
  },
  {
   "cell_type": "code",
   "execution_count": 9,
   "metadata": {},
   "outputs": [
    {
     "data": {
      "text/plain": [
       "<matplotlib.axes._subplots.AxesSubplot at 0x7f6442799710>"
      ]
     },
     "execution_count": 9,
     "metadata": {},
     "output_type": "execute_result"
    },
    {
     "data": {
      "image/png": "[encoded data removed]",
      "text/plain": [
       "<Figure size 432x288 with 1 Axes>"
      ]
     },
     "metadata": {
      "needs_background": "light"
     },
     "output_type": "display_data"
    }
   ],
   "source": [
    "dataSet.Rating.dropna().plot(kind='kde', xlim=(0,6))"
   ]
  },
  {
   "cell_type": "markdown",
   "metadata": {},
   "source": [
    "### Conclusion\n",
    "Most app ratings are concentrated between 3-5."
   ]
  },
  {
   "cell_type": "markdown",
   "metadata": {},
   "source": [
    "## Category"
   ]
  },
  {
   "cell_type": "code",
   "execution_count": 10,
   "metadata": {},
   "outputs": [
    {
     "data": {
      "text/plain": [
       "array(['ART_AND_DESIGN', 'AUTO_AND_VEHICLES', 'BEAUTY',\n",
       "       'BOOKS_AND_REFERENCE', 'BUSINESS', 'COMICS', 'COMMUNICATION',\n",
       "       'DATING', 'EDUCATION', 'ENTERTAINMENT', 'EVENTS', 'FINANCE',\n",
       "       'FOOD_AND_DRINK', 'HEALTH_AND_FITNESS', 'HOUSE_AND_HOME',\n",
       "       'LIBRARIES_AND_DEMO', 'LIFESTYLE', 'GAME', 'FAMILY', 'MEDICAL',\n",
       "       'SOCIAL', 'SHOPPING', 'PHOTOGRAPHY', 'SPORTS', 'TRAVEL_AND_LOCAL',\n",
       "       'TOOLS', 'PERSONALIZATION', 'PRODUCTIVITY', 'PARENTING', 'WEATHER',\n",
       "       'VIDEO_PLAYERS', 'NEWS_AND_MAGAZINES', 'MAPS_AND_NAVIGATION',\n",
       "       '1.9'], dtype=object)"
      ]
     },
     "execution_count": 10,
     "metadata": {},
     "output_type": "execute_result"
    }
   ],
   "source": [
    "categories=dataSet['Category'].unique()\n",
    "categories"
   ]
  },
  {
   "cell_type": "code",
   "execution_count": 11,
   "metadata": {},
   "outputs": [
    {
     "data": {
      "text/plain": [
       "count      10841\n",
       "unique        34\n",
       "top       FAMILY\n",
       "freq        1972\n",
       "Name: Category, dtype: object"
      ]
     },
     "execution_count": 11,
     "metadata": {},
     "output_type": "execute_result"
    }
   ],
   "source": [
    "dataSet.describe(include=[np.object])['Category']"
   ]
  },
  {
   "cell_type": "code",
   "execution_count": 12,
   "metadata": {},
   "outputs": [
    {
     "data": {
      "text/plain": [
       "34"
      ]
     },
     "execution_count": 12,
     "metadata": {},
     "output_type": "execute_result"
    }
   ],
   "source": [
    "len(categories)"
   ]
  },
  {
   "cell_type": "code",
   "execution_count": 13,
   "metadata": {},
   "outputs": [
    {
     "data": {
      "text/plain": [
       "FAMILY                 1972\n",
       "GAME                   1144\n",
       "TOOLS                   843\n",
       "MEDICAL                 463\n",
       "BUSINESS                460\n",
       "PRODUCTIVITY            424\n",
       "PERSONALIZATION         392\n",
       "COMMUNICATION           387\n",
       "SPORTS                  384\n",
       "LIFESTYLE               382\n",
       "FINANCE                 366\n",
       "HEALTH_AND_FITNESS      341\n",
       "PHOTOGRAPHY             335\n",
       "SOCIAL                  295\n",
       "NEWS_AND_MAGAZINES      283\n",
       "SHOPPING                260\n",
       "TRAVEL_AND_LOCAL        258\n",
       "DATING                  234\n",
       "BOOKS_AND_REFERENCE     231\n",
       "VIDEO_PLAYERS           175\n",
       "EDUCATION               156\n",
       "ENTERTAINMENT           149\n",
       "MAPS_AND_NAVIGATION     137\n",
       "FOOD_AND_DRINK          127\n",
       "HOUSE_AND_HOME           88\n",
       "LIBRARIES_AND_DEMO       85\n",
       "AUTO_AND_VEHICLES        85\n",
       "WEATHER                  82\n",
       "ART_AND_DESIGN           65\n",
       "EVENTS                   64\n",
       "COMICS                   60\n",
       "PARENTING                60\n",
       "BEAUTY                   53\n",
       "1.9                       1\n",
       "Name: Category, dtype: int64"
      ]
     },
     "execution_count": 13,
     "metadata": {},
     "output_type": "execute_result"
    }
   ],
   "source": [
    "dataSet['Category'].value_counts()"
   ]
  },
  {
   "cell_type": "markdown",
   "metadata": {},
   "source": [
    "#### We have 34 unique Categories\n",
    "#### The 1.9 value is an OUTLIER so its record will be removed"
   ]
  },
  {
   "cell_type": "code",
   "execution_count": 14,
   "metadata": {},
   "outputs": [
    {
     "data": {
      "text/html": [
       "<div>\n",
       "<style scoped>\n",
       "    .dataframe tbody tr th:only-of-type {\n",
       "        vertical-align: middle;\n",
       "    }\n",
       "\n",
       "    .dataframe tbody tr th {\n",
       "        vertical-align: top;\n",
       "    }\n",
       "\n",
       "    .dataframe thead th {\n",
       "        text-align: right;\n",
       "    }\n",
       "</style>\n",
       "<table border=\"1\" class=\"dataframe\">\n",
       "  <thead>\n",
       "    <tr style=\"text-align: right;\">\n",
       "      <th></th>\n",
       "      <th>App</th>\n",
       "      <th>Category</th>\n",
       "      <th>Rating</th>\n",
       "      <th>Reviews</th>\n",
       "      <th>Size</th>\n",
       "      <th>Installs</th>\n",
       "      <th>Type</th>\n",
       "      <th>Price</th>\n",
       "      <th>Content Rating</th>\n",
       "      <th>Genres</th>\n",
       "      <th>Last Updated</th>\n",
       "      <th>Current Ver</th>\n",
       "      <th>Android Ver</th>\n",
       "    </tr>\n",
       "  </thead>\n",
       "  <tbody>\n",
       "    <tr>\n",
       "      <th>10472</th>\n",
       "      <td>Life Made WI-Fi Touchscreen Photo Frame</td>\n",
       "      <td>1.9</td>\n",
       "      <td>NaN</td>\n",
       "      <td>3.0M</td>\n",
       "      <td>1,000+</td>\n",
       "      <td>Free</td>\n",
       "      <td>0</td>\n",
       "      <td>Everyone</td>\n",
       "      <td>NaN</td>\n",
       "      <td>February 11, 2018</td>\n",
       "      <td>1.0.19</td>\n",
       "      <td>4.0 and up</td>\n",
       "      <td>NaN</td>\n",
       "    </tr>\n",
       "  </tbody>\n",
       "</table>\n",
       "</div>"
      ],
      "text/plain": [
       "                                           App Category  Rating Reviews  \\\n",
       "10472  Life Made WI-Fi Touchscreen Photo Frame      1.9     NaN    3.0M   \n",
       "\n",
       "         Size Installs Type     Price Content Rating             Genres  \\\n",
       "10472  1,000+     Free    0  Everyone            NaN  February 11, 2018   \n",
       "\n",
       "      Last Updated Current Ver Android Ver  \n",
       "10472       1.0.19  4.0 and up         NaN  "
      ]
     },
     "execution_count": 14,
     "metadata": {},
     "output_type": "execute_result"
    }
   ],
   "source": [
    "dataSet[dataSet['Category']=='1.9']"
   ]
  },
  {
   "cell_type": "code",
   "execution_count": 15,
   "metadata": {},
   "outputs": [],
   "source": [
    "dataSet=dataSet[dataSet['Category']!='1.9']"
   ]
  },
  {
   "cell_type": "code",
   "execution_count": 16,
   "metadata": {},
   "outputs": [
    {
     "data": {
      "text/plain": [
       "ART_AND_DESIGN    65\n",
       "EVENTS            64\n",
       "COMICS            60\n",
       "PARENTING         60\n",
       "BEAUTY            53\n",
       "Name: Category, dtype: int64"
      ]
     },
     "execution_count": 16,
     "metadata": {},
     "output_type": "execute_result"
    }
   ],
   "source": [
    "dataSet['Category'].value_counts().tail()"
   ]
  },
  {
   "cell_type": "markdown",
   "metadata": {},
   "source": [
    "#### Category 1.9 is now removed"
   ]
  },
  {
   "cell_type": "code",
   "execution_count": 17,
   "metadata": {},
   "outputs": [
    {
     "data": {
      "text/plain": [
       "<matplotlib.axes._subplots.AxesSubplot at 0x7f644182d710>"
      ]
     },
     "execution_count": 17,
     "metadata": {},
     "output_type": "execute_result"
    },
    {
     "data": {
      "image/png": "[encoded data removed]",
      "text/plain": [
       "<Figure size 432x288 with 1 Axes>"
      ]
     },
     "metadata": {
      "needs_background": "light"
     },
     "output_type": "display_data"
    }
   ],
   "source": [
    "dataSet['Category'].value_counts().plot(kind='bar')"
   ]
  },
  {
   "cell_type": "markdown",
   "metadata": {},
   "source": [
    "#### The family category is the most frequent category."
   ]
  },
  {
   "cell_type": "markdown",
   "metadata": {},
   "source": [
    "### Genres"
   ]
  },
  {
   "cell_type": "code",
   "execution_count": 18,
   "metadata": {},
   "outputs": [
    {
     "data": {
      "text/plain": [
       "array(['Art & Design', 'Art & Design;Pretend Play',\n",
       "       'Art & Design;Creativity', 'Art & Design;Action & Adventure',\n",
       "       'Auto & Vehicles', 'Beauty', 'Books & Reference', 'Business',\n",
       "       'Comics', 'Comics;Creativity', 'Communication', 'Dating',\n",
       "       'Education;Education', 'Education', 'Education;Creativity',\n",
       "       'Education;Music & Video', 'Education;Action & Adventure',\n",
       "       'Education;Pretend Play', 'Education;Brain Games', 'Entertainment',\n",
       "       'Entertainment;Music & Video', 'Entertainment;Brain Games',\n",
       "       'Entertainment;Creativity', 'Events', 'Finance', 'Food & Drink',\n",
       "       'Health & Fitness', 'House & Home', 'Libraries & Demo',\n",
       "       'Lifestyle', 'Lifestyle;Pretend Play',\n",
       "       'Adventure;Action & Adventure', 'Arcade', 'Casual', 'Card',\n",
       "       'Casual;Pretend Play', 'Action', 'Strategy', 'Puzzle', 'Sports',\n",
       "       'Music', 'Word', 'Racing', 'Casual;Creativity',\n",
       "       'Casual;Action & Adventure', 'Simulation', 'Adventure', 'Board',\n",
       "       'Trivia', 'Role Playing', 'Simulation;Education',\n",
       "       'Action;Action & Adventure', 'Casual;Brain Games',\n",
       "       'Simulation;Action & Adventure', 'Educational;Creativity',\n",
       "       'Puzzle;Brain Games', 'Educational;Education', 'Card;Brain Games',\n",
       "       'Educational;Brain Games', 'Educational;Pretend Play',\n",
       "       'Entertainment;Education', 'Casual;Education',\n",
       "       'Music;Music & Video', 'Racing;Action & Adventure',\n",
       "       'Arcade;Pretend Play', 'Role Playing;Action & Adventure',\n",
       "       'Simulation;Pretend Play', 'Puzzle;Creativity',\n",
       "       'Sports;Action & Adventure', 'Educational;Action & Adventure',\n",
       "       'Arcade;Action & Adventure', 'Entertainment;Action & Adventure',\n",
       "       'Puzzle;Action & Adventure', 'Strategy;Action & Adventure',\n",
       "       'Music & Audio;Music & Video', 'Health & Fitness;Education',\n",
       "       'Adventure;Education', 'Board;Brain Games',\n",
       "       'Board;Action & Adventure', 'Board;Pretend Play',\n",
       "       'Casual;Music & Video', 'Role Playing;Pretend Play',\n",
       "       'Entertainment;Pretend Play', 'Video Players & Editors;Creativity',\n",
       "       'Card;Action & Adventure', 'Medical', 'Social', 'Shopping',\n",
       "       'Photography', 'Travel & Local',\n",
       "       'Travel & Local;Action & Adventure', 'Tools', 'Tools;Education',\n",
       "       'Personalization', 'Productivity', 'Parenting',\n",
       "       'Parenting;Music & Video', 'Parenting;Education',\n",
       "       'Parenting;Brain Games', 'Weather', 'Video Players & Editors',\n",
       "       'Video Players & Editors;Music & Video', 'News & Magazines',\n",
       "       'Maps & Navigation', 'Health & Fitness;Action & Adventure',\n",
       "       'Educational', 'Casino', 'Adventure;Brain Games',\n",
       "       'Trivia;Education', 'Lifestyle;Education',\n",
       "       'Books & Reference;Creativity', 'Books & Reference;Education',\n",
       "       'Puzzle;Education', 'Role Playing;Education',\n",
       "       'Role Playing;Brain Games', 'Strategy;Education',\n",
       "       'Racing;Pretend Play', 'Communication;Creativity',\n",
       "       'Strategy;Creativity'], dtype=object)"
      ]
     },
     "execution_count": 18,
     "metadata": {},
     "output_type": "execute_result"
    }
   ],
   "source": [
    "Genres=dataSet['Genres'].unique()\n",
    "Genres"
   ]
  },
  {
   "cell_type": "code",
   "execution_count": 19,
   "metadata": {},
   "outputs": [
    {
     "data": {
      "text/plain": [
       "count     10840\n",
       "unique      119\n",
       "top       Tools\n",
       "freq        842\n",
       "Name: Genres, dtype: object"
      ]
     },
     "execution_count": 19,
     "metadata": {},
     "output_type": "execute_result"
    }
   ],
   "source": [
    "dataSet.describe(include=[np.object])['Genres']"
   ]
  },
  {
   "cell_type": "code",
   "execution_count": 20,
   "metadata": {},
   "outputs": [
    {
     "data": {
      "text/plain": [
       "Tools                                  842\n",
       "Entertainment                          623\n",
       "Education                              549\n",
       "Medical                                463\n",
       "Business                               460\n",
       "Productivity                           424\n",
       "Sports                                 398\n",
       "Personalization                        392\n",
       "Communication                          387\n",
       "Lifestyle                              381\n",
       "Finance                                366\n",
       "Action                                 365\n",
       "Health & Fitness                       341\n",
       "Photography                            335\n",
       "Social                                 295\n",
       "News & Magazines                       283\n",
       "Shopping                               260\n",
       "Travel & Local                         257\n",
       "Dating                                 234\n",
       "Books & Reference                      231\n",
       "Arcade                                 220\n",
       "Simulation                             200\n",
       "Casual                                 193\n",
       "Video Players & Editors                173\n",
       "Puzzle                                 140\n",
       "Maps & Navigation                      137\n",
       "Food & Drink                           127\n",
       "Role Playing                           109\n",
       "Strategy                               107\n",
       "Racing                                  98\n",
       "                                      ... \n",
       "Books & Reference;Education              2\n",
       "Card;Action & Adventure                  2\n",
       "Art & Design;Action & Adventure          2\n",
       "Art & Design;Pretend Play                2\n",
       "Puzzle;Creativity                        2\n",
       "Strategy;Action & Adventure              2\n",
       "Casual;Music & Video                     2\n",
       "Adventure;Brain Games                    1\n",
       "Communication;Creativity                 1\n",
       "Books & Reference;Creativity             1\n",
       "Strategy;Education                       1\n",
       "Music & Audio;Music & Video              1\n",
       "Entertainment;Education                  1\n",
       "Lifestyle;Pretend Play                   1\n",
       "Health & Fitness;Education               1\n",
       "Racing;Pretend Play                      1\n",
       "Travel & Local;Action & Adventure        1\n",
       "Role Playing;Brain Games                 1\n",
       "Role Playing;Education                   1\n",
       "Health & Fitness;Action & Adventure      1\n",
       "Comics;Creativity                        1\n",
       "Lifestyle;Education                      1\n",
       "Trivia;Education                         1\n",
       "Card;Brain Games                         1\n",
       "Strategy;Creativity                      1\n",
       "Parenting;Brain Games                    1\n",
       "Arcade;Pretend Play                      1\n",
       "Tools;Education                          1\n",
       "Board;Pretend Play                       1\n",
       "Puzzle;Education                         1\n",
       "Name: Genres, Length: 119, dtype: int64"
      ]
     },
     "execution_count": 20,
     "metadata": {},
     "output_type": "execute_result"
    }
   ],
   "source": [
    "dataSet['Genres'].value_counts()"
   ]
  },
  {
   "cell_type": "markdown",
   "metadata": {},
   "source": [
    "#### <span style=\"color:Red\">  As seen the sub-genres (ones after;) in some cases have very low frequencies, so the sub-genres will be removed and will only leave main genres in order no to affect the rating distribution.</span>"
   ]
  },
  {
   "cell_type": "code",
   "execution_count": 21,
   "metadata": {},
   "outputs": [],
   "source": [
    "dataSet['Genres'] = dataSet['Genres'].str.split(';').str[0]"
   ]
  },
  {
   "cell_type": "code",
   "execution_count": 22,
   "metadata": {},
   "outputs": [
    {
     "data": {
      "text/plain": [
       "Tools                      843\n",
       "Entertainment              667\n",
       "Education                  645\n",
       "Medical                    463\n",
       "Business                   460\n",
       "Productivity               424\n",
       "Sports                     402\n",
       "Personalization            392\n",
       "Communication              388\n",
       "Lifestyle                  383\n",
       "Action                     382\n",
       "Finance                    366\n",
       "Health & Fitness           343\n",
       "Photography                335\n",
       "Social                     295\n",
       "News & Magazines           283\n",
       "Casual                     270\n",
       "Shopping                   260\n",
       "Travel & Local             258\n",
       "Arcade                     237\n",
       "Books & Reference          234\n",
       "Dating                     234\n",
       "Simulation                 218\n",
       "Video Players & Editors    178\n",
       "Puzzle                     167\n",
       "Maps & Navigation          137\n",
       "Food & Drink               127\n",
       "Role Playing               123\n",
       "Racing                     119\n",
       "Educational                112\n",
       "Strategy                   111\n",
       "Adventure                   91\n",
       "House & Home                88\n",
       "Auto & Vehicles             85\n",
       "Libraries & Demo            85\n",
       "Weather                     82\n",
       "Art & Design                69\n",
       "Events                      64\n",
       "Board                       63\n",
       "Comics                      60\n",
       "Parenting                   60\n",
       "Beauty                      53\n",
       "Card                        51\n",
       "Casino                      39\n",
       "Trivia                      39\n",
       "Word                        29\n",
       "Music                       25\n",
       "Music & Audio                1\n",
       "Name: Genres, dtype: int64"
      ]
     },
     "execution_count": 22,
     "metadata": {},
     "output_type": "execute_result"
    }
   ],
   "source": [
    "dataSet['Genres'].value_counts()"
   ]
  },
  {
   "cell_type": "markdown",
   "metadata": {},
   "source": [
    "#### <span style=\"color:blue\">Music and Audio is considered as an outlier, so it will be replaced by Music</span>"
   ]
  },
  {
   "cell_type": "code",
   "execution_count": 23,
   "metadata": {},
   "outputs": [
    {
     "data": {
      "text/html": [
       "<div>\n",
       "<style scoped>\n",
       "    .dataframe tbody tr th:only-of-type {\n",
       "        vertical-align: middle;\n",
       "    }\n",
       "\n",
       "    .dataframe tbody tr th {\n",
       "        vertical-align: top;\n",
       "    }\n",
       "\n",
       "    .dataframe thead th {\n",
       "        text-align: right;\n",
       "    }\n",
       "</style>\n",
       "<table border=\"1\" class=\"dataframe\">\n",
       "  <thead>\n",
       "    <tr style=\"text-align: right;\">\n",
       "      <th></th>\n",
       "      <th>App</th>\n",
       "      <th>Category</th>\n",
       "      <th>Rating</th>\n",
       "      <th>Reviews</th>\n",
       "      <th>Size</th>\n",
       "      <th>Installs</th>\n",
       "      <th>Type</th>\n",
       "      <th>Price</th>\n",
       "      <th>Content Rating</th>\n",
       "      <th>Genres</th>\n",
       "      <th>Last Updated</th>\n",
       "      <th>Current Ver</th>\n",
       "      <th>Android Ver</th>\n",
       "    </tr>\n",
       "  </thead>\n",
       "  <tbody>\n",
       "    <tr>\n",
       "      <th>2142</th>\n",
       "      <td>Toy Guitar with songs for kids</td>\n",
       "      <td>FAMILY</td>\n",
       "      <td>4.3</td>\n",
       "      <td>1369</td>\n",
       "      <td>9.8M</td>\n",
       "      <td>500,000+</td>\n",
       "      <td>Free</td>\n",
       "      <td>0</td>\n",
       "      <td>Everyone</td>\n",
       "      <td>Music &amp; Audio</td>\n",
       "      <td>March 5, 2016</td>\n",
       "      <td>1.0.3</td>\n",
       "      <td>2.3 and up</td>\n",
       "    </tr>\n",
       "  </tbody>\n",
       "</table>\n",
       "</div>"
      ],
      "text/plain": [
       "                                 App Category  Rating Reviews  Size  Installs  \\\n",
       "2142  Toy Guitar with songs for kids   FAMILY     4.3    1369  9.8M  500,000+   \n",
       "\n",
       "      Type Price Content Rating         Genres   Last Updated Current Ver  \\\n",
       "2142  Free     0       Everyone  Music & Audio  March 5, 2016       1.0.3   \n",
       "\n",
       "     Android Ver  \n",
       "2142  2.3 and up  "
      ]
     },
     "execution_count": 23,
     "metadata": {},
     "output_type": "execute_result"
    }
   ],
   "source": [
    "dataSet[dataSet['Genres']=='Music & Audio']"
   ]
  },
  {
   "cell_type": "code",
   "execution_count": 24,
   "metadata": {},
   "outputs": [],
   "source": [
    "newGenres=dataSet['Genres'].replace(to_replace='Music & Audio',value=\"Music\")"
   ]
  },
  {
   "cell_type": "code",
   "execution_count": 25,
   "metadata": {},
   "outputs": [],
   "source": [
    "dataSet['Genres']=newGenres"
   ]
  },
  {
   "cell_type": "code",
   "execution_count": 26,
   "metadata": {},
   "outputs": [
    {
     "data": {
      "text/plain": [
       "Card      51\n",
       "Casino    39\n",
       "Trivia    39\n",
       "Word      29\n",
       "Music     26\n",
       "Name: Genres, dtype: int64"
      ]
     },
     "execution_count": 26,
     "metadata": {},
     "output_type": "execute_result"
    }
   ],
   "source": [
    "dataSet['Genres'].value_counts().tail()"
   ]
  },
  {
   "cell_type": "code",
   "execution_count": 27,
   "metadata": {},
   "outputs": [
    {
     "data": {
      "text/plain": [
       "array(['Art & Design', 'Auto & Vehicles', 'Beauty', 'Books & Reference',\n",
       "       'Business', 'Comics', 'Communication', 'Dating', 'Education',\n",
       "       'Entertainment', 'Events', 'Finance', 'Food & Drink',\n",
       "       'Health & Fitness', 'House & Home', 'Libraries & Demo',\n",
       "       'Lifestyle', 'Adventure', 'Arcade', 'Casual', 'Card', 'Action',\n",
       "       'Strategy', 'Puzzle', 'Sports', 'Music', 'Word', 'Racing',\n",
       "       'Simulation', 'Board', 'Trivia', 'Role Playing', 'Educational',\n",
       "       'Video Players & Editors', 'Medical', 'Social', 'Shopping',\n",
       "       'Photography', 'Travel & Local', 'Tools', 'Personalization',\n",
       "       'Productivity', 'Parenting', 'Weather', 'News & Magazines',\n",
       "       'Maps & Navigation', 'Casino'], dtype=object)"
      ]
     },
     "execution_count": 27,
     "metadata": {},
     "output_type": "execute_result"
    }
   ],
   "source": [
    "dataSet['Genres'].unique()"
   ]
  },
  {
   "cell_type": "code",
   "execution_count": 28,
   "metadata": {},
   "outputs": [
    {
     "data": {
      "text/plain": [
       "47"
      ]
     },
     "execution_count": 28,
     "metadata": {},
     "output_type": "execute_result"
    }
   ],
   "source": [
    "len(dataSet['Genres'].unique())"
   ]
  },
  {
   "cell_type": "code",
   "execution_count": 29,
   "metadata": {},
   "outputs": [
    {
     "data": {
      "text/plain": [
       "<matplotlib.axes._subplots.AxesSubplot at 0x7f6441723cf8>"
      ]
     },
     "execution_count": 29,
     "metadata": {},
     "output_type": "execute_result"
    },
    {
     "data": {
      "image/png": "[encoded data removed]",
      "text/plain": [
       "<Figure size 720x360 with 1 Axes>"
      ]
     },
     "metadata": {
      "needs_background": "light"
     },
     "output_type": "display_data"
    }
   ],
   "source": [
    "dataSet['Genres'].value_counts().plot(kind='bar', figsize=(10,5))"
   ]
  },
  {
   "cell_type": "markdown",
   "metadata": {},
   "source": [
    "#### <span style=\"color:green\">Music and Audio is replaced by Music</span>"
   ]
  },
  {
   "cell_type": "markdown",
   "metadata": {},
   "source": [
    "## Relation between Category and Genres with Rating"
   ]
  },
  {
   "cell_type": "markdown",
   "metadata": {},
   "source": [
    "### Imputing the Null values of Rating by cluster mean based on the Category attribute   "
   ]
  },
  {
   "cell_type": "code",
   "execution_count": 30,
   "metadata": {},
   "outputs": [],
   "source": [
    "# first we group the rows by Category\n",
    "groupedDataSet= dataSet.groupby([\"Category\"],as_index=False)"
   ]
  },
  {
   "cell_type": "code",
   "execution_count": 31,
   "metadata": {},
   "outputs": [],
   "source": [
    "# Then we aggregate Rating per Category by MEAN\n",
    "aggregatedData=groupedDataSet.aggregate({\"Rating\":'mean'})"
   ]
  },
  {
   "cell_type": "code",
   "execution_count": 32,
   "metadata": {},
   "outputs": [
    {
     "data": {
      "text/plain": [
       "0     4.358065\n",
       "1     4.190411\n",
       "2     4.278571\n",
       "3     4.346067\n",
       "4     4.121452\n",
       "5     4.155172\n",
       "6     4.158537\n",
       "7     3.970769\n",
       "8     4.389032\n",
       "9     4.126174\n",
       "10    4.435556\n",
       "11    4.192272\n",
       "12    4.131889\n",
       "13    4.166972\n",
       "14    4.286326\n",
       "15    4.277104\n",
       "16    4.197368\n",
       "17    4.178462\n",
       "18    4.094904\n",
       "19    4.051613\n",
       "20    4.189143\n",
       "21    4.132189\n",
       "22    4.300000\n",
       "23    4.335987\n",
       "24    4.192114\n",
       "25    4.211396\n",
       "26    4.259664\n",
       "27    4.255598\n",
       "28    4.223511\n",
       "29    4.047411\n",
       "30    4.109292\n",
       "31    4.063750\n",
       "32    4.244000\n",
       "Name: Rating, dtype: float64"
      ]
     },
     "execution_count": 32,
     "metadata": {},
     "output_type": "execute_result"
    }
   ],
   "source": [
    "aggregatedData.Rating"
   ]
  },
  {
   "cell_type": "code",
   "execution_count": 33,
   "metadata": {},
   "outputs": [],
   "source": [
    "def getRatingValue(data,category):\n",
    "    for row in data.iterrows():\n",
    "        #print(row[1].Category)\n",
    "        if(row[1].Category==category):\n",
    "            return row[1].Rating"
   ]
  },
  {
   "cell_type": "code",
   "execution_count": 34,
   "metadata": {},
   "outputs": [],
   "source": [
    "RatingImputed = [] # define array structure\n",
    "for row in dataSet.iterrows():\n",
    "    rating=row[1].Rating\n",
    "    #print('old',rating)\n",
    "    if(pd.isnull(rating)):\n",
    "        rating=getRatingValue(aggregatedData,row[1].Category)\n",
    "        round(rating,1)\n",
    "        #print('new',rating)\n",
    "    RatingImputed.append(round(rating,1))"
   ]
  },
  {
   "cell_type": "code",
   "execution_count": 35,
   "metadata": {},
   "outputs": [
    {
     "data": {
      "text/html": [
       "<div>\n",
       "<style scoped>\n",
       "    .dataframe tbody tr th:only-of-type {\n",
       "        vertical-align: middle;\n",
       "    }\n",
       "\n",
       "    .dataframe tbody tr th {\n",
       "        vertical-align: top;\n",
       "    }\n",
       "\n",
       "    .dataframe thead th {\n",
       "        text-align: right;\n",
       "    }\n",
       "</style>\n",
       "<table border=\"1\" class=\"dataframe\">\n",
       "  <thead>\n",
       "    <tr style=\"text-align: right;\">\n",
       "      <th></th>\n",
       "      <th>App</th>\n",
       "      <th>Category</th>\n",
       "      <th>Rating</th>\n",
       "      <th>Reviews</th>\n",
       "      <th>Size</th>\n",
       "      <th>Installs</th>\n",
       "      <th>Type</th>\n",
       "      <th>Price</th>\n",
       "      <th>Content Rating</th>\n",
       "      <th>Genres</th>\n",
       "      <th>Last Updated</th>\n",
       "      <th>Current Ver</th>\n",
       "      <th>Android Ver</th>\n",
       "    </tr>\n",
       "  </thead>\n",
       "  <tbody>\n",
       "    <tr>\n",
       "      <th>0</th>\n",
       "      <td>Photo Editor &amp; Candy Camera &amp; Grid &amp; ScrapBook</td>\n",
       "      <td>ART_AND_DESIGN</td>\n",
       "      <td>4.1</td>\n",
       "      <td>159</td>\n",
       "      <td>19M</td>\n",
       "      <td>10,000+</td>\n",
       "      <td>Free</td>\n",
       "      <td>0</td>\n",
       "      <td>Everyone</td>\n",
       "      <td>Art &amp; Design</td>\n",
       "      <td>January 7, 2018</td>\n",
       "      <td>1.0.0</td>\n",
       "      <td>4.0.3 and up</td>\n",
       "    </tr>\n",
       "    <tr>\n",
       "      <th>1</th>\n",
       "      <td>Coloring book moana</td>\n",
       "      <td>ART_AND_DESIGN</td>\n",
       "      <td>3.9</td>\n",
       "      <td>967</td>\n",
       "      <td>14M</td>\n",
       "      <td>500,000+</td>\n",
       "      <td>Free</td>\n",
       "      <td>0</td>\n",
       "      <td>Everyone</td>\n",
       "      <td>Art &amp; Design</td>\n",
       "      <td>January 15, 2018</td>\n",
       "      <td>2.0.0</td>\n",
       "      <td>4.0.3 and up</td>\n",
       "    </tr>\n",
       "    <tr>\n",
       "      <th>2</th>\n",
       "      <td>U Launcher Lite – FREE Live Cool Themes, Hide ...</td>\n",
       "      <td>ART_AND_DESIGN</td>\n",
       "      <td>4.7</td>\n",
       "      <td>87510</td>\n",
       "      <td>8.7M</td>\n",
       "      <td>5,000,000+</td>\n",
       "      <td>Free</td>\n",
       "      <td>0</td>\n",
       "      <td>Everyone</td>\n",
       "      <td>Art &amp; Design</td>\n",
       "      <td>August 1, 2018</td>\n",
       "      <td>1.2.4</td>\n",
       "      <td>4.0.3 and up</td>\n",
       "    </tr>\n",
       "    <tr>\n",
       "      <th>3</th>\n",
       "      <td>Sketch - Draw &amp; Paint</td>\n",
       "      <td>ART_AND_DESIGN</td>\n",
       "      <td>4.5</td>\n",
       "      <td>215644</td>\n",
       "      <td>25M</td>\n",
       "      <td>50,000,000+</td>\n",
       "      <td>Free</td>\n",
       "      <td>0</td>\n",
       "      <td>Teen</td>\n",
       "      <td>Art &amp; Design</td>\n",
       "      <td>June 8, 2018</td>\n",
       "      <td>Varies with device</td>\n",
       "      <td>4.2 and up</td>\n",
       "    </tr>\n",
       "    <tr>\n",
       "      <th>4</th>\n",
       "      <td>Pixel Draw - Number Art Coloring Book</td>\n",
       "      <td>ART_AND_DESIGN</td>\n",
       "      <td>4.3</td>\n",
       "      <td>967</td>\n",
       "      <td>2.8M</td>\n",
       "      <td>100,000+</td>\n",
       "      <td>Free</td>\n",
       "      <td>0</td>\n",
       "      <td>Everyone</td>\n",
       "      <td>Art &amp; Design</td>\n",
       "      <td>June 20, 2018</td>\n",
       "      <td>1.1</td>\n",
       "      <td>4.4 and up</td>\n",
       "    </tr>\n",
       "    <tr>\n",
       "      <th>5</th>\n",
       "      <td>Paper flowers instructions</td>\n",
       "      <td>ART_AND_DESIGN</td>\n",
       "      <td>4.4</td>\n",
       "      <td>167</td>\n",
       "      <td>5.6M</td>\n",
       "      <td>50,000+</td>\n",
       "      <td>Free</td>\n",
       "      <td>0</td>\n",
       "      <td>Everyone</td>\n",
       "      <td>Art &amp; Design</td>\n",
       "      <td>March 26, 2017</td>\n",
       "      <td>1.0</td>\n",
       "      <td>2.3 and up</td>\n",
       "    </tr>\n",
       "    <tr>\n",
       "      <th>6</th>\n",
       "      <td>Smoke Effect Photo Maker - Smoke Editor</td>\n",
       "      <td>ART_AND_DESIGN</td>\n",
       "      <td>3.8</td>\n",
       "      <td>178</td>\n",
       "      <td>19M</td>\n",
       "      <td>50,000+</td>\n",
       "      <td>Free</td>\n",
       "      <td>0</td>\n",
       "      <td>Everyone</td>\n",
       "      <td>Art &amp; Design</td>\n",
       "      <td>April 26, 2018</td>\n",
       "      <td>1.1</td>\n",
       "      <td>4.0.3 and up</td>\n",
       "    </tr>\n",
       "    <tr>\n",
       "      <th>7</th>\n",
       "      <td>Infinite Painter</td>\n",
       "      <td>ART_AND_DESIGN</td>\n",
       "      <td>4.1</td>\n",
       "      <td>36815</td>\n",
       "      <td>29M</td>\n",
       "      <td>1,000,000+</td>\n",
       "      <td>Free</td>\n",
       "      <td>0</td>\n",
       "      <td>Everyone</td>\n",
       "      <td>Art &amp; Design</td>\n",
       "      <td>June 14, 2018</td>\n",
       "      <td>6.1.61.1</td>\n",
       "      <td>4.2 and up</td>\n",
       "    </tr>\n",
       "    <tr>\n",
       "      <th>8</th>\n",
       "      <td>Garden Coloring Book</td>\n",
       "      <td>ART_AND_DESIGN</td>\n",
       "      <td>4.4</td>\n",
       "      <td>13791</td>\n",
       "      <td>33M</td>\n",
       "      <td>1,000,000+</td>\n",
       "      <td>Free</td>\n",
       "      <td>0</td>\n",
       "      <td>Everyone</td>\n",
       "      <td>Art &amp; Design</td>\n",
       "      <td>September 20, 2017</td>\n",
       "      <td>2.9.2</td>\n",
       "      <td>3.0 and up</td>\n",
       "    </tr>\n",
       "    <tr>\n",
       "      <th>9</th>\n",
       "      <td>Kids Paint Free - Drawing Fun</td>\n",
       "      <td>ART_AND_DESIGN</td>\n",
       "      <td>4.7</td>\n",
       "      <td>121</td>\n",
       "      <td>3.1M</td>\n",
       "      <td>10,000+</td>\n",
       "      <td>Free</td>\n",
       "      <td>0</td>\n",
       "      <td>Everyone</td>\n",
       "      <td>Art &amp; Design</td>\n",
       "      <td>July 3, 2018</td>\n",
       "      <td>2.8</td>\n",
       "      <td>4.0.3 and up</td>\n",
       "    </tr>\n",
       "    <tr>\n",
       "      <th>10</th>\n",
       "      <td>Text on Photo - Fonteee</td>\n",
       "      <td>ART_AND_DESIGN</td>\n",
       "      <td>4.4</td>\n",
       "      <td>13880</td>\n",
       "      <td>28M</td>\n",
       "      <td>1,000,000+</td>\n",
       "      <td>Free</td>\n",
       "      <td>0</td>\n",
       "      <td>Everyone</td>\n",
       "      <td>Art &amp; Design</td>\n",
       "      <td>October 27, 2017</td>\n",
       "      <td>1.0.4</td>\n",
       "      <td>4.1 and up</td>\n",
       "    </tr>\n",
       "    <tr>\n",
       "      <th>11</th>\n",
       "      <td>Name Art Photo Editor - Focus n Filters</td>\n",
       "      <td>ART_AND_DESIGN</td>\n",
       "      <td>4.4</td>\n",
       "      <td>8788</td>\n",
       "      <td>12M</td>\n",
       "      <td>1,000,000+</td>\n",
       "      <td>Free</td>\n",
       "      <td>0</td>\n",
       "      <td>Everyone</td>\n",
       "      <td>Art &amp; Design</td>\n",
       "      <td>July 31, 2018</td>\n",
       "      <td>1.0.15</td>\n",
       "      <td>4.0 and up</td>\n",
       "    </tr>\n",
       "    <tr>\n",
       "      <th>12</th>\n",
       "      <td>Tattoo Name On My Photo Editor</td>\n",
       "      <td>ART_AND_DESIGN</td>\n",
       "      <td>4.2</td>\n",
       "      <td>44829</td>\n",
       "      <td>20M</td>\n",
       "      <td>10,000,000+</td>\n",
       "      <td>Free</td>\n",
       "      <td>0</td>\n",
       "      <td>Teen</td>\n",
       "      <td>Art &amp; Design</td>\n",
       "      <td>April 2, 2018</td>\n",
       "      <td>3.8</td>\n",
       "      <td>4.1 and up</td>\n",
       "    </tr>\n",
       "    <tr>\n",
       "      <th>13</th>\n",
       "      <td>Mandala Coloring Book</td>\n",
       "      <td>ART_AND_DESIGN</td>\n",
       "      <td>4.6</td>\n",
       "      <td>4326</td>\n",
       "      <td>21M</td>\n",
       "      <td>100,000+</td>\n",
       "      <td>Free</td>\n",
       "      <td>0</td>\n",
       "      <td>Everyone</td>\n",
       "      <td>Art &amp; Design</td>\n",
       "      <td>June 26, 2018</td>\n",
       "      <td>1.0.4</td>\n",
       "      <td>4.4 and up</td>\n",
       "    </tr>\n",
       "    <tr>\n",
       "      <th>14</th>\n",
       "      <td>3D Color Pixel by Number - Sandbox Art Coloring</td>\n",
       "      <td>ART_AND_DESIGN</td>\n",
       "      <td>4.4</td>\n",
       "      <td>1518</td>\n",
       "      <td>37M</td>\n",
       "      <td>100,000+</td>\n",
       "      <td>Free</td>\n",
       "      <td>0</td>\n",
       "      <td>Everyone</td>\n",
       "      <td>Art &amp; Design</td>\n",
       "      <td>August 3, 2018</td>\n",
       "      <td>1.2.3</td>\n",
       "      <td>2.3 and up</td>\n",
       "    </tr>\n",
       "    <tr>\n",
       "      <th>15</th>\n",
       "      <td>Learn To Draw Kawaii Characters</td>\n",
       "      <td>ART_AND_DESIGN</td>\n",
       "      <td>3.2</td>\n",
       "      <td>55</td>\n",
       "      <td>2.7M</td>\n",
       "      <td>5,000+</td>\n",
       "      <td>Free</td>\n",
       "      <td>0</td>\n",
       "      <td>Everyone</td>\n",
       "      <td>Art &amp; Design</td>\n",
       "      <td>June 6, 2018</td>\n",
       "      <td>NaN</td>\n",
       "      <td>4.2 and up</td>\n",
       "    </tr>\n",
       "    <tr>\n",
       "      <th>16</th>\n",
       "      <td>Photo Designer - Write your name with shapes</td>\n",
       "      <td>ART_AND_DESIGN</td>\n",
       "      <td>4.7</td>\n",
       "      <td>3632</td>\n",
       "      <td>5.5M</td>\n",
       "      <td>500,000+</td>\n",
       "      <td>Free</td>\n",
       "      <td>0</td>\n",
       "      <td>Everyone</td>\n",
       "      <td>Art &amp; Design</td>\n",
       "      <td>July 31, 2018</td>\n",
       "      <td>3.1</td>\n",
       "      <td>4.1 and up</td>\n",
       "    </tr>\n",
       "    <tr>\n",
       "      <th>17</th>\n",
       "      <td>350 Diy Room Decor Ideas</td>\n",
       "      <td>ART_AND_DESIGN</td>\n",
       "      <td>4.5</td>\n",
       "      <td>27</td>\n",
       "      <td>17M</td>\n",
       "      <td>10,000+</td>\n",
       "      <td>Free</td>\n",
       "      <td>0</td>\n",
       "      <td>Everyone</td>\n",
       "      <td>Art &amp; Design</td>\n",
       "      <td>November 7, 2017</td>\n",
       "      <td>1.0</td>\n",
       "      <td>2.3 and up</td>\n",
       "    </tr>\n",
       "    <tr>\n",
       "      <th>18</th>\n",
       "      <td>FlipaClip - Cartoon animation</td>\n",
       "      <td>ART_AND_DESIGN</td>\n",
       "      <td>4.3</td>\n",
       "      <td>194216</td>\n",
       "      <td>39M</td>\n",
       "      <td>5,000,000+</td>\n",
       "      <td>Free</td>\n",
       "      <td>0</td>\n",
       "      <td>Everyone</td>\n",
       "      <td>Art &amp; Design</td>\n",
       "      <td>August 3, 2018</td>\n",
       "      <td>2.2.5</td>\n",
       "      <td>4.0.3 and up</td>\n",
       "    </tr>\n",
       "    <tr>\n",
       "      <th>19</th>\n",
       "      <td>ibis Paint X</td>\n",
       "      <td>ART_AND_DESIGN</td>\n",
       "      <td>4.6</td>\n",
       "      <td>224399</td>\n",
       "      <td>31M</td>\n",
       "      <td>10,000,000+</td>\n",
       "      <td>Free</td>\n",
       "      <td>0</td>\n",
       "      <td>Everyone</td>\n",
       "      <td>Art &amp; Design</td>\n",
       "      <td>July 30, 2018</td>\n",
       "      <td>5.5.4</td>\n",
       "      <td>4.1 and up</td>\n",
       "    </tr>\n",
       "    <tr>\n",
       "      <th>20</th>\n",
       "      <td>Logo Maker - Small Business</td>\n",
       "      <td>ART_AND_DESIGN</td>\n",
       "      <td>4.0</td>\n",
       "      <td>450</td>\n",
       "      <td>14M</td>\n",
       "      <td>100,000+</td>\n",
       "      <td>Free</td>\n",
       "      <td>0</td>\n",
       "      <td>Everyone</td>\n",
       "      <td>Art &amp; Design</td>\n",
       "      <td>April 20, 2018</td>\n",
       "      <td>4.0</td>\n",
       "      <td>4.1 and up</td>\n",
       "    </tr>\n",
       "    <tr>\n",
       "      <th>21</th>\n",
       "      <td>Boys Photo Editor - Six Pack &amp; Men's Suit</td>\n",
       "      <td>ART_AND_DESIGN</td>\n",
       "      <td>4.1</td>\n",
       "      <td>654</td>\n",
       "      <td>12M</td>\n",
       "      <td>100,000+</td>\n",
       "      <td>Free</td>\n",
       "      <td>0</td>\n",
       "      <td>Everyone</td>\n",
       "      <td>Art &amp; Design</td>\n",
       "      <td>March 20, 2018</td>\n",
       "      <td>1.1</td>\n",
       "      <td>4.0.3 and up</td>\n",
       "    </tr>\n",
       "    <tr>\n",
       "      <th>22</th>\n",
       "      <td>Superheroes Wallpapers | 4K Backgrounds</td>\n",
       "      <td>ART_AND_DESIGN</td>\n",
       "      <td>4.7</td>\n",
       "      <td>7699</td>\n",
       "      <td>4.2M</td>\n",
       "      <td>500,000+</td>\n",
       "      <td>Free</td>\n",
       "      <td>0</td>\n",
       "      <td>Everyone 10+</td>\n",
       "      <td>Art &amp; Design</td>\n",
       "      <td>July 12, 2018</td>\n",
       "      <td>2.2.6.2</td>\n",
       "      <td>4.0.3 and up</td>\n",
       "    </tr>\n",
       "    <tr>\n",
       "      <th>23</th>\n",
       "      <td>Mcqueen Coloring pages</td>\n",
       "      <td>ART_AND_DESIGN</td>\n",
       "      <td>4.4</td>\n",
       "      <td>61</td>\n",
       "      <td>7.0M</td>\n",
       "      <td>100,000+</td>\n",
       "      <td>Free</td>\n",
       "      <td>0</td>\n",
       "      <td>Everyone</td>\n",
       "      <td>Art &amp; Design</td>\n",
       "      <td>March 7, 2018</td>\n",
       "      <td>1.0.0</td>\n",
       "      <td>4.1 and up</td>\n",
       "    </tr>\n",
       "    <tr>\n",
       "      <th>24</th>\n",
       "      <td>HD Mickey Minnie Wallpapers</td>\n",
       "      <td>ART_AND_DESIGN</td>\n",
       "      <td>4.7</td>\n",
       "      <td>118</td>\n",
       "      <td>23M</td>\n",
       "      <td>50,000+</td>\n",
       "      <td>Free</td>\n",
       "      <td>0</td>\n",
       "      <td>Everyone</td>\n",
       "      <td>Art &amp; Design</td>\n",
       "      <td>July 7, 2018</td>\n",
       "      <td>1.1.3</td>\n",
       "      <td>4.1 and up</td>\n",
       "    </tr>\n",
       "    <tr>\n",
       "      <th>25</th>\n",
       "      <td>Harley Quinn wallpapers HD</td>\n",
       "      <td>ART_AND_DESIGN</td>\n",
       "      <td>4.8</td>\n",
       "      <td>192</td>\n",
       "      <td>6.0M</td>\n",
       "      <td>10,000+</td>\n",
       "      <td>Free</td>\n",
       "      <td>0</td>\n",
       "      <td>Everyone</td>\n",
       "      <td>Art &amp; Design</td>\n",
       "      <td>April 25, 2018</td>\n",
       "      <td>1.5</td>\n",
       "      <td>3.0 and up</td>\n",
       "    </tr>\n",
       "    <tr>\n",
       "      <th>26</th>\n",
       "      <td>Colorfit - Drawing &amp; Coloring</td>\n",
       "      <td>ART_AND_DESIGN</td>\n",
       "      <td>4.7</td>\n",
       "      <td>20260</td>\n",
       "      <td>25M</td>\n",
       "      <td>500,000+</td>\n",
       "      <td>Free</td>\n",
       "      <td>0</td>\n",
       "      <td>Everyone</td>\n",
       "      <td>Art &amp; Design</td>\n",
       "      <td>October 11, 2017</td>\n",
       "      <td>1.0.8</td>\n",
       "      <td>4.0.3 and up</td>\n",
       "    </tr>\n",
       "    <tr>\n",
       "      <th>27</th>\n",
       "      <td>Animated Photo Editor</td>\n",
       "      <td>ART_AND_DESIGN</td>\n",
       "      <td>4.1</td>\n",
       "      <td>203</td>\n",
       "      <td>6.1M</td>\n",
       "      <td>100,000+</td>\n",
       "      <td>Free</td>\n",
       "      <td>0</td>\n",
       "      <td>Everyone</td>\n",
       "      <td>Art &amp; Design</td>\n",
       "      <td>March 21, 2018</td>\n",
       "      <td>1.03</td>\n",
       "      <td>4.0.3 and up</td>\n",
       "    </tr>\n",
       "    <tr>\n",
       "      <th>28</th>\n",
       "      <td>Pencil Sketch Drawing</td>\n",
       "      <td>ART_AND_DESIGN</td>\n",
       "      <td>3.9</td>\n",
       "      <td>136</td>\n",
       "      <td>4.6M</td>\n",
       "      <td>10,000+</td>\n",
       "      <td>Free</td>\n",
       "      <td>0</td>\n",
       "      <td>Everyone</td>\n",
       "      <td>Art &amp; Design</td>\n",
       "      <td>July 12, 2018</td>\n",
       "      <td>6.0</td>\n",
       "      <td>2.3 and up</td>\n",
       "    </tr>\n",
       "    <tr>\n",
       "      <th>29</th>\n",
       "      <td>Easy Realistic Drawing Tutorial</td>\n",
       "      <td>ART_AND_DESIGN</td>\n",
       "      <td>4.1</td>\n",
       "      <td>223</td>\n",
       "      <td>4.2M</td>\n",
       "      <td>100,000+</td>\n",
       "      <td>Free</td>\n",
       "      <td>0</td>\n",
       "      <td>Everyone</td>\n",
       "      <td>Art &amp; Design</td>\n",
       "      <td>August 22, 2017</td>\n",
       "      <td>1.0</td>\n",
       "      <td>2.3 and up</td>\n",
       "    </tr>\n",
       "    <tr>\n",
       "      <th>...</th>\n",
       "      <td>...</td>\n",
       "      <td>...</td>\n",
       "      <td>...</td>\n",
       "      <td>...</td>\n",
       "      <td>...</td>\n",
       "      <td>...</td>\n",
       "      <td>...</td>\n",
       "      <td>...</td>\n",
       "      <td>...</td>\n",
       "      <td>...</td>\n",
       "      <td>...</td>\n",
       "      <td>...</td>\n",
       "      <td>...</td>\n",
       "    </tr>\n",
       "    <tr>\n",
       "      <th>10811</th>\n",
       "      <td>FR Plus 1.6</td>\n",
       "      <td>AUTO_AND_VEHICLES</td>\n",
       "      <td>4.2</td>\n",
       "      <td>4</td>\n",
       "      <td>3.9M</td>\n",
       "      <td>100+</td>\n",
       "      <td>Free</td>\n",
       "      <td>0</td>\n",
       "      <td>Everyone</td>\n",
       "      <td>Auto &amp; Vehicles</td>\n",
       "      <td>July 24, 2018</td>\n",
       "      <td>1.3.6</td>\n",
       "      <td>4.4W and up</td>\n",
       "    </tr>\n",
       "    <tr>\n",
       "      <th>10812</th>\n",
       "      <td>Fr Agnel Pune</td>\n",
       "      <td>FAMILY</td>\n",
       "      <td>4.1</td>\n",
       "      <td>80</td>\n",
       "      <td>13M</td>\n",
       "      <td>1,000+</td>\n",
       "      <td>Free</td>\n",
       "      <td>0</td>\n",
       "      <td>Everyone</td>\n",
       "      <td>Education</td>\n",
       "      <td>June 13, 2018</td>\n",
       "      <td>2.0.20</td>\n",
       "      <td>4.0.3 and up</td>\n",
       "    </tr>\n",
       "    <tr>\n",
       "      <th>10813</th>\n",
       "      <td>DICT.fr Mobile</td>\n",
       "      <td>BUSINESS</td>\n",
       "      <td>4.1</td>\n",
       "      <td>20</td>\n",
       "      <td>2.7M</td>\n",
       "      <td>10,000+</td>\n",
       "      <td>Free</td>\n",
       "      <td>0</td>\n",
       "      <td>Everyone</td>\n",
       "      <td>Business</td>\n",
       "      <td>July 17, 2018</td>\n",
       "      <td>2.1.10</td>\n",
       "      <td>4.1 and up</td>\n",
       "    </tr>\n",
       "    <tr>\n",
       "      <th>10814</th>\n",
       "      <td>FR: My Secret Pets!</td>\n",
       "      <td>FAMILY</td>\n",
       "      <td>4.0</td>\n",
       "      <td>785</td>\n",
       "      <td>31M</td>\n",
       "      <td>50,000+</td>\n",
       "      <td>Free</td>\n",
       "      <td>0</td>\n",
       "      <td>Teen</td>\n",
       "      <td>Entertainment</td>\n",
       "      <td>June 3, 2015</td>\n",
       "      <td>1.3.1</td>\n",
       "      <td>3.0 and up</td>\n",
       "    </tr>\n",
       "    <tr>\n",
       "      <th>10815</th>\n",
       "      <td>Golden Dictionary (FR-AR)</td>\n",
       "      <td>BOOKS_AND_REFERENCE</td>\n",
       "      <td>4.2</td>\n",
       "      <td>5775</td>\n",
       "      <td>4.9M</td>\n",
       "      <td>500,000+</td>\n",
       "      <td>Free</td>\n",
       "      <td>0</td>\n",
       "      <td>Everyone</td>\n",
       "      <td>Books &amp; Reference</td>\n",
       "      <td>July 19, 2018</td>\n",
       "      <td>7.0.4.6</td>\n",
       "      <td>4.2 and up</td>\n",
       "    </tr>\n",
       "    <tr>\n",
       "      <th>10816</th>\n",
       "      <td>FieldBi FR Offline</td>\n",
       "      <td>BUSINESS</td>\n",
       "      <td>4.1</td>\n",
       "      <td>2</td>\n",
       "      <td>6.8M</td>\n",
       "      <td>100+</td>\n",
       "      <td>Free</td>\n",
       "      <td>0</td>\n",
       "      <td>Everyone</td>\n",
       "      <td>Business</td>\n",
       "      <td>August 6, 2018</td>\n",
       "      <td>2.1.8</td>\n",
       "      <td>4.1 and up</td>\n",
       "    </tr>\n",
       "    <tr>\n",
       "      <th>10817</th>\n",
       "      <td>HTC Sense Input - FR</td>\n",
       "      <td>TOOLS</td>\n",
       "      <td>4.0</td>\n",
       "      <td>885</td>\n",
       "      <td>8.0M</td>\n",
       "      <td>100,000+</td>\n",
       "      <td>Free</td>\n",
       "      <td>0</td>\n",
       "      <td>Everyone</td>\n",
       "      <td>Tools</td>\n",
       "      <td>October 30, 2015</td>\n",
       "      <td>1.0.612928</td>\n",
       "      <td>5.0 and up</td>\n",
       "    </tr>\n",
       "    <tr>\n",
       "      <th>10818</th>\n",
       "      <td>Gold Quote - Gold.fr</td>\n",
       "      <td>FINANCE</td>\n",
       "      <td>4.1</td>\n",
       "      <td>96</td>\n",
       "      <td>1.5M</td>\n",
       "      <td>10,000+</td>\n",
       "      <td>Free</td>\n",
       "      <td>0</td>\n",
       "      <td>Everyone</td>\n",
       "      <td>Finance</td>\n",
       "      <td>May 19, 2016</td>\n",
       "      <td>2.3</td>\n",
       "      <td>2.2 and up</td>\n",
       "    </tr>\n",
       "    <tr>\n",
       "      <th>10819</th>\n",
       "      <td>Fanfic-FR</td>\n",
       "      <td>BOOKS_AND_REFERENCE</td>\n",
       "      <td>3.3</td>\n",
       "      <td>52</td>\n",
       "      <td>3.6M</td>\n",
       "      <td>5,000+</td>\n",
       "      <td>Free</td>\n",
       "      <td>0</td>\n",
       "      <td>Teen</td>\n",
       "      <td>Books &amp; Reference</td>\n",
       "      <td>August 5, 2017</td>\n",
       "      <td>0.3.4</td>\n",
       "      <td>4.1 and up</td>\n",
       "    </tr>\n",
       "    <tr>\n",
       "      <th>10820</th>\n",
       "      <td>Fr. Daoud Lamei</td>\n",
       "      <td>FAMILY</td>\n",
       "      <td>5.0</td>\n",
       "      <td>22</td>\n",
       "      <td>8.6M</td>\n",
       "      <td>1,000+</td>\n",
       "      <td>Free</td>\n",
       "      <td>0</td>\n",
       "      <td>Teen</td>\n",
       "      <td>Education</td>\n",
       "      <td>June 27, 2018</td>\n",
       "      <td>3.8.0</td>\n",
       "      <td>4.1 and up</td>\n",
       "    </tr>\n",
       "    <tr>\n",
       "      <th>10821</th>\n",
       "      <td>Poop FR</td>\n",
       "      <td>FAMILY</td>\n",
       "      <td>4.2</td>\n",
       "      <td>6</td>\n",
       "      <td>2.5M</td>\n",
       "      <td>50+</td>\n",
       "      <td>Free</td>\n",
       "      <td>0</td>\n",
       "      <td>Everyone</td>\n",
       "      <td>Entertainment</td>\n",
       "      <td>May 29, 2018</td>\n",
       "      <td>1.0</td>\n",
       "      <td>4.0.3 and up</td>\n",
       "    </tr>\n",
       "    <tr>\n",
       "      <th>10822</th>\n",
       "      <td>PLMGSS FR</td>\n",
       "      <td>PRODUCTIVITY</td>\n",
       "      <td>4.2</td>\n",
       "      <td>0</td>\n",
       "      <td>3.1M</td>\n",
       "      <td>10+</td>\n",
       "      <td>Free</td>\n",
       "      <td>0</td>\n",
       "      <td>Everyone</td>\n",
       "      <td>Productivity</td>\n",
       "      <td>December 1, 2017</td>\n",
       "      <td>1</td>\n",
       "      <td>4.4 and up</td>\n",
       "    </tr>\n",
       "    <tr>\n",
       "      <th>10823</th>\n",
       "      <td>List iptv FR</td>\n",
       "      <td>VIDEO_PLAYERS</td>\n",
       "      <td>4.1</td>\n",
       "      <td>1</td>\n",
       "      <td>2.9M</td>\n",
       "      <td>100+</td>\n",
       "      <td>Free</td>\n",
       "      <td>0</td>\n",
       "      <td>Everyone</td>\n",
       "      <td>Video Players &amp; Editors</td>\n",
       "      <td>April 22, 2018</td>\n",
       "      <td>1.0</td>\n",
       "      <td>4.0.3 and up</td>\n",
       "    </tr>\n",
       "    <tr>\n",
       "      <th>10824</th>\n",
       "      <td>Cardio-FR</td>\n",
       "      <td>MEDICAL</td>\n",
       "      <td>4.2</td>\n",
       "      <td>67</td>\n",
       "      <td>82M</td>\n",
       "      <td>10,000+</td>\n",
       "      <td>Free</td>\n",
       "      <td>0</td>\n",
       "      <td>Everyone</td>\n",
       "      <td>Medical</td>\n",
       "      <td>July 31, 2018</td>\n",
       "      <td>2.2.2</td>\n",
       "      <td>4.4 and up</td>\n",
       "    </tr>\n",
       "    <tr>\n",
       "      <th>10825</th>\n",
       "      <td>Naruto &amp; Boruto FR</td>\n",
       "      <td>SOCIAL</td>\n",
       "      <td>4.3</td>\n",
       "      <td>7</td>\n",
       "      <td>7.7M</td>\n",
       "      <td>100+</td>\n",
       "      <td>Free</td>\n",
       "      <td>0</td>\n",
       "      <td>Teen</td>\n",
       "      <td>Social</td>\n",
       "      <td>February 2, 2018</td>\n",
       "      <td>1.0</td>\n",
       "      <td>4.0 and up</td>\n",
       "    </tr>\n",
       "    <tr>\n",
       "      <th>10826</th>\n",
       "      <td>Frim: get new friends on local chat rooms</td>\n",
       "      <td>SOCIAL</td>\n",
       "      <td>4.0</td>\n",
       "      <td>88486</td>\n",
       "      <td>Varies with device</td>\n",
       "      <td>5,000,000+</td>\n",
       "      <td>Free</td>\n",
       "      <td>0</td>\n",
       "      <td>Mature 17+</td>\n",
       "      <td>Social</td>\n",
       "      <td>March 23, 2018</td>\n",
       "      <td>Varies with device</td>\n",
       "      <td>Varies with device</td>\n",
       "    </tr>\n",
       "    <tr>\n",
       "      <th>10827</th>\n",
       "      <td>Fr Agnel Ambarnath</td>\n",
       "      <td>FAMILY</td>\n",
       "      <td>4.2</td>\n",
       "      <td>117</td>\n",
       "      <td>13M</td>\n",
       "      <td>5,000+</td>\n",
       "      <td>Free</td>\n",
       "      <td>0</td>\n",
       "      <td>Everyone</td>\n",
       "      <td>Education</td>\n",
       "      <td>June 13, 2018</td>\n",
       "      <td>2.0.20</td>\n",
       "      <td>4.0.3 and up</td>\n",
       "    </tr>\n",
       "    <tr>\n",
       "      <th>10828</th>\n",
       "      <td>Manga-FR - Anime Vostfr</td>\n",
       "      <td>COMICS</td>\n",
       "      <td>3.4</td>\n",
       "      <td>291</td>\n",
       "      <td>13M</td>\n",
       "      <td>10,000+</td>\n",
       "      <td>Free</td>\n",
       "      <td>0</td>\n",
       "      <td>Everyone</td>\n",
       "      <td>Comics</td>\n",
       "      <td>May 15, 2017</td>\n",
       "      <td>2.0.1</td>\n",
       "      <td>4.0 and up</td>\n",
       "    </tr>\n",
       "    <tr>\n",
       "      <th>10829</th>\n",
       "      <td>Bulgarian French Dictionary Fr</td>\n",
       "      <td>BOOKS_AND_REFERENCE</td>\n",
       "      <td>4.6</td>\n",
       "      <td>603</td>\n",
       "      <td>7.4M</td>\n",
       "      <td>10,000+</td>\n",
       "      <td>Free</td>\n",
       "      <td>0</td>\n",
       "      <td>Everyone</td>\n",
       "      <td>Books &amp; Reference</td>\n",
       "      <td>June 19, 2016</td>\n",
       "      <td>2.96</td>\n",
       "      <td>4.1 and up</td>\n",
       "    </tr>\n",
       "    <tr>\n",
       "      <th>10830</th>\n",
       "      <td>News Minecraft.fr</td>\n",
       "      <td>NEWS_AND_MAGAZINES</td>\n",
       "      <td>3.8</td>\n",
       "      <td>881</td>\n",
       "      <td>2.3M</td>\n",
       "      <td>100,000+</td>\n",
       "      <td>Free</td>\n",
       "      <td>0</td>\n",
       "      <td>Everyone</td>\n",
       "      <td>News &amp; Magazines</td>\n",
       "      <td>January 20, 2014</td>\n",
       "      <td>1.5</td>\n",
       "      <td>1.6 and up</td>\n",
       "    </tr>\n",
       "    <tr>\n",
       "      <th>10831</th>\n",
       "      <td>payermonstationnement.fr</td>\n",
       "      <td>MAPS_AND_NAVIGATION</td>\n",
       "      <td>4.1</td>\n",
       "      <td>38</td>\n",
       "      <td>9.8M</td>\n",
       "      <td>5,000+</td>\n",
       "      <td>Free</td>\n",
       "      <td>0</td>\n",
       "      <td>Everyone</td>\n",
       "      <td>Maps &amp; Navigation</td>\n",
       "      <td>June 13, 2018</td>\n",
       "      <td>2.0.148.0</td>\n",
       "      <td>4.0 and up</td>\n",
       "    </tr>\n",
       "    <tr>\n",
       "      <th>10832</th>\n",
       "      <td>FR Tides</td>\n",
       "      <td>WEATHER</td>\n",
       "      <td>3.8</td>\n",
       "      <td>1195</td>\n",
       "      <td>582k</td>\n",
       "      <td>100,000+</td>\n",
       "      <td>Free</td>\n",
       "      <td>0</td>\n",
       "      <td>Everyone</td>\n",
       "      <td>Weather</td>\n",
       "      <td>February 16, 2014</td>\n",
       "      <td>6.0</td>\n",
       "      <td>2.1 and up</td>\n",
       "    </tr>\n",
       "    <tr>\n",
       "      <th>10833</th>\n",
       "      <td>Chemin (fr)</td>\n",
       "      <td>BOOKS_AND_REFERENCE</td>\n",
       "      <td>4.8</td>\n",
       "      <td>44</td>\n",
       "      <td>619k</td>\n",
       "      <td>1,000+</td>\n",
       "      <td>Free</td>\n",
       "      <td>0</td>\n",
       "      <td>Everyone</td>\n",
       "      <td>Books &amp; Reference</td>\n",
       "      <td>March 23, 2014</td>\n",
       "      <td>0.8</td>\n",
       "      <td>2.2 and up</td>\n",
       "    </tr>\n",
       "    <tr>\n",
       "      <th>10834</th>\n",
       "      <td>FR Calculator</td>\n",
       "      <td>FAMILY</td>\n",
       "      <td>4.0</td>\n",
       "      <td>7</td>\n",
       "      <td>2.6M</td>\n",
       "      <td>500+</td>\n",
       "      <td>Free</td>\n",
       "      <td>0</td>\n",
       "      <td>Everyone</td>\n",
       "      <td>Education</td>\n",
       "      <td>June 18, 2017</td>\n",
       "      <td>1.0.0</td>\n",
       "      <td>4.1 and up</td>\n",
       "    </tr>\n",
       "    <tr>\n",
       "      <th>10835</th>\n",
       "      <td>FR Forms</td>\n",
       "      <td>BUSINESS</td>\n",
       "      <td>4.1</td>\n",
       "      <td>0</td>\n",
       "      <td>9.6M</td>\n",
       "      <td>10+</td>\n",
       "      <td>Free</td>\n",
       "      <td>0</td>\n",
       "      <td>Everyone</td>\n",
       "      <td>Business</td>\n",
       "      <td>September 29, 2016</td>\n",
       "      <td>1.1.5</td>\n",
       "      <td>4.0 and up</td>\n",
       "    </tr>\n",
       "    <tr>\n",
       "      <th>10836</th>\n",
       "      <td>Sya9a Maroc - FR</td>\n",
       "      <td>FAMILY</td>\n",
       "      <td>4.5</td>\n",
       "      <td>38</td>\n",
       "      <td>53M</td>\n",
       "      <td>5,000+</td>\n",
       "      <td>Free</td>\n",
       "      <td>0</td>\n",
       "      <td>Everyone</td>\n",
       "      <td>Education</td>\n",
       "      <td>July 25, 2017</td>\n",
       "      <td>1.48</td>\n",
       "      <td>4.1 and up</td>\n",
       "    </tr>\n",
       "    <tr>\n",
       "      <th>10837</th>\n",
       "      <td>Fr. Mike Schmitz Audio Teachings</td>\n",
       "      <td>FAMILY</td>\n",
       "      <td>5.0</td>\n",
       "      <td>4</td>\n",
       "      <td>3.6M</td>\n",
       "      <td>100+</td>\n",
       "      <td>Free</td>\n",
       "      <td>0</td>\n",
       "      <td>Everyone</td>\n",
       "      <td>Education</td>\n",
       "      <td>July 6, 2018</td>\n",
       "      <td>1.0</td>\n",
       "      <td>4.1 and up</td>\n",
       "    </tr>\n",
       "    <tr>\n",
       "      <th>10838</th>\n",
       "      <td>Parkinson Exercices FR</td>\n",
       "      <td>MEDICAL</td>\n",
       "      <td>4.2</td>\n",
       "      <td>3</td>\n",
       "      <td>9.5M</td>\n",
       "      <td>1,000+</td>\n",
       "      <td>Free</td>\n",
       "      <td>0</td>\n",
       "      <td>Everyone</td>\n",
       "      <td>Medical</td>\n",
       "      <td>January 20, 2017</td>\n",
       "      <td>1.0</td>\n",
       "      <td>2.2 and up</td>\n",
       "    </tr>\n",
       "    <tr>\n",
       "      <th>10839</th>\n",
       "      <td>The SCP Foundation DB fr nn5n</td>\n",
       "      <td>BOOKS_AND_REFERENCE</td>\n",
       "      <td>4.5</td>\n",
       "      <td>114</td>\n",
       "      <td>Varies with device</td>\n",
       "      <td>1,000+</td>\n",
       "      <td>Free</td>\n",
       "      <td>0</td>\n",
       "      <td>Mature 17+</td>\n",
       "      <td>Books &amp; Reference</td>\n",
       "      <td>January 19, 2015</td>\n",
       "      <td>Varies with device</td>\n",
       "      <td>Varies with device</td>\n",
       "    </tr>\n",
       "    <tr>\n",
       "      <th>10840</th>\n",
       "      <td>iHoroscope - 2018 Daily Horoscope &amp; Astrology</td>\n",
       "      <td>LIFESTYLE</td>\n",
       "      <td>4.5</td>\n",
       "      <td>398307</td>\n",
       "      <td>19M</td>\n",
       "      <td>10,000,000+</td>\n",
       "      <td>Free</td>\n",
       "      <td>0</td>\n",
       "      <td>Everyone</td>\n",
       "      <td>Lifestyle</td>\n",
       "      <td>July 25, 2018</td>\n",
       "      <td>Varies with device</td>\n",
       "      <td>Varies with device</td>\n",
       "    </tr>\n",
       "  </tbody>\n",
       "</table>\n",
       "<p>10840 rows × 13 columns</p>\n",
       "</div>"
      ],
      "text/plain": [
       "                                                     App             Category  \\\n",
       "0         Photo Editor & Candy Camera & Grid & ScrapBook       ART_AND_DESIGN   \n",
       "1                                    Coloring book moana       ART_AND_DESIGN   \n",
       "2      U Launcher Lite – FREE Live Cool Themes, Hide ...       ART_AND_DESIGN   \n",
       "3                                  Sketch - Draw & Paint       ART_AND_DESIGN   \n",
       "4                  Pixel Draw - Number Art Coloring Book       ART_AND_DESIGN   \n",
       "5                             Paper flowers instructions       ART_AND_DESIGN   \n",
       "6                Smoke Effect Photo Maker - Smoke Editor       ART_AND_DESIGN   \n",
       "7                                       Infinite Painter       ART_AND_DESIGN   \n",
       "8                                   Garden Coloring Book       ART_AND_DESIGN   \n",
       "9                          Kids Paint Free - Drawing Fun       ART_AND_DESIGN   \n",
       "10                               Text on Photo - Fonteee       ART_AND_DESIGN   \n",
       "11               Name Art Photo Editor - Focus n Filters       ART_AND_DESIGN   \n",
       "12                        Tattoo Name On My Photo Editor       ART_AND_DESIGN   \n",
       "13                                 Mandala Coloring Book       ART_AND_DESIGN   \n",
       "14       3D Color Pixel by Number - Sandbox Art Coloring       ART_AND_DESIGN   \n",
       "15                       Learn To Draw Kawaii Characters       ART_AND_DESIGN   \n",
       "16          Photo Designer - Write your name with shapes       ART_AND_DESIGN   \n",
       "17                              350 Diy Room Decor Ideas       ART_AND_DESIGN   \n",
       "18                         FlipaClip - Cartoon animation       ART_AND_DESIGN   \n",
       "19                                          ibis Paint X       ART_AND_DESIGN   \n",
       "20                           Logo Maker - Small Business       ART_AND_DESIGN   \n",
       "21             Boys Photo Editor - Six Pack & Men's Suit       ART_AND_DESIGN   \n",
       "22               Superheroes Wallpapers | 4K Backgrounds       ART_AND_DESIGN   \n",
       "23                                Mcqueen Coloring pages       ART_AND_DESIGN   \n",
       "24                           HD Mickey Minnie Wallpapers       ART_AND_DESIGN   \n",
       "25                            Harley Quinn wallpapers HD       ART_AND_DESIGN   \n",
       "26                         Colorfit - Drawing & Coloring       ART_AND_DESIGN   \n",
       "27                                 Animated Photo Editor       ART_AND_DESIGN   \n",
       "28                                 Pencil Sketch Drawing       ART_AND_DESIGN   \n",
       "29                       Easy Realistic Drawing Tutorial       ART_AND_DESIGN   \n",
       "...                                                  ...                  ...   \n",
       "10811                                        FR Plus 1.6    AUTO_AND_VEHICLES   \n",
       "10812                                      Fr Agnel Pune               FAMILY   \n",
       "10813                                     DICT.fr Mobile             BUSINESS   \n",
       "10814                               FR: My Secret Pets!                FAMILY   \n",
       "10815                          Golden Dictionary (FR-AR)  BOOKS_AND_REFERENCE   \n",
       "10816                                 FieldBi FR Offline             BUSINESS   \n",
       "10817                               HTC Sense Input - FR                TOOLS   \n",
       "10818                               Gold Quote - Gold.fr              FINANCE   \n",
       "10819                                          Fanfic-FR  BOOKS_AND_REFERENCE   \n",
       "10820                                    Fr. Daoud Lamei               FAMILY   \n",
       "10821                                            Poop FR               FAMILY   \n",
       "10822                                          PLMGSS FR         PRODUCTIVITY   \n",
       "10823                                       List iptv FR        VIDEO_PLAYERS   \n",
       "10824                                          Cardio-FR              MEDICAL   \n",
       "10825                                 Naruto & Boruto FR               SOCIAL   \n",
       "10826          Frim: get new friends on local chat rooms               SOCIAL   \n",
       "10827                                 Fr Agnel Ambarnath               FAMILY   \n",
       "10828                            Manga-FR - Anime Vostfr               COMICS   \n",
       "10829                     Bulgarian French Dictionary Fr  BOOKS_AND_REFERENCE   \n",
       "10830                                  News Minecraft.fr   NEWS_AND_MAGAZINES   \n",
       "10831                           payermonstationnement.fr  MAPS_AND_NAVIGATION   \n",
       "10832                                           FR Tides              WEATHER   \n",
       "10833                                        Chemin (fr)  BOOKS_AND_REFERENCE   \n",
       "10834                                      FR Calculator               FAMILY   \n",
       "10835                                           FR Forms             BUSINESS   \n",
       "10836                                   Sya9a Maroc - FR               FAMILY   \n",
       "10837                   Fr. Mike Schmitz Audio Teachings               FAMILY   \n",
       "10838                             Parkinson Exercices FR              MEDICAL   \n",
       "10839                      The SCP Foundation DB fr nn5n  BOOKS_AND_REFERENCE   \n",
       "10840      iHoroscope - 2018 Daily Horoscope & Astrology            LIFESTYLE   \n",
       "\n",
       "       Rating Reviews                Size     Installs  Type Price  \\\n",
       "0         4.1     159                 19M      10,000+  Free     0   \n",
       "1         3.9     967                 14M     500,000+  Free     0   \n",
       "2         4.7   87510                8.7M   5,000,000+  Free     0   \n",
       "3         4.5  215644                 25M  50,000,000+  Free     0   \n",
       "4         4.3     967                2.8M     100,000+  Free     0   \n",
       "5         4.4     167                5.6M      50,000+  Free     0   \n",
       "6         3.8     178                 19M      50,000+  Free     0   \n",
       "7         4.1   36815                 29M   1,000,000+  Free     0   \n",
       "8         4.4   13791                 33M   1,000,000+  Free     0   \n",
       "9         4.7     121                3.1M      10,000+  Free     0   \n",
       "10        4.4   13880                 28M   1,000,000+  Free     0   \n",
       "11        4.4    8788                 12M   1,000,000+  Free     0   \n",
       "12        4.2   44829                 20M  10,000,000+  Free     0   \n",
       "13        4.6    4326                 21M     100,000+  Free     0   \n",
       "14        4.4    1518                 37M     100,000+  Free     0   \n",
       "15        3.2      55                2.7M       5,000+  Free     0   \n",
       "16        4.7    3632                5.5M     500,000+  Free     0   \n",
       "17        4.5      27                 17M      10,000+  Free     0   \n",
       "18        4.3  194216                 39M   5,000,000+  Free     0   \n",
       "19        4.6  224399                 31M  10,000,000+  Free     0   \n",
       "20        4.0     450                 14M     100,000+  Free     0   \n",
       "21        4.1     654                 12M     100,000+  Free     0   \n",
       "22        4.7    7699                4.2M     500,000+  Free     0   \n",
       "23        4.4      61                7.0M     100,000+  Free     0   \n",
       "24        4.7     118                 23M      50,000+  Free     0   \n",
       "25        4.8     192                6.0M      10,000+  Free     0   \n",
       "26        4.7   20260                 25M     500,000+  Free     0   \n",
       "27        4.1     203                6.1M     100,000+  Free     0   \n",
       "28        3.9     136                4.6M      10,000+  Free     0   \n",
       "29        4.1     223                4.2M     100,000+  Free     0   \n",
       "...       ...     ...                 ...          ...   ...   ...   \n",
       "10811     4.2       4                3.9M         100+  Free     0   \n",
       "10812     4.1      80                 13M       1,000+  Free     0   \n",
       "10813     4.1      20                2.7M      10,000+  Free     0   \n",
       "10814     4.0     785                 31M      50,000+  Free     0   \n",
       "10815     4.2    5775                4.9M     500,000+  Free     0   \n",
       "10816     4.1       2                6.8M         100+  Free     0   \n",
       "10817     4.0     885                8.0M     100,000+  Free     0   \n",
       "10818     4.1      96                1.5M      10,000+  Free     0   \n",
       "10819     3.3      52                3.6M       5,000+  Free     0   \n",
       "10820     5.0      22                8.6M       1,000+  Free     0   \n",
       "10821     4.2       6                2.5M          50+  Free     0   \n",
       "10822     4.2       0                3.1M          10+  Free     0   \n",
       "10823     4.1       1                2.9M         100+  Free     0   \n",
       "10824     4.2      67                 82M      10,000+  Free     0   \n",
       "10825     4.3       7                7.7M         100+  Free     0   \n",
       "10826     4.0   88486  Varies with device   5,000,000+  Free     0   \n",
       "10827     4.2     117                 13M       5,000+  Free     0   \n",
       "10828     3.4     291                 13M      10,000+  Free     0   \n",
       "10829     4.6     603                7.4M      10,000+  Free     0   \n",
       "10830     3.8     881                2.3M     100,000+  Free     0   \n",
       "10831     4.1      38                9.8M       5,000+  Free     0   \n",
       "10832     3.8    1195                582k     100,000+  Free     0   \n",
       "10833     4.8      44                619k       1,000+  Free     0   \n",
       "10834     4.0       7                2.6M         500+  Free     0   \n",
       "10835     4.1       0                9.6M          10+  Free     0   \n",
       "10836     4.5      38                 53M       5,000+  Free     0   \n",
       "10837     5.0       4                3.6M         100+  Free     0   \n",
       "10838     4.2       3                9.5M       1,000+  Free     0   \n",
       "10839     4.5     114  Varies with device       1,000+  Free     0   \n",
       "10840     4.5  398307                 19M  10,000,000+  Free     0   \n",
       "\n",
       "      Content Rating                   Genres        Last Updated  \\\n",
       "0           Everyone             Art & Design     January 7, 2018   \n",
       "1           Everyone             Art & Design    January 15, 2018   \n",
       "2           Everyone             Art & Design      August 1, 2018   \n",
       "3               Teen             Art & Design        June 8, 2018   \n",
       "4           Everyone             Art & Design       June 20, 2018   \n",
       "5           Everyone             Art & Design      March 26, 2017   \n",
       "6           Everyone             Art & Design      April 26, 2018   \n",
       "7           Everyone             Art & Design       June 14, 2018   \n",
       "8           Everyone             Art & Design  September 20, 2017   \n",
       "9           Everyone             Art & Design        July 3, 2018   \n",
       "10          Everyone             Art & Design    October 27, 2017   \n",
       "11          Everyone             Art & Design       July 31, 2018   \n",
       "12              Teen             Art & Design       April 2, 2018   \n",
       "13          Everyone             Art & Design       June 26, 2018   \n",
       "14          Everyone             Art & Design      August 3, 2018   \n",
       "15          Everyone             Art & Design        June 6, 2018   \n",
       "16          Everyone             Art & Design       July 31, 2018   \n",
       "17          Everyone             Art & Design    November 7, 2017   \n",
       "18          Everyone             Art & Design      August 3, 2018   \n",
       "19          Everyone             Art & Design       July 30, 2018   \n",
       "20          Everyone             Art & Design      April 20, 2018   \n",
       "21          Everyone             Art & Design      March 20, 2018   \n",
       "22      Everyone 10+             Art & Design       July 12, 2018   \n",
       "23          Everyone             Art & Design       March 7, 2018   \n",
       "24          Everyone             Art & Design        July 7, 2018   \n",
       "25          Everyone             Art & Design      April 25, 2018   \n",
       "26          Everyone             Art & Design    October 11, 2017   \n",
       "27          Everyone             Art & Design      March 21, 2018   \n",
       "28          Everyone             Art & Design       July 12, 2018   \n",
       "29          Everyone             Art & Design     August 22, 2017   \n",
       "...              ...                      ...                 ...   \n",
       "10811       Everyone          Auto & Vehicles       July 24, 2018   \n",
       "10812       Everyone                Education       June 13, 2018   \n",
       "10813       Everyone                 Business       July 17, 2018   \n",
       "10814           Teen            Entertainment        June 3, 2015   \n",
       "10815       Everyone        Books & Reference       July 19, 2018   \n",
       "10816       Everyone                 Business      August 6, 2018   \n",
       "10817       Everyone                    Tools    October 30, 2015   \n",
       "10818       Everyone                  Finance        May 19, 2016   \n",
       "10819           Teen        Books & Reference      August 5, 2017   \n",
       "10820           Teen                Education       June 27, 2018   \n",
       "10821       Everyone            Entertainment        May 29, 2018   \n",
       "10822       Everyone             Productivity    December 1, 2017   \n",
       "10823       Everyone  Video Players & Editors      April 22, 2018   \n",
       "10824       Everyone                  Medical       July 31, 2018   \n",
       "10825           Teen                   Social    February 2, 2018   \n",
       "10826     Mature 17+                   Social      March 23, 2018   \n",
       "10827       Everyone                Education       June 13, 2018   \n",
       "10828       Everyone                   Comics        May 15, 2017   \n",
       "10829       Everyone        Books & Reference       June 19, 2016   \n",
       "10830       Everyone         News & Magazines    January 20, 2014   \n",
       "10831       Everyone        Maps & Navigation       June 13, 2018   \n",
       "10832       Everyone                  Weather   February 16, 2014   \n",
       "10833       Everyone        Books & Reference      March 23, 2014   \n",
       "10834       Everyone                Education       June 18, 2017   \n",
       "10835       Everyone                 Business  September 29, 2016   \n",
       "10836       Everyone                Education       July 25, 2017   \n",
       "10837       Everyone                Education        July 6, 2018   \n",
       "10838       Everyone                  Medical    January 20, 2017   \n",
       "10839     Mature 17+        Books & Reference    January 19, 2015   \n",
       "10840       Everyone                Lifestyle       July 25, 2018   \n",
       "\n",
       "              Current Ver         Android Ver  \n",
       "0                   1.0.0        4.0.3 and up  \n",
       "1                   2.0.0        4.0.3 and up  \n",
       "2                   1.2.4        4.0.3 and up  \n",
       "3      Varies with device          4.2 and up  \n",
       "4                     1.1          4.4 and up  \n",
       "5                     1.0          2.3 and up  \n",
       "6                     1.1        4.0.3 and up  \n",
       "7                6.1.61.1          4.2 and up  \n",
       "8                   2.9.2          3.0 and up  \n",
       "9                     2.8        4.0.3 and up  \n",
       "10                  1.0.4          4.1 and up  \n",
       "11                 1.0.15          4.0 and up  \n",
       "12                    3.8          4.1 and up  \n",
       "13                  1.0.4          4.4 and up  \n",
       "14                  1.2.3          2.3 and up  \n",
       "15                    NaN          4.2 and up  \n",
       "16                    3.1          4.1 and up  \n",
       "17                    1.0          2.3 and up  \n",
       "18                  2.2.5        4.0.3 and up  \n",
       "19                  5.5.4          4.1 and up  \n",
       "20                    4.0          4.1 and up  \n",
       "21                    1.1        4.0.3 and up  \n",
       "22                2.2.6.2        4.0.3 and up  \n",
       "23                  1.0.0          4.1 and up  \n",
       "24                  1.1.3          4.1 and up  \n",
       "25                    1.5          3.0 and up  \n",
       "26                  1.0.8        4.0.3 and up  \n",
       "27                   1.03        4.0.3 and up  \n",
       "28                    6.0          2.3 and up  \n",
       "29                    1.0          2.3 and up  \n",
       "...                   ...                 ...  \n",
       "10811               1.3.6         4.4W and up  \n",
       "10812              2.0.20        4.0.3 and up  \n",
       "10813              2.1.10          4.1 and up  \n",
       "10814               1.3.1          3.0 and up  \n",
       "10815             7.0.4.6          4.2 and up  \n",
       "10816               2.1.8          4.1 and up  \n",
       "10817          1.0.612928          5.0 and up  \n",
       "10818                 2.3          2.2 and up  \n",
       "10819               0.3.4          4.1 and up  \n",
       "10820               3.8.0          4.1 and up  \n",
       "10821                 1.0        4.0.3 and up  \n",
       "10822                   1          4.4 and up  \n",
       "10823                 1.0        4.0.3 and up  \n",
       "10824               2.2.2          4.4 and up  \n",
       "10825                 1.0          4.0 and up  \n",
       "10826  Varies with device  Varies with device  \n",
       "10827              2.0.20        4.0.3 and up  \n",
       "10828               2.0.1          4.0 and up  \n",
       "10829                2.96          4.1 and up  \n",
       "10830                 1.5          1.6 and up  \n",
       "10831           2.0.148.0          4.0 and up  \n",
       "10832                 6.0          2.1 and up  \n",
       "10833                 0.8          2.2 and up  \n",
       "10834               1.0.0          4.1 and up  \n",
       "10835               1.1.5          4.0 and up  \n",
       "10836                1.48          4.1 and up  \n",
       "10837                 1.0          4.1 and up  \n",
       "10838                 1.0          2.2 and up  \n",
       "10839  Varies with device  Varies with device  \n",
       "10840  Varies with device  Varies with device  \n",
       "\n",
       "[10840 rows x 13 columns]"
      ]
     },
     "execution_count": 35,
     "metadata": {},
     "output_type": "execute_result"
    }
   ],
   "source": [
    "dataSet['Rating'] = RatingImputed\n",
    "dataSet"
   ]
  },
  {
   "cell_type": "code",
   "execution_count": 36,
   "metadata": {},
   "outputs": [
    {
     "data": {
      "text/plain": [
       "Current Ver       8\n",
       "Android Ver       2\n",
       "Type              1\n",
       "Last Updated      0\n",
       "Genres            0\n",
       "Content Rating    0\n",
       "Price             0\n",
       "Installs          0\n",
       "Size              0\n",
       "Reviews           0\n",
       "Rating            0\n",
       "Category          0\n",
       "App               0\n",
       "dtype: int64"
      ]
     },
     "execution_count": 36,
     "metadata": {},
     "output_type": "execute_result"
    }
   ],
   "source": [
    "total = dataSet.isnull().sum().sort_values(ascending=False)\n",
    "total"
   ]
  },
  {
   "cell_type": "code",
   "execution_count": 37,
   "metadata": {},
   "outputs": [
    {
     "data": {
      "text/html": [
       "<div>\n",
       "<style scoped>\n",
       "    .dataframe tbody tr th:only-of-type {\n",
       "        vertical-align: middle;\n",
       "    }\n",
       "\n",
       "    .dataframe tbody tr th {\n",
       "        vertical-align: top;\n",
       "    }\n",
       "\n",
       "    .dataframe thead th {\n",
       "        text-align: right;\n",
       "    }\n",
       "</style>\n",
       "<table border=\"1\" class=\"dataframe\">\n",
       "  <thead>\n",
       "    <tr style=\"text-align: right;\">\n",
       "      <th></th>\n",
       "      <th>Rating</th>\n",
       "    </tr>\n",
       "  </thead>\n",
       "  <tbody>\n",
       "    <tr>\n",
       "      <th>count</th>\n",
       "      <td>10840.000000</td>\n",
       "    </tr>\n",
       "    <tr>\n",
       "      <th>mean</th>\n",
       "      <td>4.189862</td>\n",
       "    </tr>\n",
       "    <tr>\n",
       "      <th>std</th>\n",
       "      <td>0.480172</td>\n",
       "    </tr>\n",
       "    <tr>\n",
       "      <th>min</th>\n",
       "      <td>1.000000</td>\n",
       "    </tr>\n",
       "    <tr>\n",
       "      <th>25%</th>\n",
       "      <td>4.000000</td>\n",
       "    </tr>\n",
       "    <tr>\n",
       "      <th>50%</th>\n",
       "      <td>4.300000</td>\n",
       "    </tr>\n",
       "    <tr>\n",
       "      <th>75%</th>\n",
       "      <td>4.500000</td>\n",
       "    </tr>\n",
       "    <tr>\n",
       "      <th>max</th>\n",
       "      <td>5.000000</td>\n",
       "    </tr>\n",
       "  </tbody>\n",
       "</table>\n",
       "</div>"
      ],
      "text/plain": [
       "             Rating\n",
       "count  10840.000000\n",
       "mean       4.189862\n",
       "std        0.480172\n",
       "min        1.000000\n",
       "25%        4.000000\n",
       "50%        4.300000\n",
       "75%        4.500000\n",
       "max        5.000000"
      ]
     },
     "execution_count": 37,
     "metadata": {},
     "output_type": "execute_result"
    }
   ],
   "source": [
    "dataSet.describe()"
   ]
  },
  {
   "cell_type": "markdown",
   "metadata": {},
   "source": [
    "#### <span style=\"color:violet\">Now the records with null values in the rating has been imputed by Cluster Mean</span>"
   ]
  },
  {
   "cell_type": "markdown",
   "metadata": {},
   "source": [
    "### Rating and Category"
   ]
  },
  {
   "cell_type": "code",
   "execution_count": 38,
   "metadata": {},
   "outputs": [
    {
     "data": {
      "text/plain": [
       "<matplotlib.axes._subplots.AxesSubplot at 0x7f64414d6278>"
      ]
     },
     "execution_count": 38,
     "metadata": {},
     "output_type": "execute_result"
    },
    {
     "data": {
      "image/png": "[encoded data removed]",
      "text/plain": [
       "<Figure size 432x288 with 1 Axes>"
      ]
     },
     "metadata": {
      "needs_background": "light"
     },
     "output_type": "display_data"
    }
   ],
   "source": [
    "dataSet.groupby('Category').Rating.mean().plot(kind='bar')"
   ]
  },
  {
   "cell_type": "code",
   "execution_count": 39,
   "metadata": {},
   "outputs": [
    {
     "data": {
      "text/plain": [
       "<matplotlib.axes._subplots.AxesSubplot at 0x7f6441426240>"
      ]
     },
     "execution_count": 39,
     "metadata": {},
     "output_type": "execute_result"
    },
    {
     "data": {
      "image/png": "[encoded data removed]",
      "text/plain": [
       "<Figure size 432x288 with 1 Axes>"
      ]
     },
     "metadata": {
      "needs_background": "light"
     },
     "output_type": "display_data"
    }
   ],
   "source": [
    "dataSet.groupby('Category').Rating.mean().plot(kind='kde')"
   ]
  },
  {
   "cell_type": "markdown",
   "metadata": {},
   "source": [
    "#### <span style=\"color:Green\">The bar chart with the rating mean for each category failed to show the distribution clearly so a box plot will be used</span>"
   ]
  },
  {
   "cell_type": "code",
   "execution_count": 40,
   "metadata": {},
   "outputs": [
    {
     "data": {
      "text/plain": [
       "<matplotlib.axes._subplots.AxesSubplot at 0x7f6441402208>"
      ]
     },
     "execution_count": 40,
     "metadata": {},
     "output_type": "execute_result"
    },
    {
     "data": {
      "image/png": "[encoded data removed]",
      "text/plain": [
       "<Figure size 720x360 with 1 Axes>"
      ]
     },
     "metadata": {
      "needs_background": "light"
     },
     "output_type": "display_data"
    }
   ],
   "source": [
    "dataSet.boxplot(column='Rating', by='Category',rot=90, fontsize=12, figsize=(10,5), grid=True)"
   ]
  },
  {
   "cell_type": "markdown",
   "metadata": {},
   "source": [
    "#### <span style=\"color:Green\">As shown, the average rating of each category is nearly the same, in general rating between categories is not that differet</span>"
   ]
  },
  {
   "cell_type": "markdown",
   "metadata": {},
   "source": [
    "### Genres"
   ]
  },
  {
   "cell_type": "code",
   "execution_count": 41,
   "metadata": {},
   "outputs": [
    {
     "data": {
      "text/plain": [
       "<matplotlib.axes._subplots.AxesSubplot at 0x7f6441104240>"
      ]
     },
     "execution_count": 41,
     "metadata": {},
     "output_type": "execute_result"
    },
    {
     "data": {
      "image/png": "[encoded data removed]",
      "text/plain": [
       "<Figure size 864x360 with 1 Axes>"
      ]
     },
     "metadata": {
      "needs_background": "light"
     },
     "output_type": "display_data"
    }
   ],
   "source": [
    "dataSet.groupby('Genres').Rating.mean().plot(kind='bar',figsize=(12,5),fontsize=12)"
   ]
  },
  {
   "cell_type": "code",
   "execution_count": 42,
   "metadata": {},
   "outputs": [
    {
     "data": {
      "text/plain": [
       "<matplotlib.axes._subplots.AxesSubplot at 0x7f643b788b00>"
      ]
     },
     "execution_count": 42,
     "metadata": {},
     "output_type": "execute_result"
    },
    {
     "data": {
      "image/png": "[encoded data removed]",
      "text/plain": [
       "<Figure size 864x360 with 1 Axes>"
      ]
     },
     "metadata": {
      "needs_background": "light"
     },
     "output_type": "display_data"
    }
   ],
   "source": [
    "dataSet.groupby('Genres').Rating.mean().plot(kind='kde',figsize=(12,5),fontsize=12)"
   ]
  },
  {
   "cell_type": "code",
   "execution_count": 43,
   "metadata": {},
   "outputs": [
    {
     "data": {
      "text/plain": [
       "<matplotlib.axes._subplots.AxesSubplot at 0x7f643b7788d0>"
      ]
     },
     "execution_count": 43,
     "metadata": {},
     "output_type": "execute_result"
    },
    {
     "data": {
      "image/png": "[encoded data removed]",
      "text/plain": [
       "<Figure size 1080x720 with 1 Axes>"
      ]
     },
     "metadata": {
      "needs_background": "light"
     },
     "output_type": "display_data"
    }
   ],
   "source": [
    "dataSet.boxplot(column='Rating', by='Genres',rot=90, fontsize=12, figsize=(15,10), grid=True)"
   ]
  },
  {
   "cell_type": "markdown",
   "metadata": {},
   "source": [
    "#### <span style=\"color:Green\">The Genres showed the same behaviour as category</span>"
   ]
  },
  {
   "cell_type": "markdown",
   "metadata": {},
   "source": [
    "### Investigating if the genres within a category affects rating"
   ]
  },
  {
   "cell_type": "code",
   "execution_count": 44,
   "metadata": {},
   "outputs": [
    {
     "data": {
      "text/html": [
       "<div>\n",
       "<style scoped>\n",
       "    .dataframe tbody tr th:only-of-type {\n",
       "        vertical-align: middle;\n",
       "    }\n",
       "\n",
       "    .dataframe tbody tr th {\n",
       "        vertical-align: top;\n",
       "    }\n",
       "\n",
       "    .dataframe thead th {\n",
       "        text-align: right;\n",
       "    }\n",
       "</style>\n",
       "<table border=\"1\" class=\"dataframe\">\n",
       "  <thead>\n",
       "    <tr style=\"text-align: right;\">\n",
       "      <th></th>\n",
       "      <th>Category</th>\n",
       "      <th>Genres</th>\n",
       "      <th>count</th>\n",
       "    </tr>\n",
       "  </thead>\n",
       "  <tbody>\n",
       "    <tr>\n",
       "      <th>0</th>\n",
       "      <td>ART_AND_DESIGN</td>\n",
       "      <td>Art &amp; Design</td>\n",
       "      <td>65</td>\n",
       "    </tr>\n",
       "    <tr>\n",
       "      <th>1</th>\n",
       "      <td>AUTO_AND_VEHICLES</td>\n",
       "      <td>Auto &amp; Vehicles</td>\n",
       "      <td>85</td>\n",
       "    </tr>\n",
       "    <tr>\n",
       "      <th>2</th>\n",
       "      <td>BEAUTY</td>\n",
       "      <td>Beauty</td>\n",
       "      <td>53</td>\n",
       "    </tr>\n",
       "    <tr>\n",
       "      <th>3</th>\n",
       "      <td>BOOKS_AND_REFERENCE</td>\n",
       "      <td>Books &amp; Reference</td>\n",
       "      <td>231</td>\n",
       "    </tr>\n",
       "    <tr>\n",
       "      <th>4</th>\n",
       "      <td>BUSINESS</td>\n",
       "      <td>Business</td>\n",
       "      <td>460</td>\n",
       "    </tr>\n",
       "    <tr>\n",
       "      <th>5</th>\n",
       "      <td>COMICS</td>\n",
       "      <td>Comics</td>\n",
       "      <td>60</td>\n",
       "    </tr>\n",
       "    <tr>\n",
       "      <th>6</th>\n",
       "      <td>COMMUNICATION</td>\n",
       "      <td>Communication</td>\n",
       "      <td>387</td>\n",
       "    </tr>\n",
       "    <tr>\n",
       "      <th>7</th>\n",
       "      <td>DATING</td>\n",
       "      <td>Dating</td>\n",
       "      <td>234</td>\n",
       "    </tr>\n",
       "    <tr>\n",
       "      <th>8</th>\n",
       "      <td>EDUCATION</td>\n",
       "      <td>Education</td>\n",
       "      <td>156</td>\n",
       "    </tr>\n",
       "    <tr>\n",
       "      <th>9</th>\n",
       "      <td>ENTERTAINMENT</td>\n",
       "      <td>Entertainment</td>\n",
       "      <td>149</td>\n",
       "    </tr>\n",
       "    <tr>\n",
       "      <th>10</th>\n",
       "      <td>EVENTS</td>\n",
       "      <td>Events</td>\n",
       "      <td>64</td>\n",
       "    </tr>\n",
       "    <tr>\n",
       "      <th>11</th>\n",
       "      <td>FAMILY</td>\n",
       "      <td>Action</td>\n",
       "      <td>14</td>\n",
       "    </tr>\n",
       "    <tr>\n",
       "      <th>12</th>\n",
       "      <td>FAMILY</td>\n",
       "      <td>Adventure</td>\n",
       "      <td>11</td>\n",
       "    </tr>\n",
       "    <tr>\n",
       "      <th>13</th>\n",
       "      <td>FAMILY</td>\n",
       "      <td>Arcade</td>\n",
       "      <td>17</td>\n",
       "    </tr>\n",
       "    <tr>\n",
       "      <th>14</th>\n",
       "      <td>FAMILY</td>\n",
       "      <td>Art &amp; Design</td>\n",
       "      <td>4</td>\n",
       "    </tr>\n",
       "    <tr>\n",
       "      <th>15</th>\n",
       "      <td>FAMILY</td>\n",
       "      <td>Board</td>\n",
       "      <td>19</td>\n",
       "    </tr>\n",
       "    <tr>\n",
       "      <th>16</th>\n",
       "      <td>FAMILY</td>\n",
       "      <td>Books &amp; Reference</td>\n",
       "      <td>3</td>\n",
       "    </tr>\n",
       "    <tr>\n",
       "      <th>17</th>\n",
       "      <td>FAMILY</td>\n",
       "      <td>Card</td>\n",
       "      <td>3</td>\n",
       "    </tr>\n",
       "    <tr>\n",
       "      <th>18</th>\n",
       "      <td>FAMILY</td>\n",
       "      <td>Casual</td>\n",
       "      <td>221</td>\n",
       "    </tr>\n",
       "    <tr>\n",
       "      <th>19</th>\n",
       "      <td>FAMILY</td>\n",
       "      <td>Communication</td>\n",
       "      <td>1</td>\n",
       "    </tr>\n",
       "    <tr>\n",
       "      <th>20</th>\n",
       "      <td>FAMILY</td>\n",
       "      <td>Education</td>\n",
       "      <td>489</td>\n",
       "    </tr>\n",
       "    <tr>\n",
       "      <th>21</th>\n",
       "      <td>FAMILY</td>\n",
       "      <td>Educational</td>\n",
       "      <td>112</td>\n",
       "    </tr>\n",
       "    <tr>\n",
       "      <th>22</th>\n",
       "      <td>FAMILY</td>\n",
       "      <td>Entertainment</td>\n",
       "      <td>518</td>\n",
       "    </tr>\n",
       "    <tr>\n",
       "      <th>23</th>\n",
       "      <td>FAMILY</td>\n",
       "      <td>Health &amp; Fitness</td>\n",
       "      <td>2</td>\n",
       "    </tr>\n",
       "    <tr>\n",
       "      <th>24</th>\n",
       "      <td>FAMILY</td>\n",
       "      <td>Lifestyle</td>\n",
       "      <td>1</td>\n",
       "    </tr>\n",
       "    <tr>\n",
       "      <th>25</th>\n",
       "      <td>FAMILY</td>\n",
       "      <td>Music</td>\n",
       "      <td>4</td>\n",
       "    </tr>\n",
       "    <tr>\n",
       "      <th>26</th>\n",
       "      <td>FAMILY</td>\n",
       "      <td>Puzzle</td>\n",
       "      <td>125</td>\n",
       "    </tr>\n",
       "    <tr>\n",
       "      <th>27</th>\n",
       "      <td>FAMILY</td>\n",
       "      <td>Racing</td>\n",
       "      <td>21</td>\n",
       "    </tr>\n",
       "    <tr>\n",
       "      <th>28</th>\n",
       "      <td>FAMILY</td>\n",
       "      <td>Role Playing</td>\n",
       "      <td>107</td>\n",
       "    </tr>\n",
       "    <tr>\n",
       "      <th>29</th>\n",
       "      <td>FAMILY</td>\n",
       "      <td>Simulation</td>\n",
       "      <td>205</td>\n",
       "    </tr>\n",
       "    <tr>\n",
       "      <th>...</th>\n",
       "      <td>...</td>\n",
       "      <td>...</td>\n",
       "      <td>...</td>\n",
       "    </tr>\n",
       "    <tr>\n",
       "      <th>40</th>\n",
       "      <td>GAME</td>\n",
       "      <td>Card</td>\n",
       "      <td>48</td>\n",
       "    </tr>\n",
       "    <tr>\n",
       "      <th>41</th>\n",
       "      <td>GAME</td>\n",
       "      <td>Casino</td>\n",
       "      <td>39</td>\n",
       "    </tr>\n",
       "    <tr>\n",
       "      <th>42</th>\n",
       "      <td>GAME</td>\n",
       "      <td>Casual</td>\n",
       "      <td>49</td>\n",
       "    </tr>\n",
       "    <tr>\n",
       "      <th>43</th>\n",
       "      <td>GAME</td>\n",
       "      <td>Music</td>\n",
       "      <td>22</td>\n",
       "    </tr>\n",
       "    <tr>\n",
       "      <th>44</th>\n",
       "      <td>GAME</td>\n",
       "      <td>Puzzle</td>\n",
       "      <td>42</td>\n",
       "    </tr>\n",
       "    <tr>\n",
       "      <th>45</th>\n",
       "      <td>GAME</td>\n",
       "      <td>Racing</td>\n",
       "      <td>98</td>\n",
       "    </tr>\n",
       "    <tr>\n",
       "      <th>46</th>\n",
       "      <td>GAME</td>\n",
       "      <td>Role Playing</td>\n",
       "      <td>16</td>\n",
       "    </tr>\n",
       "    <tr>\n",
       "      <th>47</th>\n",
       "      <td>GAME</td>\n",
       "      <td>Simulation</td>\n",
       "      <td>13</td>\n",
       "    </tr>\n",
       "    <tr>\n",
       "      <th>48</th>\n",
       "      <td>GAME</td>\n",
       "      <td>Sports</td>\n",
       "      <td>14</td>\n",
       "    </tr>\n",
       "    <tr>\n",
       "      <th>49</th>\n",
       "      <td>GAME</td>\n",
       "      <td>Strategy</td>\n",
       "      <td>24</td>\n",
       "    </tr>\n",
       "    <tr>\n",
       "      <th>50</th>\n",
       "      <td>GAME</td>\n",
       "      <td>Trivia</td>\n",
       "      <td>38</td>\n",
       "    </tr>\n",
       "    <tr>\n",
       "      <th>51</th>\n",
       "      <td>GAME</td>\n",
       "      <td>Word</td>\n",
       "      <td>29</td>\n",
       "    </tr>\n",
       "    <tr>\n",
       "      <th>52</th>\n",
       "      <td>HEALTH_AND_FITNESS</td>\n",
       "      <td>Health &amp; Fitness</td>\n",
       "      <td>341</td>\n",
       "    </tr>\n",
       "    <tr>\n",
       "      <th>53</th>\n",
       "      <td>HOUSE_AND_HOME</td>\n",
       "      <td>House &amp; Home</td>\n",
       "      <td>88</td>\n",
       "    </tr>\n",
       "    <tr>\n",
       "      <th>54</th>\n",
       "      <td>LIBRARIES_AND_DEMO</td>\n",
       "      <td>Libraries &amp; Demo</td>\n",
       "      <td>85</td>\n",
       "    </tr>\n",
       "    <tr>\n",
       "      <th>55</th>\n",
       "      <td>LIFESTYLE</td>\n",
       "      <td>Lifestyle</td>\n",
       "      <td>382</td>\n",
       "    </tr>\n",
       "    <tr>\n",
       "      <th>56</th>\n",
       "      <td>MAPS_AND_NAVIGATION</td>\n",
       "      <td>Maps &amp; Navigation</td>\n",
       "      <td>137</td>\n",
       "    </tr>\n",
       "    <tr>\n",
       "      <th>57</th>\n",
       "      <td>MEDICAL</td>\n",
       "      <td>Medical</td>\n",
       "      <td>463</td>\n",
       "    </tr>\n",
       "    <tr>\n",
       "      <th>58</th>\n",
       "      <td>NEWS_AND_MAGAZINES</td>\n",
       "      <td>News &amp; Magazines</td>\n",
       "      <td>283</td>\n",
       "    </tr>\n",
       "    <tr>\n",
       "      <th>59</th>\n",
       "      <td>PARENTING</td>\n",
       "      <td>Parenting</td>\n",
       "      <td>60</td>\n",
       "    </tr>\n",
       "    <tr>\n",
       "      <th>60</th>\n",
       "      <td>PERSONALIZATION</td>\n",
       "      <td>Personalization</td>\n",
       "      <td>392</td>\n",
       "    </tr>\n",
       "    <tr>\n",
       "      <th>61</th>\n",
       "      <td>PHOTOGRAPHY</td>\n",
       "      <td>Photography</td>\n",
       "      <td>335</td>\n",
       "    </tr>\n",
       "    <tr>\n",
       "      <th>62</th>\n",
       "      <td>PRODUCTIVITY</td>\n",
       "      <td>Productivity</td>\n",
       "      <td>424</td>\n",
       "    </tr>\n",
       "    <tr>\n",
       "      <th>63</th>\n",
       "      <td>SHOPPING</td>\n",
       "      <td>Shopping</td>\n",
       "      <td>260</td>\n",
       "    </tr>\n",
       "    <tr>\n",
       "      <th>64</th>\n",
       "      <td>SOCIAL</td>\n",
       "      <td>Social</td>\n",
       "      <td>295</td>\n",
       "    </tr>\n",
       "    <tr>\n",
       "      <th>65</th>\n",
       "      <td>SPORTS</td>\n",
       "      <td>Sports</td>\n",
       "      <td>384</td>\n",
       "    </tr>\n",
       "    <tr>\n",
       "      <th>66</th>\n",
       "      <td>TOOLS</td>\n",
       "      <td>Tools</td>\n",
       "      <td>843</td>\n",
       "    </tr>\n",
       "    <tr>\n",
       "      <th>67</th>\n",
       "      <td>TRAVEL_AND_LOCAL</td>\n",
       "      <td>Travel &amp; Local</td>\n",
       "      <td>258</td>\n",
       "    </tr>\n",
       "    <tr>\n",
       "      <th>68</th>\n",
       "      <td>VIDEO_PLAYERS</td>\n",
       "      <td>Video Players &amp; Editors</td>\n",
       "      <td>175</td>\n",
       "    </tr>\n",
       "    <tr>\n",
       "      <th>69</th>\n",
       "      <td>WEATHER</td>\n",
       "      <td>Weather</td>\n",
       "      <td>82</td>\n",
       "    </tr>\n",
       "  </tbody>\n",
       "</table>\n",
       "<p>70 rows × 3 columns</p>\n",
       "</div>"
      ],
      "text/plain": [
       "               Category                   Genres  count\n",
       "0        ART_AND_DESIGN             Art & Design     65\n",
       "1     AUTO_AND_VEHICLES          Auto & Vehicles     85\n",
       "2                BEAUTY                   Beauty     53\n",
       "3   BOOKS_AND_REFERENCE        Books & Reference    231\n",
       "4              BUSINESS                 Business    460\n",
       "5                COMICS                   Comics     60\n",
       "6         COMMUNICATION            Communication    387\n",
       "7                DATING                   Dating    234\n",
       "8             EDUCATION                Education    156\n",
       "9         ENTERTAINMENT            Entertainment    149\n",
       "10               EVENTS                   Events     64\n",
       "11               FAMILY                   Action     14\n",
       "12               FAMILY                Adventure     11\n",
       "13               FAMILY                   Arcade     17\n",
       "14               FAMILY             Art & Design      4\n",
       "15               FAMILY                    Board     19\n",
       "16               FAMILY        Books & Reference      3\n",
       "17               FAMILY                     Card      3\n",
       "18               FAMILY                   Casual    221\n",
       "19               FAMILY            Communication      1\n",
       "20               FAMILY                Education    489\n",
       "21               FAMILY              Educational    112\n",
       "22               FAMILY            Entertainment    518\n",
       "23               FAMILY         Health & Fitness      2\n",
       "24               FAMILY                Lifestyle      1\n",
       "25               FAMILY                    Music      4\n",
       "26               FAMILY                   Puzzle    125\n",
       "27               FAMILY                   Racing     21\n",
       "28               FAMILY             Role Playing    107\n",
       "29               FAMILY               Simulation    205\n",
       "..                  ...                      ...    ...\n",
       "40                 GAME                     Card     48\n",
       "41                 GAME                   Casino     39\n",
       "42                 GAME                   Casual     49\n",
       "43                 GAME                    Music     22\n",
       "44                 GAME                   Puzzle     42\n",
       "45                 GAME                   Racing     98\n",
       "46                 GAME             Role Playing     16\n",
       "47                 GAME               Simulation     13\n",
       "48                 GAME                   Sports     14\n",
       "49                 GAME                 Strategy     24\n",
       "50                 GAME                   Trivia     38\n",
       "51                 GAME                     Word     29\n",
       "52   HEALTH_AND_FITNESS         Health & Fitness    341\n",
       "53       HOUSE_AND_HOME             House & Home     88\n",
       "54   LIBRARIES_AND_DEMO         Libraries & Demo     85\n",
       "55            LIFESTYLE                Lifestyle    382\n",
       "56  MAPS_AND_NAVIGATION        Maps & Navigation    137\n",
       "57              MEDICAL                  Medical    463\n",
       "58   NEWS_AND_MAGAZINES         News & Magazines    283\n",
       "59            PARENTING                Parenting     60\n",
       "60      PERSONALIZATION          Personalization    392\n",
       "61          PHOTOGRAPHY              Photography    335\n",
       "62         PRODUCTIVITY             Productivity    424\n",
       "63             SHOPPING                 Shopping    260\n",
       "64               SOCIAL                   Social    295\n",
       "65               SPORTS                   Sports    384\n",
       "66                TOOLS                    Tools    843\n",
       "67     TRAVEL_AND_LOCAL           Travel & Local    258\n",
       "68        VIDEO_PLAYERS  Video Players & Editors    175\n",
       "69              WEATHER                  Weather     82\n",
       "\n",
       "[70 rows x 3 columns]"
      ]
     },
     "execution_count": 44,
     "metadata": {},
     "output_type": "execute_result"
    }
   ],
   "source": [
    "dataSet.groupby(['Category','Genres']).size().reset_index().rename(columns={0:'count'})"
   ]
  },
  {
   "cell_type": "markdown",
   "metadata": {},
   "source": [
    "#### <span style=\"color:Green\">Only family and Game have different genres within their category which means that the invistigation cannot be globalized</span>"
   ]
  },
  {
   "cell_type": "markdown",
   "metadata": {},
   "source": [
    "### Content Rating\n",
    "#### Cleaning up Content Rating"
   ]
  },
  {
   "cell_type": "code",
   "execution_count": 45,
   "metadata": {},
   "outputs": [
    {
     "name": "stdout",
     "output_type": "stream",
     "text": [
      "App               0\n",
      "Category          0\n",
      "Rating            0\n",
      "Reviews           0\n",
      "Size              0\n",
      "Installs          0\n",
      "Type              1\n",
      "Price             0\n",
      "Content Rating    0\n",
      "Genres            0\n",
      "Last Updated      0\n",
      "Current Ver       8\n",
      "Android Ver       2\n",
      "dtype: int64\n"
     ]
    }
   ],
   "source": [
    "# Treat nan values as Unrated so Everyone can use it\n",
    "# Fill nan values with Everyone\n",
    "dataSet[\"Content Rating\"] = dataSet[\"Content Rating\"].fillna('Everyone')\n",
    "# Replace Unrated value with Everyone\n",
    "dataSet.loc[dataSet['Content Rating'] == 'Unrated', 'Content Rating'] = 'Everyone'\n",
    "print(dataSet.isnull().sum())\n",
    "# No more nulls in Content Rating column"
   ]
  },
  {
   "cell_type": "markdown",
   "metadata": {},
   "source": [
    "### Relation between Rating and Content Rating"
   ]
  },
  {
   "cell_type": "markdown",
   "metadata": {},
   "source": [
    "### Calculate Correlation between content rating and app rating¶"
   ]
  },
  {
   "cell_type": "code",
   "execution_count": 46,
   "metadata": {},
   "outputs": [
    {
     "name": "stdout",
     "output_type": "stream",
     "text": [
      "Index(['Rating', 'Adults only 18+', 'Everyone', 'Everyone 10+', 'Mature 17+',\n",
      "       'Teen'],\n",
      "      dtype='object')\n",
      "[[ 1.          0.00381652 -0.02145969  0.02716377 -0.03185175  0.03153392]\n",
      " [ 0.00381652  1.         -0.03370447 -0.00331549 -0.0036549  -0.00589225]\n",
      " [-0.02145969 -0.03370447  1.         -0.40366646 -0.44499011 -0.71739209]\n",
      " [ 0.02716377 -0.00331549 -0.40366646  1.         -0.0437734  -0.07056942]\n",
      " [-0.03185175 -0.0036549  -0.44499011 -0.0437734   1.         -0.07779367]\n",
      " [ 0.03153392 -0.00589225 -0.71739209 -0.07056942 -0.07779367  1.        ]]\n"
     ]
    },
    {
     "data": {
      "image/png": "[encoded data removed]",
      "text/plain": [
       "<Figure size 1080x1080 with 36 Axes>"
      ]
     },
     "metadata": {
      "needs_background": "light"
     },
     "output_type": "display_data"
    }
   ],
   "source": [
    "# Change Categorical Content Rating attribute to numerical\n",
    "df_dummies = pd.get_dummies(dataSet['Content Rating'])\n",
    "df_new = pd.concat([dataSet[\"Rating\"], df_dummies], axis=1)\n",
    "print(df_new.columns)\n",
    "x = df_new.values\n",
    "correlation_matrix = np.corrcoef(x.T)\n",
    "print(correlation_matrix)\n",
    "pd.plotting.scatter_matrix(df_new, figsize=(15, 15))\n",
    "plt.show()"
   ]
  },
  {
   "cell_type": "markdown",
   "metadata": {},
   "source": [
    "#### <span style=\"color:Green\"> As results show, no sigificant correlation between Content Rating and app Rating</span>"
   ]
  },
  {
   "cell_type": "markdown",
   "metadata": {},
   "source": [
    "### Mean rating for each content rating category"
   ]
  },
  {
   "cell_type": "code",
   "execution_count": 47,
   "metadata": {},
   "outputs": [
    {
     "data": {
      "text/plain": [
       "<matplotlib.axes._subplots.AxesSubplot at 0x7f64417c40f0>"
      ]
     },
     "execution_count": 47,
     "metadata": {},
     "output_type": "execute_result"
    },
    {
     "data": {
      "image/png": "[encoded data removed]",
      "text/plain": [
       "<Figure size 720x720 with 1 Axes>"
      ]
     },
     "metadata": {
      "needs_background": "light"
     },
     "output_type": "display_data"
    }
   ],
   "source": [
    "dataSet.boxplot(column='Rating', by='Content Rating',rot=90, fontsize=12, figsize=(10,10), grid=True)"
   ]
  },
  {
   "cell_type": "markdown",
   "metadata": {},
   "source": [
    "#### <span style=\"color:Green\"> As we can see the mean Rating of each content rating is very near to each other with range (4.1 - 4.2) except for Adults and Teens its mean is higher than others with range(4.3 - 4.5). We can conclude that apps with smaller targeted group \"Content Rating\" have higher probability of getting higher rating than other apps with wider targeted group. </span>"
   ]
  },
  {
   "cell_type": "markdown",
   "metadata": {},
   "source": [
    "### Current Version\n",
    "#### In this part we will try to extract number of versions an app produced till the time this dataset was recorded, according to the following steps:-\n",
    "1. neglect versions with nan value\n",
    "2. take the first part of the version value for example if version = 1.1.9 then new version will be 1\n",
    "3. if a version starts with 0 then replace it with one as some apps start counting from 0\n",
    "4. neglect versions that start with alphabets"
   ]
  },
  {
   "cell_type": "code",
   "execution_count": null,
   "metadata": {},
   "outputs": [
    {
     "name": "stdout",
     "output_type": "stream",
     "text": [
      "10840\n",
      "['1' '2' 'Varies with device' '6' '3' '5' '4' '11' '0' '8' '10' '18' '9'\n",
      " '15' '14' '7' '99' '12' '37' '24' '47' 'R6' '69' '42' '196' '2018' '20'\n",
      " '13' 'v1' '01' '43' '16' 'Cannonau 3' 'p5' '112' 'Public' '220' '858'\n",
      " 'v3' 'Version:6' '02' '3196' '5423' '19' '1_39_93' '79' '108' '57' '60'\n",
      " '149' '37893' '20180609' '28' '25' '300000' 'PN' 'Initial' 'T4' '50' '27'\n",
      " '29' '584' '22' '71' '1004' '06' '2017' '17' '53' 'v5' 'MyMetro_HTML_2'\n",
      " 'v8' 'v7' '32' '20180517' 'v150' '40' '68' 'FreeTimeApp-aosp_v3'\n",
      " 'Natalia Studio Development' '30' '116' '04' '27500000' 'version 0'\n",
      " '5055' 'a' '31' '1009001' '1900001' 'v8[1' '23' '1805' '1,01' 'v2018'\n",
      " 'H7SubTV0' 'v2' '263' '65' 'acremotecontrol18' 'v67_slk3'\n",
      " 'airConditionerMaintenance_13112015' '11;11' 'acremotecontrol-v7'\n",
      " '1255162018' 'v4' '117' 'cli-6' 'Version 1' '132' '10001008' 'closed'\n",
      " '18060104' '568' '39' 'newversion' '666' '20180608' '20180620'\n",
      " 'Z (Special Edition R9)' 'Cow V3' '3_1' 'Final' '250' 'Arrow-202' '26'\n",
      " 'BL ONLINE PERSONAL TRAINING 7' '35' 'Rocksteady 1' 'V1' 'V2'\n",
      " 'no_update_signal' 'opciÃ³n de cerrar' '106' '102' 'v6' '01e' '70'\n",
      " 'fcbd82b2-dd5b-41d2-af62-432271c42921' '41' 'The CJ Rubric 7' '202' '48'\n",
      " 'CL Pro for Craigslist - Canada 150' 'Bowser4Craigslist' 'App copyright'\n",
      " 'Copyright' 'CL Strength 7' 'Gratis' 'Release 1' 'Y4W-GATE_CS-5'\n",
      " 'SolarCT 1' '2014' '200' '3000' 'KM' 'iu4' '20180805' 'INDIRIMBO V' '700'\n",
      " 'Android 2' 'Android 3' 'Translator 10' '20180518-01' 'Glueboardv'\n",
      " 'DH-Security Camera' 'v2017' '20170828' 'HTTPs' '21 - Rel2' '67'\n",
      " 'DPSTATUS1' '15|06|17' 'di-v3' 'r2' 'pb1' 'R1' 'Human Dx' '2018-04-27'\n",
      " '2018-03' '33' 'erie1' '4541' 'Build 54' 'Build 12' '130' '25072018' '56'\n",
      " '21' 'Paid-9' 'Fennec-52' 'BlueOrange' '314007' '1000000' '36' 'Pro 1'\n",
      " 'V1-180703' 'MONEY' 'F2i' '81' 'V4' '176' '060816' '125' '34' '20170920'\n",
      " 'FH CODE 1' '3rd Release Aug 2016']\n",
      "['1' '2' '6' '3' '5' '4' '11' '0' '8' '10' '18' '9' '15' '14' '7' '99'\n",
      " '12' '37' '24' '47' '69' '42' '196' '2018' '20' '13' '01' '43' '16' '112'\n",
      " '220' '858' '02' '3196' '5423' '19' '79' '108' '57' '60' '149' '37893'\n",
      " '20180609' '28' '25' '300000' '50' '27' '29' '584' '22' '71' '1004' '06'\n",
      " '2017' '17' '53' '32' '20180517' '40' '68' '30' '116' '04' '27500000'\n",
      " '5055' '31' '1009001' '1900001' '23' '1805' '263' '65' '1255162018' '117'\n",
      " '132' '10001008' '18060104' '568' '39' '666' '20180608' '20180620' '250'\n",
      " '26' '35' '106' '102' '70' '41' '202' '48' '2014' '200' '3000' '20180805'\n",
      " '700' '20170828' '67' '33' '4541' '130' '25072018' '56' '21' '314007'\n",
      " '1000000' '36' '81' '176' '060816' '125' '34' '20170920']\n",
      "85.0\n"
     ]
    }
   ],
   "source": [
    "# Number of records before exclusions\n",
    "records_before = dataSet.shape[0]\n",
    "print(dataSet.shape[0])\n",
    "# Step 1\n",
    "numberOfVersionProduced = dataSet[pd.notnull(dataSet['Current Ver'])]\n",
    "# Extract Rating and Current Ver only\n",
    "numberOfVersionProduced = numberOfVersionProduced[['Current Ver','Rating']]\n",
    "# Step 2\n",
    "numberOfVersionProduced['Current Ver'] = numberOfVersionProduced['Current Ver'].str.split(\".\", n = 1, expand = True)\n",
    "# Step 3\n",
    "numberOfVersionProduced[numberOfVersionProduced['Current Ver'] == 0] = '1'\n",
    "print(numberOfVersionProduced['Current Ver'].unique())\n",
    "# Step 4\n",
    "numberOfVersionProduced = numberOfVersionProduced[numberOfVersionProduced['Current Ver'].str.isnumeric()]\n",
    "print(numberOfVersionProduced['Current Ver'].unique())\n",
    "# Change column types to integer in order to calculate Correlation \n",
    "numberOfVersionProduced['Current Ver'] = numberOfVersionProduced['Current Ver'].astype(int)\n",
    "numberOfVersionProduced['Rating'] = numberOfVersionProduced['Rating'].astype(int)\n",
    "# Calculate Remaining dataset percentage \n",
    "print((numberOfVersionProduced.shape[0]/records_before)*100)"
   ]
  },
  {
   "cell_type": "markdown",
   "metadata": {},
   "source": [
    "### Relation between number of versions and Rating for 85% of total dataset"
   ]
  },
  {
   "cell_type": "code",
   "execution_count": null,
   "metadata": {},
   "outputs": [
    {
     "name": "stdout",
     "output_type": "stream",
     "text": [
      "             Current Ver    Rating\n",
      "Current Ver     1.000000  0.003579\n",
      "Rating          0.003579  1.000000\n"
     ]
    }
   ],
   "source": [
    "print(numberOfVersionProduced.corr())"
   ]
  },
  {
   "cell_type": "markdown",
   "metadata": {},
   "source": [
    "#### <span style=\"color:Green\"> As we can see the correlation is very small but we can say that there is a positive relation between number of produced versions and the app rating so as versions increase, rating increases. This actually makes sense as an app that cares about bugs and trying to fix them and also update its product this means customers will give it higher ratings. Regarding the small relation value, this may be caused as the way used to calculate number of produced versions may be not correct as each app uses different version format so finding a way that translates every format is a hard task.</span>"
   ]
  },
  {
   "cell_type": "markdown",
   "metadata": {},
   "source": [
    "### Investegating the Android Ver column"
   ]
  },
  {
   "cell_type": "code",
   "execution_count": null,
   "metadata": {},
   "outputs": [
    {
     "name": "stdout",
     "output_type": "stream",
     "text": [
      "Missing values in Android Ver:  2\n"
     ]
    }
   ],
   "source": [
    "data = dataSet\n",
    "\n",
    "missing_values_count1 = data['Android Ver'].isnull().sum()\n",
    "\n",
    "print(\"Missing values in Android Ver: \",missing_values_count1)"
   ]
  },
  {
   "cell_type": "code",
   "execution_count": null,
   "metadata": {},
   "outputs": [
    {
     "name": "stdout",
     "output_type": "stream",
     "text": [
      "Unique values in Android Ver: \n",
      " ['4.0.3 and up' '4.2 and up' '4.4 and up' '2.3 and up' '3.0 and up'\n",
      " '4.1 and up' '4.0 and up' '2.3.3 and up' 'Varies with device'\n",
      " '2.2 and up' '5.0 and up' '6.0 and up' '1.6 and up' '1.5 and up'\n",
      " '2.1 and up' '7.0 and up' '5.1 and up' '4.3 and up' '4.0.3 - 7.1.1'\n",
      " '2.0 and up' '3.2 and up' '4.4W and up' '7.1 and up' '7.0 - 7.1.1'\n",
      " '8.0 and up' '5.0 - 8.0' '3.1 and up' '2.0.1 and up' '4.1 - 7.1.1' nan\n",
      " '5.0 - 6.0' '1.0 and up' '2.2 - 7.1.1' '5.0 - 7.1.1']\n"
     ]
    }
   ],
   "source": [
    "unique_android_ver = data['Android Ver'].unique()\n",
    "\n",
    "print(\"Unique values in Android Ver: \\n\",unique_android_ver)"
   ]
  },
  {
   "cell_type": "code",
   "execution_count": null,
   "metadata": {},
   "outputs": [
    {
     "name": "stdout",
     "output_type": "stream",
     "text": [
      "Count of values in Android Ver: \n",
      " 4.1 and up            2451\n",
      "4.0.3 and up          1501\n",
      "4.0 and up            1375\n",
      "Varies with device    1362\n",
      "4.4 and up             980\n",
      "2.3 and up             652\n",
      "5.0 and up             601\n",
      "4.2 and up             394\n",
      "2.3.3 and up           281\n",
      "2.2 and up             244\n",
      "4.3 and up             243\n",
      "3.0 and up             241\n",
      "2.1 and up             134\n",
      "1.6 and up             116\n",
      "6.0 and up              60\n",
      "7.0 and up              42\n",
      "3.2 and up              36\n",
      "2.0 and up              32\n",
      "5.1 and up              24\n",
      "1.5 and up              20\n",
      "4.4W and up             12\n",
      "3.1 and up              10\n",
      "2.0.1 and up             7\n",
      "8.0 and up               6\n",
      "7.1 and up               3\n",
      "5.0 - 8.0                2\n",
      "4.0.3 - 7.1.1            2\n",
      "1.0 and up               2\n",
      "2.2 - 7.1.1              1\n",
      "5.0 - 6.0                1\n",
      "5.0 - 7.1.1              1\n",
      "7.0 - 7.1.1              1\n",
      "4.1 - 7.1.1              1\n",
      "Name: Android Ver, dtype: int64\n"
     ]
    }
   ],
   "source": [
    "count_android_ver = data['Android Ver'].value_counts()\n",
    "\n",
    "print(\"Count of values in Android Ver: \\n\",count_android_ver)"
   ]
  },
  {
   "cell_type": "markdown",
   "metadata": {},
   "source": [
    "### All rows should have same semantic of showing what it represents so i replaced rows values with different representation to match the other majorty\n"
   ]
  },
  {
   "cell_type": "markdown",
   "metadata": {},
   "source": [
    "### null values will be replaced with \"varies with device\" as not having a value for the android version reflects that it's not determined clearly."
   ]
  },
  {
   "cell_type": "code",
   "execution_count": null,
   "metadata": {},
   "outputs": [],
   "source": [
    "\n",
    "data['Android Ver'] = data['Android Ver'].replace(np.nan, 'Varies with device')\n",
    "\n",
    "data['Android Ver'] = data['Android Ver'].replace('4.4W and up', '4.4 and up')\n",
    "\n",
    "data['Android Ver'] = data['Android Ver'].replace('5.0 - 8.0', '5.0 and up till 8.0')\n",
    "\n",
    "data['Android Ver'] = data['Android Ver'].replace('5.0 - 6.0', '5.0 and up till 6.0')\n",
    "\n",
    "data['Android Ver'] = data['Android Ver'].replace('7.0 - 7.1.1', '7.0 and up till 7.1.1')\n",
    "\n",
    "data['Android Ver'] = data['Android Ver'].replace('5.0 - 7.1.1', '5.0 and up till 7.1.1')\n",
    "\n",
    "data['Android Ver'] = data['Android Ver'].replace('4.1 - 7.1.1', '4.1 and up till 7.1.1')\n",
    "\n",
    "data['Android Ver'] = data['Android Ver'].replace('2.2 - 7.1.1', '2.2 and up till 7.1.1')\n",
    "\n",
    "data['Android Ver'] = data['Android Ver'].replace('4.0.3 - 7.1.1', '4.0.3 and up till 7.1.1')"
   ]
  },
  {
   "cell_type": "code",
   "execution_count": null,
   "metadata": {},
   "outputs": [
    {
     "name": "stdout",
     "output_type": "stream",
     "text": [
      "Count of values in Android Ver: \n",
      " 4.1 and up                 2451\n",
      "4.0.3 and up               1501\n",
      "4.0 and up                 1375\n",
      "Varies with device         1364\n",
      "4.4 and up                  992\n",
      "2.3 and up                  652\n",
      "5.0 and up                  601\n",
      "4.2 and up                  394\n",
      "2.3.3 and up                281\n",
      "2.2 and up                  244\n",
      "4.3 and up                  243\n",
      "3.0 and up                  241\n",
      "2.1 and up                  134\n",
      "1.6 and up                  116\n",
      "6.0 and up                   60\n",
      "7.0 and up                   42\n",
      "3.2 and up                   36\n",
      "2.0 and up                   32\n",
      "5.1 and up                   24\n",
      "1.5 and up                   20\n",
      "3.1 and up                   10\n",
      "2.0.1 and up                  7\n",
      "8.0 and up                    6\n",
      "7.1 and up                    3\n",
      "1.0 and up                    2\n",
      "4.0.3 and up till 7.1.1       2\n",
      "5.0 and up till 8.0           2\n",
      "5.0 and up till 7.1.1         1\n",
      "4.1 and up till 7.1.1         1\n",
      "2.2 and up till 7.1.1         1\n",
      "7.0 and up till 7.1.1         1\n",
      "5.0 and up till 6.0           1\n",
      "Name: Android Ver, dtype: int64\n"
     ]
    }
   ],
   "source": [
    "count_android_ver = data['Android Ver'].value_counts()\n",
    "\n",
    "print(\"Count of values in Android Ver: \\n\",count_android_ver)"
   ]
  },
  {
   "cell_type": "code",
   "execution_count": null,
   "metadata": {},
   "outputs": [
    {
     "data": {
      "text/plain": [
       "<matplotlib.axes._subplots.AxesSubplot at 0x7f643991a6d8>"
      ]
     },
     "execution_count": 55,
     "metadata": {},
     "output_type": "execute_result"
    },
    {
     "data": {
      "image/png": "[encoded data removed]",
      "text/plain": [
       "<Figure size 432x288 with 1 Axes>"
      ]
     },
     "metadata": {
      "needs_background": "light"
     },
     "output_type": "display_data"
    }
   ],
   "source": [
    "data['Android Ver'].value_counts().plot(kind='barh')"
   ]
  },
  {
   "cell_type": "markdown",
   "metadata": {},
   "source": [
    "### The majorty of the apps in the dataset require that mobile phones has an android version that's higher than 4.1"
   ]
  },
  {
   "cell_type": "markdown",
   "metadata": {},
   "source": [
    "### Investegating the Last Updated column"
   ]
  },
  {
   "cell_type": "code",
   "execution_count": null,
   "metadata": {},
   "outputs": [
    {
     "name": "stdout",
     "output_type": "stream",
     "text": [
      "Missing values in Last Updated:  0\n"
     ]
    }
   ],
   "source": [
    "missing_values_count2 = data['Last Updated'].isnull().sum()\n",
    "\n",
    "print(\"Missing values in Last Updated: \",missing_values_count2)"
   ]
  },
  {
   "cell_type": "code",
   "execution_count": null,
   "metadata": {},
   "outputs": [
    {
     "name": "stdout",
     "output_type": "stream",
     "text": [
      "Unique values in Last Updated: \n",
      " ['January 7, 2018' 'January 15, 2018' 'August 1, 2018' ...\n",
      " 'January 20, 2014' 'February 16, 2014' 'March 23, 2014']\n"
     ]
    }
   ],
   "source": [
    "unique_last_updated = data['Last Updated'].unique()\n",
    "\n",
    "print(\"Unique values in Last Updated: \\n\",unique_last_updated)"
   ]
  },
  {
   "cell_type": "code",
   "execution_count": null,
   "metadata": {},
   "outputs": [
    {
     "name": "stdout",
     "output_type": "stream",
     "text": [
      "Count of values in Last Updated: \n",
      " August 3, 2018        326\n",
      "August 2, 2018        304\n",
      "July 31, 2018         294\n",
      "August 1, 2018        285\n",
      "July 30, 2018         211\n",
      "July 25, 2018         164\n",
      "July 26, 2018         161\n",
      "August 6, 2018        158\n",
      "July 27, 2018         151\n",
      "July 24, 2018         148\n",
      "July 23, 2018         127\n",
      "July 16, 2018         126\n",
      "July 19, 2018         126\n",
      "July 18, 2018         123\n",
      "July 11, 2018         106\n",
      "August 4, 2018        105\n",
      "July 12, 2018         103\n",
      "July 5, 2018           93\n",
      "July 17, 2018          92\n",
      "July 3, 2018           90\n",
      "July 9, 2018           89\n",
      "July 20, 2018          88\n",
      "July 13, 2018          81\n",
      "May 24, 2018           69\n",
      "July 6, 2018           63\n",
      "June 27, 2018          63\n",
      "June 26, 2018          60\n",
      "June 25, 2018          56\n",
      "May 25, 2018           56\n",
      "June 13, 2018          54\n",
      "                     ... \n",
      "September 22, 2014      1\n",
      "April 25, 2014          1\n",
      "December 23, 2013       1\n",
      "May 9, 2013             1\n",
      "May 6, 2014             1\n",
      "September 4, 2016       1\n",
      "February 8, 2012        1\n",
      "April 14, 2015          1\n",
      "October 6, 2014         1\n",
      "May 3, 2016             1\n",
      "June 26, 2015           1\n",
      "December 12, 2013       1\n",
      "March 13, 2017          1\n",
      "January 17, 2012        1\n",
      "February 11, 2016       1\n",
      "May 25, 2016            1\n",
      "August 18, 2012         1\n",
      "June 1, 2012            1\n",
      "May 13, 2016            1\n",
      "June 6, 2014            1\n",
      "July 20, 2013           1\n",
      "October 18, 2014        1\n",
      "June 30, 2014           1\n",
      "May 16, 2014            1\n",
      "January 28, 2017        1\n",
      "April 19, 2016          1\n",
      "July 9, 2014            1\n",
      "June 18, 2016           1\n",
      "October 7, 2014         1\n",
      "April 10, 2013          1\n",
      "Name: Last Updated, Length: 1377, dtype: int64\n"
     ]
    }
   ],
   "source": [
    "count_last_updated = data['Last Updated'].value_counts()\n",
    "\n",
    "print(\"Count of values in Last Updated: \\n\",count_last_updated)"
   ]
  },
  {
   "cell_type": "code",
   "execution_count": null,
   "metadata": {},
   "outputs": [
    {
     "name": "stdout",
     "output_type": "stream",
     "text": [
      "Count of values in Last Updated: \n",
      " August 3, 2018        326\n",
      "August 2, 2018        304\n",
      "July 31, 2018         294\n",
      "August 1, 2018        285\n",
      "July 30, 2018         211\n",
      "July 25, 2018         164\n",
      "July 26, 2018         161\n",
      "August 6, 2018        158\n",
      "July 27, 2018         151\n",
      "July 24, 2018         148\n",
      "July 23, 2018         127\n",
      "July 16, 2018         126\n",
      "July 19, 2018         126\n",
      "July 18, 2018         123\n",
      "July 11, 2018         106\n",
      "August 4, 2018        105\n",
      "July 12, 2018         103\n",
      "July 5, 2018           93\n",
      "July 17, 2018          92\n",
      "July 3, 2018           90\n",
      "July 9, 2018           89\n",
      "July 20, 2018          88\n",
      "July 13, 2018          81\n",
      "May 24, 2018           69\n",
      "July 6, 2018           63\n",
      "June 27, 2018          63\n",
      "June 26, 2018          60\n",
      "June 25, 2018          56\n",
      "May 25, 2018           56\n",
      "June 13, 2018          54\n",
      "                     ... \n",
      "September 22, 2014      1\n",
      "April 25, 2014          1\n",
      "December 23, 2013       1\n",
      "May 9, 2013             1\n",
      "May 6, 2014             1\n",
      "September 4, 2016       1\n",
      "February 8, 2012        1\n",
      "April 14, 2015          1\n",
      "October 6, 2014         1\n",
      "May 3, 2016             1\n",
      "June 26, 2015           1\n",
      "December 12, 2013       1\n",
      "March 13, 2017          1\n",
      "January 17, 2012        1\n",
      "February 11, 2016       1\n",
      "May 25, 2016            1\n",
      "August 18, 2012         1\n",
      "June 1, 2012            1\n",
      "May 13, 2016            1\n",
      "June 6, 2014            1\n",
      "July 20, 2013           1\n",
      "October 18, 2014        1\n",
      "June 30, 2014           1\n",
      "May 16, 2014            1\n",
      "January 28, 2017        1\n",
      "April 19, 2016          1\n",
      "July 9, 2014            1\n",
      "June 18, 2016           1\n",
      "October 7, 2014         1\n",
      "April 10, 2013          1\n",
      "Name: Last Updated, Length: 1377, dtype: int64\n"
     ]
    }
   ],
   "source": [
    "count_last_updated = data['Last Updated'].value_counts()\n",
    "\n",
    "print(\"Count of values in Last Updated: \\n\",count_last_updated)"
   ]
  },
  {
   "cell_type": "code",
   "execution_count": null,
   "metadata": {},
   "outputs": [
    {
     "name": "stdout",
     "output_type": "stream",
     "text": [
      "Missing values in Android Ver:  0\n"
     ]
    }
   ],
   "source": [
    "missing_values_count1 = data['Android Ver'].isnull().sum()\n",
    "\n",
    "# look at the # of missing points in the first ten columns\n",
    "print(\"Missing values in Android Ver: \",missing_values_count1)"
   ]
  },
  {
   "cell_type": "markdown",
   "metadata": {},
   "source": [
    "### The last updated column has a non common representation of dates so converting this representation would make investegating more reliable"
   ]
  },
  {
   "cell_type": "code",
   "execution_count": null,
   "metadata": {},
   "outputs": [],
   "source": [
    "months = data['Last Updated'].str.split(' ').str[0]\n",
    "months[months=='January'] =\"1\"\n",
    "months[months=='August'] =\"8\"\n",
    "months[months=='June'] =\"16\"\n",
    "months[months=='March'] =\"3\"\n",
    "months[months=='September'] =\"9\"\n",
    "months[months=='July'] =\"7\"\n",
    "months[months=='October'] =\"10\"\n",
    "months[months=='November'] =\"11\"\n",
    "months[months=='May'] =\"5\"\n",
    "months[months=='December'] =\"12\"\n",
    "months[months=='February'] =\"2\"\n",
    "months[months=='April'] =\"4\"\n",
    "years = data['Last Updated'].str.split(', ').str[1]\n",
    "\n",
    "temp = data['Last Updated'].str.split(',').str[0]\n",
    "\n",
    "date = months+'-'+years\n",
    "\n",
    "data['Last Updated'] = date"
   ]
  },
  {
   "cell_type": "code",
   "execution_count": null,
   "metadata": {},
   "outputs": [
    {
     "data": {
      "text/plain": [
       "88"
      ]
     },
     "execution_count": 62,
     "metadata": {},
     "output_type": "execute_result"
    }
   ],
   "source": [
    "len(data['Last Updated'].unique())"
   ]
  },
  {
   "cell_type": "code",
   "execution_count": null,
   "metadata": {},
   "outputs": [
    {
     "data": {
      "text/plain": [
       "<matplotlib.axes._subplots.AxesSubplot at 0x7f6439de3f60>"
      ]
     },
     "execution_count": 63,
     "metadata": {},
     "output_type": "execute_result"
    },
    {
     "data": {
      "image/png": "[encoded data removed]",
      "text/plain": [
       "<Figure size 1080x720 with 1 Axes>"
      ]
     },
     "metadata": {
      "needs_background": "light"
     },
     "output_type": "display_data"
    }
   ],
   "source": [
    "data['Last Updated'].value_counts().plot(kind='barh',figsize=(15,10))"
   ]
  },
  {
   "cell_type": "markdown",
   "metadata": {},
   "source": [
    "### Most of the apps in this dataset are not recently updated as all of them are last updated before 7-2018"
   ]
  },
  {
   "cell_type": "markdown",
   "metadata": {},
   "source": [
    "### Relation between Android Ver and Rating"
   ]
  },
  {
   "cell_type": "code",
   "execution_count": null,
   "metadata": {},
   "outputs": [
    {
     "data": {
      "text/plain": [
       "<matplotlib.axes._subplots.AxesSubplot at 0x7f643b028438>"
      ]
     },
     "execution_count": 64,
     "metadata": {},
     "output_type": "execute_result"
    },
    {
     "data": {
      "image/png": "[encoded data removed]",
      "text/plain": [
       "<Figure size 720x720 with 1 Axes>"
      ]
     },
     "metadata": {
      "needs_background": "light"
     },
     "output_type": "display_data"
    }
   ],
   "source": [
    "data.boxplot(column='Rating', by='Android Ver',rot=90, fontsize=12, figsize=(10,10), grid=True)"
   ]
  },
  {
   "cell_type": "markdown",
   "metadata": {},
   "source": [
    "#### <span style=\"color:Green\">As shown, the average rating of each android version ranges between two close numbers so that indicated that there's no effect of correlation between the android version that the app requires and the rating of that app</span>"
   ]
  },
  {
   "cell_type": "markdown",
   "metadata": {},
   "source": [
    "### Relation between Last Updated and Rating"
   ]
  },
  {
   "cell_type": "code",
   "execution_count": null,
   "metadata": {},
   "outputs": [
    {
     "data": {
      "text/plain": [
       "<matplotlib.collections.PathCollection at 0x7f643a11e080>"
      ]
     },
     "execution_count": 65,
     "metadata": {},
     "output_type": "execute_result"
    },
    {
     "data": {
      "image/png": "[encoded data removed]",
      "text/plain": [
       "<Figure size 1440x1440 with 1 Axes>"
      ]
     },
     "metadata": {
      "needs_background": "light"
     },
     "output_type": "display_data"
    }
   ],
   "source": [
    "plt.figure(figsize=(20,20))\n",
    "\n",
    "plt.scatter(data['Last Updated'], data['Rating'])"
   ]
  },
  {
   "cell_type": "code",
   "execution_count": null,
   "metadata": {},
   "outputs": [
    {
     "data": {
      "text/plain": [
       "<matplotlib.axes._subplots.AxesSubplot at 0x7f6439f60550>"
      ]
     },
     "execution_count": 66,
     "metadata": {},
     "output_type": "execute_result"
    },
    {
     "data": {
      "image/png": "[encoded data removed]",
      "text/plain": [
       "<Figure size 1440x360 with 1 Axes>"
      ]
     },
     "metadata": {
      "needs_background": "light"
     },
     "output_type": "display_data"
    }
   ],
   "source": [
    "data.groupby(['Last Updated']).Rating.mean().plot(kind='bar',figsize=(20,5),fontsize=12,rot=90)"
   ]
  },
  {
   "cell_type": "markdown",
   "metadata": {},
   "source": [
    "#### <span style=\"color:Green\">As shown from both the scatter plot and the bar chart the rating has no relation what so ever with date when it was last updated, the scatter plot shows no grouping or shape of scattered points and the bar chart shows that the rating is mostly always slightly less than or more than or equal to 4</span>"
   ]
  },
  {
   "cell_type": "code",
   "execution_count": null,
   "metadata": {},
   "outputs": [],
   "source": [
    "dataSet = data"
   ]
  },
  {
   "cell_type": "markdown",
   "metadata": {},
   "source": [
    "## Type"
   ]
  },
  {
   "cell_type": "code",
   "execution_count": null,
   "metadata": {},
   "outputs": [
    {
     "data": {
      "text/plain": [
       "count     10839\n",
       "unique        2\n",
       "top        Free\n",
       "freq      10039\n",
       "Name: Type, dtype: object"
      ]
     },
     "execution_count": 68,
     "metadata": {},
     "output_type": "execute_result"
    }
   ],
   "source": [
    "dataSet['Type'].describe()"
   ]
  },
  {
   "cell_type": "code",
   "execution_count": null,
   "metadata": {},
   "outputs": [
    {
     "data": {
      "text/plain": [
       "array(['Free', 'Paid', nan], dtype=object)"
      ]
     },
     "execution_count": 69,
     "metadata": {},
     "output_type": "execute_result"
    }
   ],
   "source": [
    "dataSet['Type'].unique()"
   ]
  },
  {
   "cell_type": "code",
   "execution_count": null,
   "metadata": {},
   "outputs": [
    {
     "data": {
      "text/plain": [
       "<matplotlib.axes._subplots.AxesSubplot at 0x7f64398eb5c0>"
      ]
     },
     "execution_count": 70,
     "metadata": {},
     "output_type": "execute_result"
    },
    {
     "data": {
      "image/png": "[encoded data removed]",
      "text/plain": [
       "<Figure size 432x288 with 1 Axes>"
      ]
     },
     "metadata": {
      "needs_background": "light"
     },
     "output_type": "display_data"
    }
   ],
   "source": [
    "dataSet['Type'].value_counts().plot(kind='bar')"
   ]
  },
  {
   "cell_type": "markdown",
   "metadata": {},
   "source": [
    "#### <span style=\"color:Green\">We can now conclude the following about Type attribute:</span>\n",
    "\n",
    "1. As the total number of records now = 10840, and here the counts = 10839 which means and as shown before that there is one record that has null value for Type.\n",
    "2. There are two unique values for Type which are Free and Paid where most of the apps are Free."
   ]
  },
  {
   "cell_type": "code",
   "execution_count": null,
   "metadata": {},
   "outputs": [],
   "source": [
    "dataSet[dataSet['Type'].isnull()]"
   ]
  },
  {
   "cell_type": "code",
   "execution_count": null,
   "metadata": {},
   "outputs": [],
   "source": [
    "dataSet['Type'].value_counts()"
   ]
  },
  {
   "cell_type": "code",
   "execution_count": null,
   "metadata": {},
   "outputs": [],
   "source": [
    "dataSet['Type'].fillna('Free', inplace = True) "
   ]
  },
  {
   "cell_type": "code",
   "execution_count": null,
   "metadata": {
    "scrolled": true
   },
   "outputs": [],
   "source": [
    "dataSet.isnull().sum()"
   ]
  },
  {
   "cell_type": "markdown",
   "metadata": {},
   "source": [
    "#### As there is only one missing value and approximately 93% of the apps are Free so it more likely to replace the null value with Free"
   ]
  },
  {
   "cell_type": "markdown",
   "metadata": {},
   "source": [
    "### Relation between Type and Rating  "
   ]
  },
  {
   "cell_type": "code",
   "execution_count": null,
   "metadata": {},
   "outputs": [],
   "source": [
    "plt.scatter(dataSet['Rating'], dataSet['Type'])\n",
    "\n",
    "plt.title('Relation between Type and Ratings')\n",
    "\n",
    "plt.xlabel('Rating')\n",
    "\n",
    "plt.ylabel('Type')\n",
    "\n",
    "plt.show()"
   ]
  },
  {
   "cell_type": "code",
   "execution_count": null,
   "metadata": {},
   "outputs": [],
   "source": [
    "dataSet.boxplot(column='Rating', by='Type',rot=90, fontsize=12, figsize=(10,5), grid=True)"
   ]
  },
  {
   "cell_type": "markdown",
   "metadata": {},
   "source": [
    "### Conclusion"
   ]
  },
  {
   "cell_type": "markdown",
   "metadata": {},
   "source": [
    "#### <span style=\"color : Green\">There is no relation between the increase of rating and whether the app is free or paid as it is shown clearly in the scatter plot and also box plot shows that both categories of paid and free have very similar mean and standard deviation."
   ]
  },
  {
   "cell_type": "markdown",
   "metadata": {},
   "source": [
    "## Price"
   ]
  },
  {
   "cell_type": "code",
   "execution_count": null,
   "metadata": {
    "scrolled": true
   },
   "outputs": [],
   "source": [
    "dataSet['Price'].describe()"
   ]
  },
  {
   "cell_type": "code",
   "execution_count": null,
   "metadata": {},
   "outputs": [],
   "source": [
    "dataSet['Price'].unique()"
   ]
  },
  {
   "cell_type": "markdown",
   "metadata": {},
   "source": [
    "This describes that all records have Price attribute, where most of the apps' price equal to zero which means most of the apps are free which is concluded also in the type part. Also, we can deduce that the currency of the data is dollar. However, we need to represent Price as numeric for better visualization."
   ]
  },
  {
   "cell_type": "code",
   "execution_count": null,
   "metadata": {},
   "outputs": [],
   "source": [
    "dataSet['Price'] = dataSet['Price'].apply(lambda x: x.replace('$',''))\n",
    "dataSet['Price'] = dataSet['Price'].apply(lambda x: float(x))"
   ]
  },
  {
   "cell_type": "markdown",
   "metadata": {},
   "source": [
    "We have removed the dollar sign then transformed string to float."
   ]
  },
  {
   "cell_type": "code",
   "execution_count": null,
   "metadata": {},
   "outputs": [],
   "source": [
    "dataSet['Price'].describe()"
   ]
  },
  {
   "cell_type": "code",
   "execution_count": null,
   "metadata": {},
   "outputs": [],
   "source": [
    "plt.scatter(dataSet['Rating'], dataSet['Price'])\n",
    "\n",
    "plt.title('Relation between Price and Ratings')\n",
    "\n",
    "plt.xlabel('Rating')\n",
    "\n",
    "plt.ylabel('Price')\n",
    "\n",
    "plt.show()"
   ]
  },
  {
   "cell_type": "code",
   "execution_count": null,
   "metadata": {},
   "outputs": [],
   "source": [
    "dataSet.boxplot(column='Rating', by='Price',rot=90, fontsize=12, figsize=(20,5), grid=True)"
   ]
  },
  {
   "cell_type": "code",
   "execution_count": null,
   "metadata": {},
   "outputs": [],
   "source": [
    "dataSet['Price'].corr(dataSet['Rating'])"
   ]
  },
  {
   "cell_type": "markdown",
   "metadata": {},
   "source": [
    "## Conclusion"
   ]
  },
  {
   "cell_type": "markdown",
   "metadata": {},
   "source": [
    "#### <span style=\"color : Green\">From the scatter plot we can see that free apps and the ones with low cost have wide range of rating, while the apps with higher price most of the time gives high rating. By calculating correlation it gives us very low value that is hard to be considered.</span>"
   ]
  },
  {
   "cell_type": "markdown",
   "metadata": {},
   "source": [
    "## Here we will check if there is a correlation between the number of reviews and the rating for an App .Since Reviews doesn't contain null values  and it is numerical so we directly used  a scatter plot to investigate the realtion between it and the imputed Ratings cloumn."
   ]
  },
  {
   "cell_type": "code",
   "execution_count": null,
   "metadata": {},
   "outputs": [],
   "source": [
    "plt.scatter(dataSet.Rating,dataSet.Reviews)"
   ]
  },
  {
   "cell_type": "markdown",
   "metadata": {},
   "source": [
    "#### <span style=\"color:Green\">  From the Scatter plot we can see that there is no relation between the number Reviews and the Rating for an app </span>"
   ]
  },
  {
   "cell_type": "markdown",
   "metadata": {},
   "source": [
    "#### HERE we will apply transformation to installs into numerical value to use a scatter plot to investigate the relation between the Rating and the number of Installs ."
   ]
  },
  {
   "cell_type": "markdown",
   "metadata": {},
   "source": [
    "###  Transform Installs to Numerical Value"
   ]
  },
  {
   "cell_type": "code",
   "execution_count": null,
   "metadata": {},
   "outputs": [],
   "source": [
    "installsNew = [] # define array structure\n",
    "for installsNum in dataSet[\"Installs\"]:\n",
    "    if(installsNum[len(installsNum)-1]==\"+\"):\n",
    "        install=(installsNum[:len(installsNum)-1]).replace(',','')\n",
    "    elif(installsNum[len(installsNum)-1]==\"0\"):\n",
    "        install=installsNum\n",
    "   \n",
    "    install=int(install)\n",
    "    installsNew.append(install)\n",
    "dataSet[\"InstallsNumerical\"] = installsNew"
   ]
  },
  {
   "cell_type": "code",
   "execution_count": null,
   "metadata": {},
   "outputs": [],
   "source": [
    "dataSet"
   ]
  },
  {
   "cell_type": "markdown",
   "metadata": {},
   "source": [
    "### After tranforming the Installs attribue into numeriacal attribute the correlation between the number of installs (installsNumerical) and the Ratings can be visited using a scatter plot. "
   ]
  },
  {
   "cell_type": "code",
   "execution_count": null,
   "metadata": {},
   "outputs": [],
   "source": [
    "installs=dataSet.Installs.unique()\n",
    "installs"
   ]
  },
  {
   "cell_type": "code",
   "execution_count": null,
   "metadata": {},
   "outputs": [],
   "source": [
    "dataSet.InstallsNumerical.value_counts()"
   ]
  },
  {
   "cell_type": "code",
   "execution_count": null,
   "metadata": {},
   "outputs": [],
   "source": [
    "plt.scatter(dataSet.Rating, dataSet.InstallsNumerical)"
   ]
  },
  {
   "cell_type": "code",
   "execution_count": null,
   "metadata": {},
   "outputs": [],
   "source": [
    "dataSet.groupby('Category').InstallsNumerical.mean().plot(kind='bar')"
   ]
  },
  {
   "cell_type": "markdown",
   "metadata": {},
   "source": [
    "### <span style=\"color:Green\"> The histogram above shows that the highest Mean of installs is for the COMMUNICATION apps  </span> "
   ]
  },
  {
   "cell_type": "markdown",
   "metadata": {},
   "source": [
    "### But may be there is no correlation because the values of the installs are very large so Now we will try to Normalize the InstallsNumerical Values using the MInMax Normalization so that the values of installs and the values of the rating Ranges are close !!"
   ]
  },
  {
   "cell_type": "code",
   "execution_count": null,
   "metadata": {},
   "outputs": [],
   "source": [
    "installsNewNormalized = [] # define array structure\n",
    "maxValue=dataSet.InstallsNumerical.max()\n",
    "minValue=dataSet.InstallsNumerical.min()\n",
    "\n",
    "for installsNum in dataSet[\"InstallsNumerical\"]:\n",
    "    normalizedValue=(((installsNum-minValue)/(maxValue-minValue))/(1-0))+0\n",
    "    installsNewNormalized.append(normalizedValue)\n",
    "dataSet[\"NormalizedInstalls\"] =installsNewNormalized"
   ]
  },
  {
   "cell_type": "code",
   "execution_count": null,
   "metadata": {},
   "outputs": [],
   "source": [
    "dataSet"
   ]
  },
  {
   "cell_type": "code",
   "execution_count": null,
   "metadata": {},
   "outputs": [],
   "source": [
    "dataSet.NormalizedInstalls.unique()"
   ]
  },
  {
   "cell_type": "code",
   "execution_count": null,
   "metadata": {},
   "outputs": [],
   "source": [
    "plt.scatter(dataSet.Rating, dataSet.NormalizedInstalls)"
   ]
  },
  {
   "cell_type": "markdown",
   "metadata": {},
   "source": [
    "### <span style=\"color:Green\">There is no much difference still there is no correlation </span>"
   ]
  },
  {
   "cell_type": "markdown",
   "metadata": {},
   "source": [
    "### Now investigate the correlation between the Rating and the size (the size has a value called Varies with device and this value means that the size of the application varies with the device)"
   ]
  },
  {
   "cell_type": "markdown",
   "metadata": {},
   "source": [
    "### Transform Size to Numerical Value "
   ]
  },
  {
   "cell_type": "code",
   "execution_count": null,
   "metadata": {},
   "outputs": [],
   "source": [
    "sizeNumerical = [] # define array structure\n",
    "for size in dataSet[\"Size\"]:\n",
    "    if(size[len(size)-1]=='M'):\n",
    "        num=float(size[:len(size)-1])\n",
    "        sizeNumerical.append(num*1000000)\n",
    "    elif(size[len(size)-1]=='K'):\n",
    "        num=float(size[:len(size)-1])\n",
    "        sizeNumerical.append(num*1000)\n",
    "    elif(size[len(size)-1]=='e'):\n",
    "        sizeNumerical.append(0)\n",
    "    else:\n",
    "        sizeNumerical.append(0)\n",
    "        "
   ]
  },
  {
   "cell_type": "markdown",
   "metadata": {},
   "source": [
    "### Discretize the Numerical Size attribute "
   ]
  },
  {
   "cell_type": "code",
   "execution_count": null,
   "metadata": {},
   "outputs": [],
   "source": [
    "sizeDiscretized = []\n",
    "for size in sizeNumerical:\n",
    "    if size == -1:\n",
    "        sizeDiscretized.append(\"varies with device\")\n",
    "    elif 0 <= size <= 100:\n",
    "        sizeDiscretized.append(\"0-10*2\")\n",
    "    elif  100< size <= 10000:\n",
    "         sizeDiscretized.append(\"10*2-10*4\")\n",
    "    elif 10000 < size <= 1000000:\n",
    "        sizeDiscretized.append(\"10*4-10*6\")\n",
    "    elif 1000000 < size <=100000000:\n",
    "        sizeDiscretized.append(\"10*6-10*8\")\n",
    "dataSet[\"SizeDiscretized\"] = sizeDiscretized        \n",
    "    "
   ]
  },
  {
   "cell_type": "code",
   "execution_count": null,
   "metadata": {},
   "outputs": [],
   "source": [
    "dataSet"
   ]
  },
  {
   "cell_type": "markdown",
   "metadata": {},
   "source": [
    "### Discretize the rating to be seen as a Categorical variable so that we can use the chi-square test"
   ]
  },
  {
   "cell_type": "code",
   "execution_count": null,
   "metadata": {},
   "outputs": [],
   "source": [
    "dataSet[\"RatingDiscretized\"] = dataSet[\"Rating\"].apply(lambda x: int(round(x)))\n",
    "dataSet.head()"
   ]
  },
  {
   "cell_type": "markdown",
   "metadata": {},
   "source": [
    "### Apply the chi-square test on the  Rating and discretized size to investigate the relationship between the 2 attributes "
   ]
  },
  {
   "cell_type": "code",
   "execution_count": null,
   "metadata": {},
   "outputs": [],
   "source": [
    "contengency_table = pd.crosstab(dataSet[\"RatingDiscretized\"],dataSet[\"SizeDiscretized\"], margins= False)\n",
    "contengency_table"
   ]
  },
  {
   "cell_type": "code",
   "execution_count": null,
   "metadata": {
    "scrolled": true
   },
   "outputs": [],
   "source": [
    "st.chi2_contingency(contengency_table)"
   ]
  },
  {
   "cell_type": "markdown",
   "metadata": {},
   "source": [
    "#### <span style=\"color:Green\"> The chi-square test showed that the degree of freedom(columns -1)*(rows-1)=76 and a P value <.05 the null hypothesis is rejected and the two attributes are correlated. </span>"
   ]
  },
  {
   "cell_type": "markdown",
   "metadata": {},
   "source": [
    "### <span style=\"color:Blue\"> Final Analysis </span>"
   ]
  },
  {
   "cell_type": "markdown",
   "metadata": {},
   "source": [
    "### <span style=\"color:indigo\"> What did we learn about the data? </span>"
   ]
  },
  {
   "cell_type": "markdown",
   "metadata": {},
   "source": [
    "#### <span style=\"color:Black\"> The DataSet has 13 Features, with more than 10,000 records, explaining some Applications in the Android DataStore. These features includes categorical data like the category of the App and its genre, and some numerical data like the rating and the number of reviews.</span>"
   ]
  },
  {
   "cell_type": "markdown",
   "metadata": {},
   "source": [
    "1. #### <span style=\"color:Black\"> The categories of the App at first were discovered to be 34 unique values, after cleaning it ended up to be 33 only because on of the categories was set as \"1.9\" which in the scope of the data is meaningless. An Example of the category values is Family, for which the apps moslty belong under it.</span>"
   ]
  },
  {
   "cell_type": "markdown",
   "metadata": {},
   "source": [
    "2. #### <span style=\"color:Black\"> The Genres of the Apps were at first 119 unique values including the ones with the subgenres. But the subgeneres were excluded leaving only the main genres because most of the records with the subgenres were present only once..</span>"
   ]
  },
  {
   "cell_type": "markdown",
   "metadata": {},
   "source": [
    "3. #### <span style=\"color:Black\"> The rating of the applications ranged from 1 to 5, after removing a record which contained a rating to be 19. There were 13% missing rating values which were imputed by the category rating mean.</span>"
   ]
  },
  {
   "cell_type": "markdown",
   "metadata": {},
   "source": [
    "4. #### <span style=\"color:Black\"> The Price of the apps have very wide range from 0 to 400, where the currency is dollars. </span>"
   ]
  },
  {
   "cell_type": "markdown",
   "metadata": {},
   "source": [
    "5. #### <span style=\"color:Black\"> The Type is categorical with the values\n",
    "  * 'Free'\n",
    "  * 'Paid' </span>"
   ]
  },
  {
   "cell_type": "markdown",
   "metadata": {},
   "source": [
    "6. #### <span style=\"color:Black\"> The Content Rating is categorical with the following values\n",
    "    * 'Rating'\n",
    "    * 'Adults only 18+'\n",
    "    * 'Everyone'\n",
    "    * 'Everyone 10+'\n",
    "    * 'Mature 17+'\n",
    "    * 'Teen' </span>"
   ]
  },
  {
   "cell_type": "markdown",
   "metadata": {},
   "source": [
    "7. #### <span style=\"color:Black\"> The Current Version </span>"
   ]
  },
  {
   "cell_type": "markdown",
   "metadata": {},
   "source": [
    "8. #### <span style=\"color:Black\"> The Android Version </span>"
   ]
  },
  {
   "cell_type": "markdown",
   "metadata": {},
   "source": [
    "9. #### <span style=\"color:Black\"> The Reviews </span>"
   ]
  },
  {
   "cell_type": "markdown",
   "metadata": {},
   "source": [
    "10. #### <span style=\"color:Black\"> The Size </span>"
   ]
  },
  {
   "cell_type": "markdown",
   "metadata": {},
   "source": [
    "11. #### <span style=\"color:Black\"> The Last Updated </span>"
   ]
  },
  {
   "cell_type": "markdown",
   "metadata": {},
   "source": [
    "12. #### <span style=\"color:Black\"> The Installs </span>"
   ]
  },
  {
   "cell_type": "markdown",
   "metadata": {},
   "source": [
    "13. #### <span style=\"color:Black\"> The App column which represents the name of the App. </span>"
   ]
  },
  {
   "cell_type": "markdown",
   "metadata": {},
   "source": [
    "### <span style=\"color:Indigo\">  The Question was how can application receive a high rating? Is there a relation between the rating and the category? Is there a relation between the content rating and the category? The question was asked for each feature in the dataSet and Visualizations were done accordingly. </span>"
   ]
  },
  {
   "cell_type": "markdown",
   "metadata": {},
   "source": [
    "#### <span style=\"color:Black\"> The data was cleaned, at first the rating null values where imputed by the category Rating mean, then each column was investigated with rating column searching for relations. </span>"
   ]
  },
  {
   "cell_type": "markdown",
   "metadata": {},
   "source": [
    "1. #### <span style=\"color:Black\"> Category and Rating : visualizations were made to see if the mean rating changes according the catergry, also a box plot to see the min and max rating for each category, the results showed that the avegrage category rating is nearly the same for all the category indicating that the category doesnt affect the rating in general</span>"
   ]
  },
  {
   "cell_type": "markdown",
   "metadata": {},
   "source": [
    "2. #### <span style=\"color:Black\"> Genres and Rating: The subgenres were removed leaving only the main genres , however the genres showed the same behaviour as the category indicating no relation. </span>"
   ]
  },
  {
   "cell_type": "markdown",
   "metadata": {},
   "source": [
    "3. #### <span style=\"color:Black\"> Price and Rating: using scatter plot and box plot to visualize the realtion between Price and Rating and found that the apps with very high price most probably have high Rating but they don't show strong correlation when method \"corr\" have used as it gives very low value that can be neglected. </span>"
   ]
  },
  {
   "cell_type": "markdown",
   "metadata": {},
   "source": [
    "4. #### <span style=\"color:Black\"> Type and Rating: using scatter plot and box plot to visualize if there is a relation between Type and Rating and it was very clear that there is no relation.</span>"
   ]
  },
  {
   "cell_type": "markdown",
   "metadata": {},
   "source": [
    "5. #### <span style=\"color:Black\"> ContentRating and Rating </span>"
   ]
  },
  {
   "cell_type": "markdown",
   "metadata": {},
   "source": [
    "6. #### <span style=\"color:Black\"> CurrentVersion and Rating </span>"
   ]
  },
  {
   "cell_type": "markdown",
   "metadata": {},
   "source": [
    "7. #### <span style=\"color:Black\"> AndroidVersion and Rating </span>"
   ]
  },
  {
   "cell_type": "markdown",
   "metadata": {},
   "source": [
    "8. #### <span style=\"color:Black\"> Reviews and Rating </span>"
   ]
  },
  {
   "cell_type": "markdown",
   "metadata": {},
   "source": [
    "9. #### <span style=\"color:Black\"> Size and Rating </span>"
   ]
  },
  {
   "cell_type": "markdown",
   "metadata": {},
   "source": [
    "10. #### <span style=\"color:Black\"> Size and Rating </span>"
   ]
  },
  {
   "cell_type": "markdown",
   "metadata": {},
   "source": [
    "11. #### <span style=\"color:Black\"> Installs and Rating </span>"
   ]
  },
  {
   "cell_type": "code",
   "execution_count": null,
   "metadata": {},
   "outputs": [],
   "source": []
  },
  {
   "cell_type": "code",
   "execution_count": null,
   "metadata": {},
   "outputs": [],
   "source": []
  }
 ],
 "metadata": {
  "kernelspec": {
   "display_name": "Python 3",
   "language": "python",
   "name": "python3"
  },
  "language_info": {
   "codemirror_mode": {
    "name": "ipython",
    "version": 3
   },
   "file_extension": ".py",
   "mimetype": "text/x-python",
   "name": "python",
   "nbconvert_exporter": "python",
   "pygments_lexer": "ipython3",
   "version": "3.6.8"
  }
 },
 "nbformat": 4,
 "nbformat_minor": 2
}
