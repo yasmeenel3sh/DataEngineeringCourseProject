{
 "cells": [
  {
   "cell_type": "code",
   "execution_count": 2,
   "metadata": {},
   "outputs": [],
   "source": [
    "import pandas as pd\n",
    "import numpy as np\n",
    "import scipy.stats as st\n",
    "import matplotlib.pyplot as plt\n",
    "import seaborn as sns\n",
    "%matplotlib inline\n",
    "\n",
    "class display(object):\n",
    "    \"\"\"Display HTML representation of multiple objects\"\"\"\n",
    "    template = \"\"\"<div style=\"float: left; padding: 10px;\">\n",
    "    <p style='font-family:\"Courier New\", Courier, monospace'>{0}</p>{1}\n",
    "    </div>\"\"\"\n",
    "    def __init__(self, *args):\n",
    "        self.args = args\n",
    "        \n",
    "    def _repr_html_(self):\n",
    "        return '\\n'.join(self.template.format(a, eval(a)._repr_html_())\n",
    "                         for a in self.args)\n",
    "    \n",
    "    def __repr__(self):\n",
    "        return '\\n\\n'.join(a + '\\n' + repr(eval(a))\n",
    "                           for a in self.args)"
   ]
  },
  {
   "cell_type": "code",
   "execution_count": 3,
   "metadata": {},
   "outputs": [
    {
     "data": {
      "text/html": [
       "<div>\n",
       "<style scoped>\n",
       "    .dataframe tbody tr th:only-of-type {\n",
       "        vertical-align: middle;\n",
       "    }\n",
       "\n",
       "    .dataframe tbody tr th {\n",
       "        vertical-align: top;\n",
       "    }\n",
       "\n",
       "    .dataframe thead th {\n",
       "        text-align: right;\n",
       "    }\n",
       "</style>\n",
       "<table border=\"1\" class=\"dataframe\">\n",
       "  <thead>\n",
       "    <tr style=\"text-align: right;\">\n",
       "      <th></th>\n",
       "      <th>App</th>\n",
       "      <th>Category</th>\n",
       "      <th>Rating</th>\n",
       "      <th>Reviews</th>\n",
       "      <th>Size</th>\n",
       "      <th>Installs</th>\n",
       "      <th>Type</th>\n",
       "      <th>Price</th>\n",
       "      <th>Content Rating</th>\n",
       "      <th>Genres</th>\n",
       "      <th>Last Updated</th>\n",
       "      <th>Current Ver</th>\n",
       "      <th>Android Ver</th>\n",
       "    </tr>\n",
       "  </thead>\n",
       "  <tbody>\n",
       "    <tr>\n",
       "      <th>0</th>\n",
       "      <td>Photo Editor &amp; Candy Camera &amp; Grid &amp; ScrapBook</td>\n",
       "      <td>ART_AND_DESIGN</td>\n",
       "      <td>4.1</td>\n",
       "      <td>159</td>\n",
       "      <td>19M</td>\n",
       "      <td>10,000+</td>\n",
       "      <td>Free</td>\n",
       "      <td>0</td>\n",
       "      <td>Everyone</td>\n",
       "      <td>Art &amp; Design</td>\n",
       "      <td>January 7, 2018</td>\n",
       "      <td>1.0.0</td>\n",
       "      <td>4.0.3 and up</td>\n",
       "    </tr>\n",
       "    <tr>\n",
       "      <th>1</th>\n",
       "      <td>Coloring book moana</td>\n",
       "      <td>ART_AND_DESIGN</td>\n",
       "      <td>3.9</td>\n",
       "      <td>967</td>\n",
       "      <td>14M</td>\n",
       "      <td>500,000+</td>\n",
       "      <td>Free</td>\n",
       "      <td>0</td>\n",
       "      <td>Everyone</td>\n",
       "      <td>Art &amp; Design;Pretend Play</td>\n",
       "      <td>January 15, 2018</td>\n",
       "      <td>2.0.0</td>\n",
       "      <td>4.0.3 and up</td>\n",
       "    </tr>\n",
       "    <tr>\n",
       "      <th>2</th>\n",
       "      <td>U Launcher Lite – FREE Live Cool Themes, Hide ...</td>\n",
       "      <td>ART_AND_DESIGN</td>\n",
       "      <td>4.7</td>\n",
       "      <td>87510</td>\n",
       "      <td>8.7M</td>\n",
       "      <td>5,000,000+</td>\n",
       "      <td>Free</td>\n",
       "      <td>0</td>\n",
       "      <td>Everyone</td>\n",
       "      <td>Art &amp; Design</td>\n",
       "      <td>August 1, 2018</td>\n",
       "      <td>1.2.4</td>\n",
       "      <td>4.0.3 and up</td>\n",
       "    </tr>\n",
       "    <tr>\n",
       "      <th>3</th>\n",
       "      <td>Sketch - Draw &amp; Paint</td>\n",
       "      <td>ART_AND_DESIGN</td>\n",
       "      <td>4.5</td>\n",
       "      <td>215644</td>\n",
       "      <td>25M</td>\n",
       "      <td>50,000,000+</td>\n",
       "      <td>Free</td>\n",
       "      <td>0</td>\n",
       "      <td>Teen</td>\n",
       "      <td>Art &amp; Design</td>\n",
       "      <td>June 8, 2018</td>\n",
       "      <td>Varies with device</td>\n",
       "      <td>4.2 and up</td>\n",
       "    </tr>\n",
       "    <tr>\n",
       "      <th>4</th>\n",
       "      <td>Pixel Draw - Number Art Coloring Book</td>\n",
       "      <td>ART_AND_DESIGN</td>\n",
       "      <td>4.3</td>\n",
       "      <td>967</td>\n",
       "      <td>2.8M</td>\n",
       "      <td>100,000+</td>\n",
       "      <td>Free</td>\n",
       "      <td>0</td>\n",
       "      <td>Everyone</td>\n",
       "      <td>Art &amp; Design;Creativity</td>\n",
       "      <td>June 20, 2018</td>\n",
       "      <td>1.1</td>\n",
       "      <td>4.4 and up</td>\n",
       "    </tr>\n",
       "  </tbody>\n",
       "</table>\n",
       "</div>"
      ],
      "text/plain": [
       "                                                 App        Category  Rating  \\\n",
       "0     Photo Editor & Candy Camera & Grid & ScrapBook  ART_AND_DESIGN     4.1   \n",
       "1                                Coloring book moana  ART_AND_DESIGN     3.9   \n",
       "2  U Launcher Lite – FREE Live Cool Themes, Hide ...  ART_AND_DESIGN     4.7   \n",
       "3                              Sketch - Draw & Paint  ART_AND_DESIGN     4.5   \n",
       "4              Pixel Draw - Number Art Coloring Book  ART_AND_DESIGN     4.3   \n",
       "\n",
       "  Reviews  Size     Installs  Type Price Content Rating  \\\n",
       "0     159   19M      10,000+  Free     0       Everyone   \n",
       "1     967   14M     500,000+  Free     0       Everyone   \n",
       "2   87510  8.7M   5,000,000+  Free     0       Everyone   \n",
       "3  215644   25M  50,000,000+  Free     0           Teen   \n",
       "4     967  2.8M     100,000+  Free     0       Everyone   \n",
       "\n",
       "                      Genres      Last Updated         Current Ver  \\\n",
       "0               Art & Design   January 7, 2018               1.0.0   \n",
       "1  Art & Design;Pretend Play  January 15, 2018               2.0.0   \n",
       "2               Art & Design    August 1, 2018               1.2.4   \n",
       "3               Art & Design      June 8, 2018  Varies with device   \n",
       "4    Art & Design;Creativity     June 20, 2018                 1.1   \n",
       "\n",
       "    Android Ver  \n",
       "0  4.0.3 and up  \n",
       "1  4.0.3 and up  \n",
       "2  4.0.3 and up  \n",
       "3    4.2 and up  \n",
       "4    4.4 and up  "
      ]
     },
     "execution_count": 3,
     "metadata": {},
     "output_type": "execute_result"
    }
   ],
   "source": [
    "dataSet = pd.read_csv(\"./googleplaystore.csv\")\n",
    "dataSet.head()"
   ]
  },
  {
   "cell_type": "markdown",
   "metadata": {},
   "source": [
    "## Part 1: Data Inspection & outlier Removal"
   ]
  },
  {
   "cell_type": "code",
   "execution_count": 4,
   "metadata": {},
   "outputs": [
    {
     "name": "stdout",
     "output_type": "stream",
     "text": [
      "(10841, 13)\n"
     ]
    }
   ],
   "source": [
    "print(dataSet.shape)"
   ]
  },
  {
   "cell_type": "markdown",
   "metadata": {},
   "source": [
    "The Data has 10841 Records and 13 features."
   ]
  },
  {
   "cell_type": "code",
   "execution_count": 5,
   "metadata": {},
   "outputs": [
    {
     "data": {
      "text/plain": [
       "Rating            1474\n",
       "Current Ver          8\n",
       "Android Ver          3\n",
       "Content Rating       1\n",
       "Type                 1\n",
       "Last Updated         0\n",
       "Genres               0\n",
       "Price                0\n",
       "Installs             0\n",
       "Size                 0\n",
       "Reviews              0\n",
       "Category             0\n",
       "App                  0\n",
       "dtype: int64"
      ]
     },
     "execution_count": 5,
     "metadata": {},
     "output_type": "execute_result"
    }
   ],
   "source": [
    "total = dataSet.isnull().sum().sort_values(ascending=False)\n",
    "total"
   ]
  },
  {
   "cell_type": "markdown",
   "metadata": {},
   "source": [
    "### Rating"
   ]
  },
  {
   "cell_type": "markdown",
   "metadata": {},
   "source": [
    "The rating has the largest number of missing values"
   ]
  },
  {
   "cell_type": "code",
   "execution_count": 6,
   "metadata": {},
   "outputs": [
    {
     "data": {
      "text/plain": [
       "count    9367.000000\n",
       "mean        4.193338\n",
       "std         0.537431\n",
       "min         1.000000\n",
       "25%         4.000000\n",
       "50%         4.300000\n",
       "75%         4.500000\n",
       "max        19.000000\n",
       "Name: Rating, dtype: float64"
      ]
     },
     "execution_count": 6,
     "metadata": {},
     "output_type": "execute_result"
    }
   ],
   "source": [
    "dataSet['Rating'].describe()"
   ]
  },
  {
   "cell_type": "markdown",
   "metadata": {},
   "source": [
    "The describe show that the Rating column has mean of 4.19 , a min of 1 and max of 19.\n",
    "The count of non null values is 9367 which means 10841-9367=1474 null values for the rating."
   ]
  },
  {
   "cell_type": "code",
   "execution_count": 7,
   "metadata": {},
   "outputs": [
    {
     "data": {
      "text/plain": [
       "4.4     1109\n",
       "4.3     1076\n",
       "4.5     1038\n",
       "4.2      952\n",
       "4.6      823\n",
       "4.1      708\n",
       "4.0      568\n",
       "4.7      499\n",
       "3.9      386\n",
       "3.8      303\n",
       "5.0      274\n",
       "3.7      239\n",
       "4.8      234\n",
       "3.6      174\n",
       "3.5      163\n",
       "3.4      128\n",
       "3.3      102\n",
       "4.9       87\n",
       "3.0       83\n",
       "3.1       69\n",
       "3.2       64\n",
       "2.9       45\n",
       "2.8       42\n",
       "2.6       25\n",
       "2.7       25\n",
       "2.5       21\n",
       "2.3       20\n",
       "2.4       19\n",
       "1.0       16\n",
       "2.2       14\n",
       "1.9       13\n",
       "2.0       12\n",
       "2.1        8\n",
       "1.7        8\n",
       "1.8        8\n",
       "1.6        4\n",
       "1.4        3\n",
       "1.5        3\n",
       "1.2        1\n",
       "19.0       1\n",
       "Name: Rating, dtype: int64"
      ]
     },
     "execution_count": 7,
     "metadata": {},
     "output_type": "execute_result"
    }
   ],
   "source": [
    "dataSet['Rating'].value_counts()"
   ]
  },
  {
   "cell_type": "markdown",
   "metadata": {},
   "source": [
    "The value 19 is an outlier to the rating range so it will be replaced by nan for now."
   ]
  },
  {
   "cell_type": "code",
   "execution_count": 8,
   "metadata": {},
   "outputs": [
    {
     "data": {
      "text/html": [
       "<div>\n",
       "<style scoped>\n",
       "    .dataframe tbody tr th:only-of-type {\n",
       "        vertical-align: middle;\n",
       "    }\n",
       "\n",
       "    .dataframe tbody tr th {\n",
       "        vertical-align: top;\n",
       "    }\n",
       "\n",
       "    .dataframe thead th {\n",
       "        text-align: right;\n",
       "    }\n",
       "</style>\n",
       "<table border=\"1\" class=\"dataframe\">\n",
       "  <thead>\n",
       "    <tr style=\"text-align: right;\">\n",
       "      <th></th>\n",
       "      <th>App</th>\n",
       "      <th>Category</th>\n",
       "      <th>Rating</th>\n",
       "      <th>Reviews</th>\n",
       "      <th>Size</th>\n",
       "      <th>Installs</th>\n",
       "      <th>Type</th>\n",
       "      <th>Price</th>\n",
       "      <th>Content Rating</th>\n",
       "      <th>Genres</th>\n",
       "      <th>Last Updated</th>\n",
       "      <th>Current Ver</th>\n",
       "      <th>Android Ver</th>\n",
       "    </tr>\n",
       "  </thead>\n",
       "  <tbody>\n",
       "    <tr>\n",
       "      <th>10472</th>\n",
       "      <td>Life Made WI-Fi Touchscreen Photo Frame</td>\n",
       "      <td>1.9</td>\n",
       "      <td>19.0</td>\n",
       "      <td>3.0M</td>\n",
       "      <td>1,000+</td>\n",
       "      <td>Free</td>\n",
       "      <td>0</td>\n",
       "      <td>Everyone</td>\n",
       "      <td>NaN</td>\n",
       "      <td>February 11, 2018</td>\n",
       "      <td>1.0.19</td>\n",
       "      <td>4.0 and up</td>\n",
       "      <td>NaN</td>\n",
       "    </tr>\n",
       "  </tbody>\n",
       "</table>\n",
       "</div>"
      ],
      "text/plain": [
       "                                           App Category  Rating Reviews  \\\n",
       "10472  Life Made WI-Fi Touchscreen Photo Frame      1.9    19.0    3.0M   \n",
       "\n",
       "         Size Installs Type     Price Content Rating             Genres  \\\n",
       "10472  1,000+     Free    0  Everyone            NaN  February 11, 2018   \n",
       "\n",
       "      Last Updated Current Ver Android Ver  \n",
       "10472       1.0.19  4.0 and up         NaN  "
      ]
     },
     "execution_count": 8,
     "metadata": {},
     "output_type": "execute_result"
    }
   ],
   "source": [
    "dataSet[dataSet['Rating']==19].head()"
   ]
  },
  {
   "cell_type": "code",
   "execution_count": 9,
   "metadata": {},
   "outputs": [
    {
     "data": {
      "text/plain": [
       "1.8    8\n",
       "1.6    4\n",
       "1.4    3\n",
       "1.5    3\n",
       "1.2    1\n",
       "Name: Rating, dtype: int64"
      ]
     },
     "execution_count": 9,
     "metadata": {},
     "output_type": "execute_result"
    }
   ],
   "source": [
    "dataSet['Rating']=dataSet['Rating'].replace(19,np.NaN)\n",
    "dataSet['Rating'].value_counts().tail()"
   ]
  },
  {
   "cell_type": "code",
   "execution_count": 10,
   "metadata": {},
   "outputs": [
    {
     "data": {
      "text/plain": [
       "<matplotlib.axes._subplots.AxesSubplot at 0x7fd1bc128a90>"
      ]
     },
     "execution_count": 10,
     "metadata": {},
     "output_type": "execute_result"
    },
    {
     "data": {
      "image/png": "[encoded data removed]",
      "text/plain": [
       "<Figure size 432x288 with 1 Axes>"
      ]
     },
     "metadata": {
      "needs_background": "light"
     },
     "output_type": "display_data"
    }
   ],
   "source": [
    "dataSet.Rating.dropna().plot(kind='kde', xlim=(0,6))"
   ]
  },
  {
   "cell_type": "markdown",
   "metadata": {},
   "source": [
    "### Conclusion\n",
    "Most app ratings are concentrated between 3-5."
   ]
  },
  {
   "cell_type": "markdown",
   "metadata": {},
   "source": [
    "## Category"
   ]
  },
  {
   "cell_type": "code",
   "execution_count": 11,
   "metadata": {},
   "outputs": [
    {
     "data": {
      "text/plain": [
       "array(['ART_AND_DESIGN', 'AUTO_AND_VEHICLES', 'BEAUTY',\n",
       "       'BOOKS_AND_REFERENCE', 'BUSINESS', 'COMICS', 'COMMUNICATION',\n",
       "       'DATING', 'EDUCATION', 'ENTERTAINMENT', 'EVENTS', 'FINANCE',\n",
       "       'FOOD_AND_DRINK', 'HEALTH_AND_FITNESS', 'HOUSE_AND_HOME',\n",
       "       'LIBRARIES_AND_DEMO', 'LIFESTYLE', 'GAME', 'FAMILY', 'MEDICAL',\n",
       "       'SOCIAL', 'SHOPPING', 'PHOTOGRAPHY', 'SPORTS', 'TRAVEL_AND_LOCAL',\n",
       "       'TOOLS', 'PERSONALIZATION', 'PRODUCTIVITY', 'PARENTING', 'WEATHER',\n",
       "       'VIDEO_PLAYERS', 'NEWS_AND_MAGAZINES', 'MAPS_AND_NAVIGATION',\n",
       "       '1.9'], dtype=object)"
      ]
     },
     "execution_count": 11,
     "metadata": {},
     "output_type": "execute_result"
    }
   ],
   "source": [
    "categories=dataSet['Category'].unique()\n",
    "categories"
   ]
  },
  {
   "cell_type": "code",
   "execution_count": 12,
   "metadata": {},
   "outputs": [
    {
     "data": {
      "text/plain": [
       "count      10841\n",
       "unique        34\n",
       "top       FAMILY\n",
       "freq        1972\n",
       "Name: Category, dtype: object"
      ]
     },
     "execution_count": 12,
     "metadata": {},
     "output_type": "execute_result"
    }
   ],
   "source": [
    "dataSet.describe(include=[np.object])['Category']"
   ]
  },
  {
   "cell_type": "code",
   "execution_count": 13,
   "metadata": {},
   "outputs": [
    {
     "data": {
      "text/plain": [
       "34"
      ]
     },
     "execution_count": 13,
     "metadata": {},
     "output_type": "execute_result"
    }
   ],
   "source": [
    "len(categories)"
   ]
  },
  {
   "cell_type": "code",
   "execution_count": 14,
   "metadata": {},
   "outputs": [
    {
     "data": {
      "text/plain": [
       "FAMILY                 1972\n",
       "GAME                   1144\n",
       "TOOLS                   843\n",
       "MEDICAL                 463\n",
       "BUSINESS                460\n",
       "PRODUCTIVITY            424\n",
       "PERSONALIZATION         392\n",
       "COMMUNICATION           387\n",
       "SPORTS                  384\n",
       "LIFESTYLE               382\n",
       "FINANCE                 366\n",
       "HEALTH_AND_FITNESS      341\n",
       "PHOTOGRAPHY             335\n",
       "SOCIAL                  295\n",
       "NEWS_AND_MAGAZINES      283\n",
       "SHOPPING                260\n",
       "TRAVEL_AND_LOCAL        258\n",
       "DATING                  234\n",
       "BOOKS_AND_REFERENCE     231\n",
       "VIDEO_PLAYERS           175\n",
       "EDUCATION               156\n",
       "ENTERTAINMENT           149\n",
       "MAPS_AND_NAVIGATION     137\n",
       "FOOD_AND_DRINK          127\n",
       "HOUSE_AND_HOME           88\n",
       "LIBRARIES_AND_DEMO       85\n",
       "AUTO_AND_VEHICLES        85\n",
       "WEATHER                  82\n",
       "ART_AND_DESIGN           65\n",
       "EVENTS                   64\n",
       "PARENTING                60\n",
       "COMICS                   60\n",
       "BEAUTY                   53\n",
       "1.9                       1\n",
       "Name: Category, dtype: int64"
      ]
     },
     "execution_count": 14,
     "metadata": {},
     "output_type": "execute_result"
    }
   ],
   "source": [
    "dataSet['Category'].value_counts()"
   ]
  },
  {
   "cell_type": "markdown",
   "metadata": {},
   "source": [
    "#### We have 34 unique Categories\n",
    "#### The 1.9 value is an OUTLIER so its record will be removed"
   ]
  },
  {
   "cell_type": "code",
   "execution_count": 15,
   "metadata": {},
   "outputs": [
    {
     "data": {
      "text/html": [
       "<div>\n",
       "<style scoped>\n",
       "    .dataframe tbody tr th:only-of-type {\n",
       "        vertical-align: middle;\n",
       "    }\n",
       "\n",
       "    .dataframe tbody tr th {\n",
       "        vertical-align: top;\n",
       "    }\n",
       "\n",
       "    .dataframe thead th {\n",
       "        text-align: right;\n",
       "    }\n",
       "</style>\n",
       "<table border=\"1\" class=\"dataframe\">\n",
       "  <thead>\n",
       "    <tr style=\"text-align: right;\">\n",
       "      <th></th>\n",
       "      <th>App</th>\n",
       "      <th>Category</th>\n",
       "      <th>Rating</th>\n",
       "      <th>Reviews</th>\n",
       "      <th>Size</th>\n",
       "      <th>Installs</th>\n",
       "      <th>Type</th>\n",
       "      <th>Price</th>\n",
       "      <th>Content Rating</th>\n",
       "      <th>Genres</th>\n",
       "      <th>Last Updated</th>\n",
       "      <th>Current Ver</th>\n",
       "      <th>Android Ver</th>\n",
       "    </tr>\n",
       "  </thead>\n",
       "  <tbody>\n",
       "    <tr>\n",
       "      <th>10472</th>\n",
       "      <td>Life Made WI-Fi Touchscreen Photo Frame</td>\n",
       "      <td>1.9</td>\n",
       "      <td>NaN</td>\n",
       "      <td>3.0M</td>\n",
       "      <td>1,000+</td>\n",
       "      <td>Free</td>\n",
       "      <td>0</td>\n",
       "      <td>Everyone</td>\n",
       "      <td>NaN</td>\n",
       "      <td>February 11, 2018</td>\n",
       "      <td>1.0.19</td>\n",
       "      <td>4.0 and up</td>\n",
       "      <td>NaN</td>\n",
       "    </tr>\n",
       "  </tbody>\n",
       "</table>\n",
       "</div>"
      ],
      "text/plain": [
       "                                           App Category  Rating Reviews  \\\n",
       "10472  Life Made WI-Fi Touchscreen Photo Frame      1.9     NaN    3.0M   \n",
       "\n",
       "         Size Installs Type     Price Content Rating             Genres  \\\n",
       "10472  1,000+     Free    0  Everyone            NaN  February 11, 2018   \n",
       "\n",
       "      Last Updated Current Ver Android Ver  \n",
       "10472       1.0.19  4.0 and up         NaN  "
      ]
     },
     "execution_count": 15,
     "metadata": {},
     "output_type": "execute_result"
    }
   ],
   "source": [
    "dataSet[dataSet['Category']=='1.9']"
   ]
  },
  {
   "cell_type": "code",
   "execution_count": 16,
   "metadata": {},
   "outputs": [],
   "source": [
    "dataSet=dataSet[dataSet['Category']!='1.9']"
   ]
  },
  {
   "cell_type": "code",
   "execution_count": 17,
   "metadata": {},
   "outputs": [
    {
     "data": {
      "text/plain": [
       "ART_AND_DESIGN    65\n",
       "EVENTS            64\n",
       "COMICS            60\n",
       "PARENTING         60\n",
       "BEAUTY            53\n",
       "Name: Category, dtype: int64"
      ]
     },
     "execution_count": 17,
     "metadata": {},
     "output_type": "execute_result"
    }
   ],
   "source": [
    "dataSet['Category'].value_counts().tail()"
   ]
  },
  {
   "cell_type": "markdown",
   "metadata": {},
   "source": [
    "#### Category 1.9 is now removed"
   ]
  },
  {
   "cell_type": "code",
   "execution_count": 18,
   "metadata": {},
   "outputs": [
    {
     "data": {
      "text/plain": [
       "<matplotlib.axes._subplots.AxesSubplot at 0x7fd1bbe86a90>"
      ]
     },
     "execution_count": 18,
     "metadata": {},
     "output_type": "execute_result"
    },
    {
     "data": {
      "image/png": "[encoded data removed]",
      "text/plain": [
       "<Figure size 432x288 with 1 Axes>"
      ]
     },
     "metadata": {
      "needs_background": "light"
     },
     "output_type": "display_data"
    }
   ],
   "source": [
    "dataSet['Category'].value_counts().plot(kind='bar')"
   ]
  },
  {
   "cell_type": "markdown",
   "metadata": {},
   "source": [
    "#### The family category is the most frequent category."
   ]
  },
  {
   "cell_type": "markdown",
   "metadata": {},
   "source": [
    "### Genres"
   ]
  },
  {
   "cell_type": "code",
   "execution_count": 19,
   "metadata": {},
   "outputs": [
    {
     "data": {
      "text/plain": [
       "array(['Art & Design', 'Art & Design;Pretend Play',\n",
       "       'Art & Design;Creativity', 'Art & Design;Action & Adventure',\n",
       "       'Auto & Vehicles', 'Beauty', 'Books & Reference', 'Business',\n",
       "       'Comics', 'Comics;Creativity', 'Communication', 'Dating',\n",
       "       'Education;Education', 'Education', 'Education;Creativity',\n",
       "       'Education;Music & Video', 'Education;Action & Adventure',\n",
       "       'Education;Pretend Play', 'Education;Brain Games', 'Entertainment',\n",
       "       'Entertainment;Music & Video', 'Entertainment;Brain Games',\n",
       "       'Entertainment;Creativity', 'Events', 'Finance', 'Food & Drink',\n",
       "       'Health & Fitness', 'House & Home', 'Libraries & Demo',\n",
       "       'Lifestyle', 'Lifestyle;Pretend Play',\n",
       "       'Adventure;Action & Adventure', 'Arcade', 'Casual', 'Card',\n",
       "       'Casual;Pretend Play', 'Action', 'Strategy', 'Puzzle', 'Sports',\n",
       "       'Music', 'Word', 'Racing', 'Casual;Creativity',\n",
       "       'Casual;Action & Adventure', 'Simulation', 'Adventure', 'Board',\n",
       "       'Trivia', 'Role Playing', 'Simulation;Education',\n",
       "       'Action;Action & Adventure', 'Casual;Brain Games',\n",
       "       'Simulation;Action & Adventure', 'Educational;Creativity',\n",
       "       'Puzzle;Brain Games', 'Educational;Education', 'Card;Brain Games',\n",
       "       'Educational;Brain Games', 'Educational;Pretend Play',\n",
       "       'Entertainment;Education', 'Casual;Education',\n",
       "       'Music;Music & Video', 'Racing;Action & Adventure',\n",
       "       'Arcade;Pretend Play', 'Role Playing;Action & Adventure',\n",
       "       'Simulation;Pretend Play', 'Puzzle;Creativity',\n",
       "       'Sports;Action & Adventure', 'Educational;Action & Adventure',\n",
       "       'Arcade;Action & Adventure', 'Entertainment;Action & Adventure',\n",
       "       'Puzzle;Action & Adventure', 'Strategy;Action & Adventure',\n",
       "       'Music & Audio;Music & Video', 'Health & Fitness;Education',\n",
       "       'Adventure;Education', 'Board;Brain Games',\n",
       "       'Board;Action & Adventure', 'Board;Pretend Play',\n",
       "       'Casual;Music & Video', 'Role Playing;Pretend Play',\n",
       "       'Entertainment;Pretend Play', 'Video Players & Editors;Creativity',\n",
       "       'Card;Action & Adventure', 'Medical', 'Social', 'Shopping',\n",
       "       'Photography', 'Travel & Local',\n",
       "       'Travel & Local;Action & Adventure', 'Tools', 'Tools;Education',\n",
       "       'Personalization', 'Productivity', 'Parenting',\n",
       "       'Parenting;Music & Video', 'Parenting;Education',\n",
       "       'Parenting;Brain Games', 'Weather', 'Video Players & Editors',\n",
       "       'Video Players & Editors;Music & Video', 'News & Magazines',\n",
       "       'Maps & Navigation', 'Health & Fitness;Action & Adventure',\n",
       "       'Educational', 'Casino', 'Adventure;Brain Games',\n",
       "       'Trivia;Education', 'Lifestyle;Education',\n",
       "       'Books & Reference;Creativity', 'Books & Reference;Education',\n",
       "       'Puzzle;Education', 'Role Playing;Education',\n",
       "       'Role Playing;Brain Games', 'Strategy;Education',\n",
       "       'Racing;Pretend Play', 'Communication;Creativity',\n",
       "       'Strategy;Creativity'], dtype=object)"
      ]
     },
     "execution_count": 19,
     "metadata": {},
     "output_type": "execute_result"
    }
   ],
   "source": [
    "Genres=dataSet['Genres'].unique()\n",
    "Genres"
   ]
  },
  {
   "cell_type": "code",
   "execution_count": 20,
   "metadata": {},
   "outputs": [
    {
     "data": {
      "text/plain": [
       "count     10840\n",
       "unique      119\n",
       "top       Tools\n",
       "freq        842\n",
       "Name: Genres, dtype: object"
      ]
     },
     "execution_count": 20,
     "metadata": {},
     "output_type": "execute_result"
    }
   ],
   "source": [
    "dataSet.describe(include=[np.object])['Genres']"
   ]
  },
  {
   "cell_type": "code",
   "execution_count": 21,
   "metadata": {},
   "outputs": [
    {
     "data": {
      "text/plain": [
       "Tools                                  842\n",
       "Entertainment                          623\n",
       "Education                              549\n",
       "Medical                                463\n",
       "Business                               460\n",
       "Productivity                           424\n",
       "Sports                                 398\n",
       "Personalization                        392\n",
       "Communication                          387\n",
       "Lifestyle                              381\n",
       "Finance                                366\n",
       "Action                                 365\n",
       "Health & Fitness                       341\n",
       "Photography                            335\n",
       "Social                                 295\n",
       "News & Magazines                       283\n",
       "Shopping                               260\n",
       "Travel & Local                         257\n",
       "Dating                                 234\n",
       "Books & Reference                      231\n",
       "Arcade                                 220\n",
       "Simulation                             200\n",
       "Casual                                 193\n",
       "Video Players & Editors                173\n",
       "Puzzle                                 140\n",
       "Maps & Navigation                      137\n",
       "Food & Drink                           127\n",
       "Role Playing                           109\n",
       "Strategy                               107\n",
       "Racing                                  98\n",
       "                                      ... \n",
       "Art & Design;Action & Adventure          2\n",
       "Video Players & Editors;Creativity       2\n",
       "Adventure;Education                      2\n",
       "Entertainment;Pretend Play               2\n",
       "Puzzle;Creativity                        2\n",
       "Card;Action & Adventure                  2\n",
       "Books & Reference;Education              2\n",
       "Lifestyle;Education                      1\n",
       "Board;Pretend Play                       1\n",
       "Communication;Creativity                 1\n",
       "Strategy;Education                       1\n",
       "Music & Audio;Music & Video              1\n",
       "Entertainment;Education                  1\n",
       "Travel & Local;Action & Adventure        1\n",
       "Role Playing;Brain Games                 1\n",
       "Tools;Education                          1\n",
       "Lifestyle;Pretend Play                   1\n",
       "Role Playing;Education                   1\n",
       "Card;Brain Games                         1\n",
       "Puzzle;Education                         1\n",
       "Comics;Creativity                        1\n",
       "Trivia;Education                         1\n",
       "Racing;Pretend Play                      1\n",
       "Strategy;Creativity                      1\n",
       "Adventure;Brain Games                    1\n",
       "Books & Reference;Creativity             1\n",
       "Health & Fitness;Education               1\n",
       "Arcade;Pretend Play                      1\n",
       "Health & Fitness;Action & Adventure      1\n",
       "Parenting;Brain Games                    1\n",
       "Name: Genres, Length: 119, dtype: int64"
      ]
     },
     "execution_count": 21,
     "metadata": {},
     "output_type": "execute_result"
    }
   ],
   "source": [
    "dataSet['Genres'].value_counts()"
   ]
  },
  {
   "cell_type": "markdown",
   "metadata": {},
   "source": [
    "#### <span style=\"color:red\">  As seen the sub-genres (ones after;) in some cases have very low frequencies, so the sub-genres will be removed and will only leave main genres in order no to affect the rating distribution.</span>"
   ]
  },
  {
   "cell_type": "code",
   "execution_count": 22,
   "metadata": {},
   "outputs": [],
   "source": [
    "dataSet['Genres'] = dataSet['Genres'].str.split(';').str[0]"
   ]
  },
  {
   "cell_type": "code",
   "execution_count": 23,
   "metadata": {},
   "outputs": [
    {
     "data": {
      "text/plain": [
       "Tools                      843\n",
       "Entertainment              667\n",
       "Education                  645\n",
       "Medical                    463\n",
       "Business                   460\n",
       "Productivity               424\n",
       "Sports                     402\n",
       "Personalization            392\n",
       "Communication              388\n",
       "Lifestyle                  383\n",
       "Action                     382\n",
       "Finance                    366\n",
       "Health & Fitness           343\n",
       "Photography                335\n",
       "Social                     295\n",
       "News & Magazines           283\n",
       "Casual                     270\n",
       "Shopping                   260\n",
       "Travel & Local             258\n",
       "Arcade                     237\n",
       "Dating                     234\n",
       "Books & Reference          234\n",
       "Simulation                 218\n",
       "Video Players & Editors    178\n",
       "Puzzle                     167\n",
       "Maps & Navigation          137\n",
       "Food & Drink               127\n",
       "Role Playing               123\n",
       "Racing                     119\n",
       "Educational                112\n",
       "Strategy                   111\n",
       "Adventure                   91\n",
       "House & Home                88\n",
       "Auto & Vehicles             85\n",
       "Libraries & Demo            85\n",
       "Weather                     82\n",
       "Art & Design                69\n",
       "Events                      64\n",
       "Board                       63\n",
       "Comics                      60\n",
       "Parenting                   60\n",
       "Beauty                      53\n",
       "Card                        51\n",
       "Casino                      39\n",
       "Trivia                      39\n",
       "Word                        29\n",
       "Music                       25\n",
       "Music & Audio                1\n",
       "Name: Genres, dtype: int64"
      ]
     },
     "execution_count": 23,
     "metadata": {},
     "output_type": "execute_result"
    }
   ],
   "source": [
    "dataSet['Genres'].value_counts()"
   ]
  },
  {
   "cell_type": "markdown",
   "metadata": {},
   "source": [
    "#### <span style=\"color:blue\">Music and Audio is considered as an outlier, so it will be replaced by Music</span>"
   ]
  },
  {
   "cell_type": "code",
   "execution_count": 24,
   "metadata": {},
   "outputs": [
    {
     "data": {
      "text/html": [
       "<div>\n",
       "<style scoped>\n",
       "    .dataframe tbody tr th:only-of-type {\n",
       "        vertical-align: middle;\n",
       "    }\n",
       "\n",
       "    .dataframe tbody tr th {\n",
       "        vertical-align: top;\n",
       "    }\n",
       "\n",
       "    .dataframe thead th {\n",
       "        text-align: right;\n",
       "    }\n",
       "</style>\n",
       "<table border=\"1\" class=\"dataframe\">\n",
       "  <thead>\n",
       "    <tr style=\"text-align: right;\">\n",
       "      <th></th>\n",
       "      <th>App</th>\n",
       "      <th>Category</th>\n",
       "      <th>Rating</th>\n",
       "      <th>Reviews</th>\n",
       "      <th>Size</th>\n",
       "      <th>Installs</th>\n",
       "      <th>Type</th>\n",
       "      <th>Price</th>\n",
       "      <th>Content Rating</th>\n",
       "      <th>Genres</th>\n",
       "      <th>Last Updated</th>\n",
       "      <th>Current Ver</th>\n",
       "      <th>Android Ver</th>\n",
       "    </tr>\n",
       "  </thead>\n",
       "  <tbody>\n",
       "    <tr>\n",
       "      <th>2142</th>\n",
       "      <td>Toy Guitar with songs for kids</td>\n",
       "      <td>FAMILY</td>\n",
       "      <td>4.3</td>\n",
       "      <td>1369</td>\n",
       "      <td>9.8M</td>\n",
       "      <td>500,000+</td>\n",
       "      <td>Free</td>\n",
       "      <td>0</td>\n",
       "      <td>Everyone</td>\n",
       "      <td>Music &amp; Audio</td>\n",
       "      <td>March 5, 2016</td>\n",
       "      <td>1.0.3</td>\n",
       "      <td>2.3 and up</td>\n",
       "    </tr>\n",
       "  </tbody>\n",
       "</table>\n",
       "</div>"
      ],
      "text/plain": [
       "                                 App Category  Rating Reviews  Size  Installs  \\\n",
       "2142  Toy Guitar with songs for kids   FAMILY     4.3    1369  9.8M  500,000+   \n",
       "\n",
       "      Type Price Content Rating         Genres   Last Updated Current Ver  \\\n",
       "2142  Free     0       Everyone  Music & Audio  March 5, 2016       1.0.3   \n",
       "\n",
       "     Android Ver  \n",
       "2142  2.3 and up  "
      ]
     },
     "execution_count": 24,
     "metadata": {},
     "output_type": "execute_result"
    }
   ],
   "source": [
    "dataSet[dataSet['Genres']=='Music & Audio']"
   ]
  },
  {
   "cell_type": "code",
   "execution_count": 25,
   "metadata": {},
   "outputs": [],
   "source": [
    "newGenres=dataSet['Genres'].replace(to_replace='Music & Audio',value=\"Music\")"
   ]
  },
  {
   "cell_type": "code",
   "execution_count": 26,
   "metadata": {},
   "outputs": [],
   "source": [
    "dataSet['Genres']=newGenres"
   ]
  },
  {
   "cell_type": "code",
   "execution_count": 27,
   "metadata": {},
   "outputs": [
    {
     "data": {
      "text/plain": [
       "Card      51\n",
       "Trivia    39\n",
       "Casino    39\n",
       "Word      29\n",
       "Music     26\n",
       "Name: Genres, dtype: int64"
      ]
     },
     "execution_count": 27,
     "metadata": {},
     "output_type": "execute_result"
    }
   ],
   "source": [
    "dataSet['Genres'].value_counts().tail()"
   ]
  },
  {
   "cell_type": "code",
   "execution_count": 39,
   "metadata": {},
   "outputs": [
    {
     "data": {
      "text/plain": [
       "47"
      ]
     },
     "execution_count": 39,
     "metadata": {},
     "output_type": "execute_result"
    }
   ],
   "source": [
    "len(dataSet['Genres'].unique())"
   ]
  },
  {
   "cell_type": "code",
   "execution_count": 42,
   "metadata": {},
   "outputs": [
    {
     "data": {
      "text/plain": [
       "<matplotlib.axes._subplots.AxesSubplot at 0x7fd1ba6d8438>"
      ]
     },
     "execution_count": 42,
     "metadata": {},
     "output_type": "execute_result"
    },
    {
     "data": {
      "image/png": "[encoded data removed]",
      "text/plain": [
       "<Figure size 720x360 with 1 Axes>"
      ]
     },
     "metadata": {
      "needs_background": "light"
     },
     "output_type": "display_data"
    }
   ],
   "source": [
    "dataSet['Genres'].value_counts().plot(kind='bar', figsize=(10,5))"
   ]
  },
  {
   "cell_type": "markdown",
   "metadata": {},
   "source": [
    "#### <span style=\"color:green\">Music and Audio is replaced by Music</span>"
   ]
  },
  {
   "cell_type": "markdown",
   "metadata": {},
   "source": [
    "## Relation between Category and Genres with Rating"
   ]
  },
  {
   "cell_type": "markdown",
   "metadata": {},
   "source": [
    "### Dropping Rating null values"
   ]
  },
  {
   "cell_type": "code",
   "execution_count": 29,
   "metadata": {},
   "outputs": [],
   "source": [
    "dataSet = dataSet[pd.notnull(dataSet['Rating'])]"
   ]
  },
  {
   "cell_type": "code",
   "execution_count": 30,
   "metadata": {},
   "outputs": [
    {
     "data": {
      "text/plain": [
       "Current Ver       4\n",
       "Android Ver       2\n",
       "Last Updated      0\n",
       "Genres            0\n",
       "Content Rating    0\n",
       "Price             0\n",
       "Type              0\n",
       "Installs          0\n",
       "Size              0\n",
       "Reviews           0\n",
       "Rating            0\n",
       "Category          0\n",
       "App               0\n",
       "dtype: int64"
      ]
     },
     "execution_count": 30,
     "metadata": {},
     "output_type": "execute_result"
    }
   ],
   "source": [
    "total = dataSet.isnull().sum().sort_values(ascending=False)\n",
    "total"
   ]
  },
  {
   "cell_type": "code",
   "execution_count": 31,
   "metadata": {},
   "outputs": [
    {
     "data": {
      "text/html": [
       "<div>\n",
       "<style scoped>\n",
       "    .dataframe tbody tr th:only-of-type {\n",
       "        vertical-align: middle;\n",
       "    }\n",
       "\n",
       "    .dataframe tbody tr th {\n",
       "        vertical-align: top;\n",
       "    }\n",
       "\n",
       "    .dataframe thead th {\n",
       "        text-align: right;\n",
       "    }\n",
       "</style>\n",
       "<table border=\"1\" class=\"dataframe\">\n",
       "  <thead>\n",
       "    <tr style=\"text-align: right;\">\n",
       "      <th></th>\n",
       "      <th>Rating</th>\n",
       "    </tr>\n",
       "  </thead>\n",
       "  <tbody>\n",
       "    <tr>\n",
       "      <th>count</th>\n",
       "      <td>9366.000000</td>\n",
       "    </tr>\n",
       "    <tr>\n",
       "      <th>mean</th>\n",
       "      <td>4.191757</td>\n",
       "    </tr>\n",
       "    <tr>\n",
       "      <th>std</th>\n",
       "      <td>0.515219</td>\n",
       "    </tr>\n",
       "    <tr>\n",
       "      <th>min</th>\n",
       "      <td>1.000000</td>\n",
       "    </tr>\n",
       "    <tr>\n",
       "      <th>25%</th>\n",
       "      <td>4.000000</td>\n",
       "    </tr>\n",
       "    <tr>\n",
       "      <th>50%</th>\n",
       "      <td>4.300000</td>\n",
       "    </tr>\n",
       "    <tr>\n",
       "      <th>75%</th>\n",
       "      <td>4.500000</td>\n",
       "    </tr>\n",
       "    <tr>\n",
       "      <th>max</th>\n",
       "      <td>5.000000</td>\n",
       "    </tr>\n",
       "  </tbody>\n",
       "</table>\n",
       "</div>"
      ],
      "text/plain": [
       "            Rating\n",
       "count  9366.000000\n",
       "mean      4.191757\n",
       "std       0.515219\n",
       "min       1.000000\n",
       "25%       4.000000\n",
       "50%       4.300000\n",
       "75%       4.500000\n",
       "max       5.000000"
      ]
     },
     "execution_count": 31,
     "metadata": {},
     "output_type": "execute_result"
    }
   ],
   "source": [
    "dataSet.describe()"
   ]
  },
  {
   "cell_type": "markdown",
   "metadata": {},
   "source": [
    "#### <span style=\"color:violet\">Now the records with null values in the rating has been removed</span>"
   ]
  },
  {
   "cell_type": "markdown",
   "metadata": {},
   "source": [
    "### Rating and Category"
   ]
  },
  {
   "cell_type": "code",
   "execution_count": 32,
   "metadata": {},
   "outputs": [
    {
     "data": {
      "text/plain": [
       "<matplotlib.axes._subplots.AxesSubplot at 0x7fd1bb0fd2b0>"
      ]
     },
     "execution_count": 32,
     "metadata": {},
     "output_type": "execute_result"
    },
    {
     "data": {
      "image/png": "[encoded data removed]",
      "text/plain": [
       "<Figure size 432x288 with 1 Axes>"
      ]
     },
     "metadata": {
      "needs_background": "light"
     },
     "output_type": "display_data"
    }
   ],
   "source": [
    "dataSet.groupby('Category').Rating.mean().plot(kind='bar')"
   ]
  },
  {
   "cell_type": "code",
   "execution_count": 33,
   "metadata": {},
   "outputs": [
    {
     "data": {
      "text/plain": [
       "<matplotlib.axes._subplots.AxesSubplot at 0x7fd1bb0389e8>"
      ]
     },
     "execution_count": 33,
     "metadata": {},
     "output_type": "execute_result"
    },
    {
     "data": {
      "image/png": "[encoded data removed]",
      "text/plain": [
       "<Figure size 432x288 with 1 Axes>"
      ]
     },
     "metadata": {
      "needs_background": "light"
     },
     "output_type": "display_data"
    }
   ],
   "source": [
    "dataSet.groupby('Category').Rating.mean().plot(kind='kde')"
   ]
  },
  {
   "cell_type": "markdown",
   "metadata": {},
   "source": [
    "#### <span style=\"color:Red\">The bar chart with the rating mean for each category failed to show the distribution clearly so a box plot will be used</span>"
   ]
  },
  {
   "cell_type": "code",
   "execution_count": 34,
   "metadata": {},
   "outputs": [
    {
     "data": {
      "text/plain": [
       "<matplotlib.axes._subplots.AxesSubplot at 0x7fd1bb07b6d8>"
      ]
     },
     "execution_count": 34,
     "metadata": {},
     "output_type": "execute_result"
    },
    {
     "data": {
      "image/png": "[encoded data removed]",
      "text/plain": [
       "<Figure size 720x360 with 1 Axes>"
      ]
     },
     "metadata": {
      "needs_background": "light"
     },
     "output_type": "display_data"
    }
   ],
   "source": [
    "dataSet.boxplot(column='Rating', by='Category',rot=90, fontsize=12, figsize=(10,5), grid=True)"
   ]
  },
  {
   "cell_type": "markdown",
   "metadata": {},
   "source": [
    "#### <span style=\"color:Red\">As shown, the average rating of each category is nearly the same, in general rating between categories is not that differet</span>"
   ]
  },
  {
   "cell_type": "markdown",
   "metadata": {},
   "source": [
    "### Genres"
   ]
  },
  {
   "cell_type": "code",
   "execution_count": 35,
   "metadata": {},
   "outputs": [
    {
     "data": {
      "text/plain": [
       "<matplotlib.axes._subplots.AxesSubplot at 0x7fd1bb059908>"
      ]
     },
     "execution_count": 35,
     "metadata": {},
     "output_type": "execute_result"
    },
    {
     "data": {
      "image/png": "[encoded data removed]",
      "text/plain": [
       "<Figure size 864x360 with 1 Axes>"
      ]
     },
     "metadata": {
      "needs_background": "light"
     },
     "output_type": "display_data"
    }
   ],
   "source": [
    "dataSet.groupby('Genres').Rating.mean().plot(kind='bar',figsize=(12,5),fontsize=12)"
   ]
  },
  {
   "cell_type": "code",
   "execution_count": 36,
   "metadata": {},
   "outputs": [
    {
     "data": {
      "text/plain": [
       "<matplotlib.axes._subplots.AxesSubplot at 0x7fd1babc7a58>"
      ]
     },
     "execution_count": 36,
     "metadata": {},
     "output_type": "execute_result"
    },
    {
     "data": {
      "image/png": "[encoded data removed]",
      "text/plain": [
       "<Figure size 864x360 with 1 Axes>"
      ]
     },
     "metadata": {
      "needs_background": "light"
     },
     "output_type": "display_data"
    }
   ],
   "source": [
    "dataSet.groupby('Genres').Rating.mean().plot(kind='kde',figsize=(12,5),fontsize=12)"
   ]
  },
  {
   "cell_type": "code",
   "execution_count": 37,
   "metadata": {},
   "outputs": [
    {
     "data": {
      "text/plain": [
       "<matplotlib.axes._subplots.AxesSubplot at 0x7fd1bab35668>"
      ]
     },
     "execution_count": 37,
     "metadata": {},
     "output_type": "execute_result"
    },
    {
     "data": {
      "image/png": "[encoded data removed]",
      "text/plain": [
       "<Figure size 72x360 with 1 Axes>"
      ]
     },
     "metadata": {
      "needs_background": "light"
     },
     "output_type": "display_data"
    }
   ],
   "source": [
    "dataSet.boxplot(column='Rating', by='Genres',rot=90, fontsize=12, figsize=(1,5), grid=True)"
   ]
  },
  {
   "cell_type": "markdown",
   "metadata": {},
   "source": [
    "#### <span style=\"color:red\">The Genres showed the same behaviour as category</span>"
   ]
  },
  {
   "cell_type": "markdown",
   "metadata": {},
   "source": [
    "### Investigating if the genres within a category affects rating"
   ]
  },
  {
   "cell_type": "code",
   "execution_count": 38,
   "metadata": {},
   "outputs": [
    {
     "data": {
      "text/html": [
       "<div>\n",
       "<style scoped>\n",
       "    .dataframe tbody tr th:only-of-type {\n",
       "        vertical-align: middle;\n",
       "    }\n",
       "\n",
       "    .dataframe tbody tr th {\n",
       "        vertical-align: top;\n",
       "    }\n",
       "\n",
       "    .dataframe thead th {\n",
       "        text-align: right;\n",
       "    }\n",
       "</style>\n",
       "<table border=\"1\" class=\"dataframe\">\n",
       "  <thead>\n",
       "    <tr style=\"text-align: right;\">\n",
       "      <th></th>\n",
       "      <th>Category</th>\n",
       "      <th>Genres</th>\n",
       "      <th>count</th>\n",
       "    </tr>\n",
       "  </thead>\n",
       "  <tbody>\n",
       "    <tr>\n",
       "      <th>0</th>\n",
       "      <td>ART_AND_DESIGN</td>\n",
       "      <td>Art &amp; Design</td>\n",
       "      <td>62</td>\n",
       "    </tr>\n",
       "    <tr>\n",
       "      <th>1</th>\n",
       "      <td>AUTO_AND_VEHICLES</td>\n",
       "      <td>Auto &amp; Vehicles</td>\n",
       "      <td>73</td>\n",
       "    </tr>\n",
       "    <tr>\n",
       "      <th>2</th>\n",
       "      <td>BEAUTY</td>\n",
       "      <td>Beauty</td>\n",
       "      <td>42</td>\n",
       "    </tr>\n",
       "    <tr>\n",
       "      <th>3</th>\n",
       "      <td>BOOKS_AND_REFERENCE</td>\n",
       "      <td>Books &amp; Reference</td>\n",
       "      <td>178</td>\n",
       "    </tr>\n",
       "    <tr>\n",
       "      <th>4</th>\n",
       "      <td>BUSINESS</td>\n",
       "      <td>Business</td>\n",
       "      <td>303</td>\n",
       "    </tr>\n",
       "    <tr>\n",
       "      <th>5</th>\n",
       "      <td>COMICS</td>\n",
       "      <td>Comics</td>\n",
       "      <td>58</td>\n",
       "    </tr>\n",
       "    <tr>\n",
       "      <th>6</th>\n",
       "      <td>COMMUNICATION</td>\n",
       "      <td>Communication</td>\n",
       "      <td>328</td>\n",
       "    </tr>\n",
       "    <tr>\n",
       "      <th>7</th>\n",
       "      <td>DATING</td>\n",
       "      <td>Dating</td>\n",
       "      <td>195</td>\n",
       "    </tr>\n",
       "    <tr>\n",
       "      <th>8</th>\n",
       "      <td>EDUCATION</td>\n",
       "      <td>Education</td>\n",
       "      <td>155</td>\n",
       "    </tr>\n",
       "    <tr>\n",
       "      <th>9</th>\n",
       "      <td>ENTERTAINMENT</td>\n",
       "      <td>Entertainment</td>\n",
       "      <td>149</td>\n",
       "    </tr>\n",
       "    <tr>\n",
       "      <th>10</th>\n",
       "      <td>EVENTS</td>\n",
       "      <td>Events</td>\n",
       "      <td>45</td>\n",
       "    </tr>\n",
       "    <tr>\n",
       "      <th>11</th>\n",
       "      <td>FAMILY</td>\n",
       "      <td>Action</td>\n",
       "      <td>14</td>\n",
       "    </tr>\n",
       "    <tr>\n",
       "      <th>12</th>\n",
       "      <td>FAMILY</td>\n",
       "      <td>Adventure</td>\n",
       "      <td>11</td>\n",
       "    </tr>\n",
       "    <tr>\n",
       "      <th>13</th>\n",
       "      <td>FAMILY</td>\n",
       "      <td>Arcade</td>\n",
       "      <td>16</td>\n",
       "    </tr>\n",
       "    <tr>\n",
       "      <th>14</th>\n",
       "      <td>FAMILY</td>\n",
       "      <td>Art &amp; Design</td>\n",
       "      <td>3</td>\n",
       "    </tr>\n",
       "    <tr>\n",
       "      <th>15</th>\n",
       "      <td>FAMILY</td>\n",
       "      <td>Board</td>\n",
       "      <td>19</td>\n",
       "    </tr>\n",
       "    <tr>\n",
       "      <th>16</th>\n",
       "      <td>FAMILY</td>\n",
       "      <td>Books &amp; Reference</td>\n",
       "      <td>2</td>\n",
       "    </tr>\n",
       "    <tr>\n",
       "      <th>17</th>\n",
       "      <td>FAMILY</td>\n",
       "      <td>Card</td>\n",
       "      <td>3</td>\n",
       "    </tr>\n",
       "    <tr>\n",
       "      <th>18</th>\n",
       "      <td>FAMILY</td>\n",
       "      <td>Casual</td>\n",
       "      <td>213</td>\n",
       "    </tr>\n",
       "    <tr>\n",
       "      <th>19</th>\n",
       "      <td>FAMILY</td>\n",
       "      <td>Communication</td>\n",
       "      <td>1</td>\n",
       "    </tr>\n",
       "    <tr>\n",
       "      <th>20</th>\n",
       "      <td>FAMILY</td>\n",
       "      <td>Education</td>\n",
       "      <td>408</td>\n",
       "    </tr>\n",
       "    <tr>\n",
       "      <th>21</th>\n",
       "      <td>FAMILY</td>\n",
       "      <td>Educational</td>\n",
       "      <td>103</td>\n",
       "    </tr>\n",
       "    <tr>\n",
       "      <th>22</th>\n",
       "      <td>FAMILY</td>\n",
       "      <td>Entertainment</td>\n",
       "      <td>428</td>\n",
       "    </tr>\n",
       "    <tr>\n",
       "      <th>23</th>\n",
       "      <td>FAMILY</td>\n",
       "      <td>Health &amp; Fitness</td>\n",
       "      <td>2</td>\n",
       "    </tr>\n",
       "    <tr>\n",
       "      <th>24</th>\n",
       "      <td>FAMILY</td>\n",
       "      <td>Lifestyle</td>\n",
       "      <td>1</td>\n",
       "    </tr>\n",
       "    <tr>\n",
       "      <th>25</th>\n",
       "      <td>FAMILY</td>\n",
       "      <td>Music</td>\n",
       "      <td>4</td>\n",
       "    </tr>\n",
       "    <tr>\n",
       "      <th>26</th>\n",
       "      <td>FAMILY</td>\n",
       "      <td>Puzzle</td>\n",
       "      <td>106</td>\n",
       "    </tr>\n",
       "    <tr>\n",
       "      <th>27</th>\n",
       "      <td>FAMILY</td>\n",
       "      <td>Racing</td>\n",
       "      <td>21</td>\n",
       "    </tr>\n",
       "    <tr>\n",
       "      <th>28</th>\n",
       "      <td>FAMILY</td>\n",
       "      <td>Role Playing</td>\n",
       "      <td>103</td>\n",
       "    </tr>\n",
       "    <tr>\n",
       "      <th>29</th>\n",
       "      <td>FAMILY</td>\n",
       "      <td>Simulation</td>\n",
       "      <td>199</td>\n",
       "    </tr>\n",
       "    <tr>\n",
       "      <th>...</th>\n",
       "      <td>...</td>\n",
       "      <td>...</td>\n",
       "      <td>...</td>\n",
       "    </tr>\n",
       "    <tr>\n",
       "      <th>39</th>\n",
       "      <td>GAME</td>\n",
       "      <td>Card</td>\n",
       "      <td>45</td>\n",
       "    </tr>\n",
       "    <tr>\n",
       "      <th>40</th>\n",
       "      <td>GAME</td>\n",
       "      <td>Casino</td>\n",
       "      <td>37</td>\n",
       "    </tr>\n",
       "    <tr>\n",
       "      <th>41</th>\n",
       "      <td>GAME</td>\n",
       "      <td>Casual</td>\n",
       "      <td>49</td>\n",
       "    </tr>\n",
       "    <tr>\n",
       "      <th>42</th>\n",
       "      <td>GAME</td>\n",
       "      <td>Music</td>\n",
       "      <td>21</td>\n",
       "    </tr>\n",
       "    <tr>\n",
       "      <th>43</th>\n",
       "      <td>GAME</td>\n",
       "      <td>Puzzle</td>\n",
       "      <td>42</td>\n",
       "    </tr>\n",
       "    <tr>\n",
       "      <th>44</th>\n",
       "      <td>GAME</td>\n",
       "      <td>Racing</td>\n",
       "      <td>93</td>\n",
       "    </tr>\n",
       "    <tr>\n",
       "      <th>45</th>\n",
       "      <td>GAME</td>\n",
       "      <td>Role Playing</td>\n",
       "      <td>16</td>\n",
       "    </tr>\n",
       "    <tr>\n",
       "      <th>46</th>\n",
       "      <td>GAME</td>\n",
       "      <td>Simulation</td>\n",
       "      <td>13</td>\n",
       "    </tr>\n",
       "    <tr>\n",
       "      <th>47</th>\n",
       "      <td>GAME</td>\n",
       "      <td>Sports</td>\n",
       "      <td>14</td>\n",
       "    </tr>\n",
       "    <tr>\n",
       "      <th>48</th>\n",
       "      <td>GAME</td>\n",
       "      <td>Strategy</td>\n",
       "      <td>24</td>\n",
       "    </tr>\n",
       "    <tr>\n",
       "      <th>49</th>\n",
       "      <td>GAME</td>\n",
       "      <td>Trivia</td>\n",
       "      <td>28</td>\n",
       "    </tr>\n",
       "    <tr>\n",
       "      <th>50</th>\n",
       "      <td>GAME</td>\n",
       "      <td>Word</td>\n",
       "      <td>28</td>\n",
       "    </tr>\n",
       "    <tr>\n",
       "      <th>51</th>\n",
       "      <td>HEALTH_AND_FITNESS</td>\n",
       "      <td>Health &amp; Fitness</td>\n",
       "      <td>297</td>\n",
       "    </tr>\n",
       "    <tr>\n",
       "      <th>52</th>\n",
       "      <td>HOUSE_AND_HOME</td>\n",
       "      <td>House &amp; Home</td>\n",
       "      <td>76</td>\n",
       "    </tr>\n",
       "    <tr>\n",
       "      <th>53</th>\n",
       "      <td>LIBRARIES_AND_DEMO</td>\n",
       "      <td>Libraries &amp; Demo</td>\n",
       "      <td>65</td>\n",
       "    </tr>\n",
       "    <tr>\n",
       "      <th>54</th>\n",
       "      <td>LIFESTYLE</td>\n",
       "      <td>Lifestyle</td>\n",
       "      <td>314</td>\n",
       "    </tr>\n",
       "    <tr>\n",
       "      <th>55</th>\n",
       "      <td>MAPS_AND_NAVIGATION</td>\n",
       "      <td>Maps &amp; Navigation</td>\n",
       "      <td>124</td>\n",
       "    </tr>\n",
       "    <tr>\n",
       "      <th>56</th>\n",
       "      <td>MEDICAL</td>\n",
       "      <td>Medical</td>\n",
       "      <td>350</td>\n",
       "    </tr>\n",
       "    <tr>\n",
       "      <th>57</th>\n",
       "      <td>NEWS_AND_MAGAZINES</td>\n",
       "      <td>News &amp; Magazines</td>\n",
       "      <td>233</td>\n",
       "    </tr>\n",
       "    <tr>\n",
       "      <th>58</th>\n",
       "      <td>PARENTING</td>\n",
       "      <td>Parenting</td>\n",
       "      <td>50</td>\n",
       "    </tr>\n",
       "    <tr>\n",
       "      <th>59</th>\n",
       "      <td>PERSONALIZATION</td>\n",
       "      <td>Personalization</td>\n",
       "      <td>314</td>\n",
       "    </tr>\n",
       "    <tr>\n",
       "      <th>60</th>\n",
       "      <td>PHOTOGRAPHY</td>\n",
       "      <td>Photography</td>\n",
       "      <td>317</td>\n",
       "    </tr>\n",
       "    <tr>\n",
       "      <th>61</th>\n",
       "      <td>PRODUCTIVITY</td>\n",
       "      <td>Productivity</td>\n",
       "      <td>351</td>\n",
       "    </tr>\n",
       "    <tr>\n",
       "      <th>62</th>\n",
       "      <td>SHOPPING</td>\n",
       "      <td>Shopping</td>\n",
       "      <td>238</td>\n",
       "    </tr>\n",
       "    <tr>\n",
       "      <th>63</th>\n",
       "      <td>SOCIAL</td>\n",
       "      <td>Social</td>\n",
       "      <td>259</td>\n",
       "    </tr>\n",
       "    <tr>\n",
       "      <th>64</th>\n",
       "      <td>SPORTS</td>\n",
       "      <td>Sports</td>\n",
       "      <td>319</td>\n",
       "    </tr>\n",
       "    <tr>\n",
       "      <th>65</th>\n",
       "      <td>TOOLS</td>\n",
       "      <td>Tools</td>\n",
       "      <td>734</td>\n",
       "    </tr>\n",
       "    <tr>\n",
       "      <th>66</th>\n",
       "      <td>TRAVEL_AND_LOCAL</td>\n",
       "      <td>Travel &amp; Local</td>\n",
       "      <td>226</td>\n",
       "    </tr>\n",
       "    <tr>\n",
       "      <th>67</th>\n",
       "      <td>VIDEO_PLAYERS</td>\n",
       "      <td>Video Players &amp; Editors</td>\n",
       "      <td>160</td>\n",
       "    </tr>\n",
       "    <tr>\n",
       "      <th>68</th>\n",
       "      <td>WEATHER</td>\n",
       "      <td>Weather</td>\n",
       "      <td>75</td>\n",
       "    </tr>\n",
       "  </tbody>\n",
       "</table>\n",
       "<p>69 rows × 3 columns</p>\n",
       "</div>"
      ],
      "text/plain": [
       "               Category                   Genres  count\n",
       "0        ART_AND_DESIGN             Art & Design     62\n",
       "1     AUTO_AND_VEHICLES          Auto & Vehicles     73\n",
       "2                BEAUTY                   Beauty     42\n",
       "3   BOOKS_AND_REFERENCE        Books & Reference    178\n",
       "4              BUSINESS                 Business    303\n",
       "5                COMICS                   Comics     58\n",
       "6         COMMUNICATION            Communication    328\n",
       "7                DATING                   Dating    195\n",
       "8             EDUCATION                Education    155\n",
       "9         ENTERTAINMENT            Entertainment    149\n",
       "10               EVENTS                   Events     45\n",
       "11               FAMILY                   Action     14\n",
       "12               FAMILY                Adventure     11\n",
       "13               FAMILY                   Arcade     16\n",
       "14               FAMILY             Art & Design      3\n",
       "15               FAMILY                    Board     19\n",
       "16               FAMILY        Books & Reference      2\n",
       "17               FAMILY                     Card      3\n",
       "18               FAMILY                   Casual    213\n",
       "19               FAMILY            Communication      1\n",
       "20               FAMILY                Education    408\n",
       "21               FAMILY              Educational    103\n",
       "22               FAMILY            Entertainment    428\n",
       "23               FAMILY         Health & Fitness      2\n",
       "24               FAMILY                Lifestyle      1\n",
       "25               FAMILY                    Music      4\n",
       "26               FAMILY                   Puzzle    106\n",
       "27               FAMILY                   Racing     21\n",
       "28               FAMILY             Role Playing    103\n",
       "29               FAMILY               Simulation    199\n",
       "..                  ...                      ...    ...\n",
       "39                 GAME                     Card     45\n",
       "40                 GAME                   Casino     37\n",
       "41                 GAME                   Casual     49\n",
       "42                 GAME                    Music     21\n",
       "43                 GAME                   Puzzle     42\n",
       "44                 GAME                   Racing     93\n",
       "45                 GAME             Role Playing     16\n",
       "46                 GAME               Simulation     13\n",
       "47                 GAME                   Sports     14\n",
       "48                 GAME                 Strategy     24\n",
       "49                 GAME                   Trivia     28\n",
       "50                 GAME                     Word     28\n",
       "51   HEALTH_AND_FITNESS         Health & Fitness    297\n",
       "52       HOUSE_AND_HOME             House & Home     76\n",
       "53   LIBRARIES_AND_DEMO         Libraries & Demo     65\n",
       "54            LIFESTYLE                Lifestyle    314\n",
       "55  MAPS_AND_NAVIGATION        Maps & Navigation    124\n",
       "56              MEDICAL                  Medical    350\n",
       "57   NEWS_AND_MAGAZINES         News & Magazines    233\n",
       "58            PARENTING                Parenting     50\n",
       "59      PERSONALIZATION          Personalization    314\n",
       "60          PHOTOGRAPHY              Photography    317\n",
       "61         PRODUCTIVITY             Productivity    351\n",
       "62             SHOPPING                 Shopping    238\n",
       "63               SOCIAL                   Social    259\n",
       "64               SPORTS                   Sports    319\n",
       "65                TOOLS                    Tools    734\n",
       "66     TRAVEL_AND_LOCAL           Travel & Local    226\n",
       "67        VIDEO_PLAYERS  Video Players & Editors    160\n",
       "68              WEATHER                  Weather     75\n",
       "\n",
       "[69 rows x 3 columns]"
      ]
     },
     "execution_count": 38,
     "metadata": {},
     "output_type": "execute_result"
    }
   ],
   "source": [
    "dataSet.groupby(['Category','Genres']).size().reset_index().rename(columns={0:'count'})"
   ]
  },
  {
   "cell_type": "markdown",
   "metadata": {},
   "source": [
    "#### <span style=\"color:Red\">Only family and Game have different genres within their category which means that the invistigation cannot be globalized</span>"
   ]
  },
  {
   "cell_type": "code",
   "execution_count": null,
   "metadata": {},
   "outputs": [],
   "source": []
  },
  {
   "cell_type": "code",
   "execution_count": null,
   "metadata": {},
   "outputs": [],
   "source": []
  },
  {
   "cell_type": "code",
   "execution_count": null,
   "metadata": {},
   "outputs": [],
   "source": []
  },
  {
   "cell_type": "code",
   "execution_count": null,
   "metadata": {},
   "outputs": [],
   "source": []
  },
  {
   "cell_type": "code",
   "execution_count": null,
   "metadata": {},
   "outputs": [],
   "source": []
  },
  {
   "cell_type": "code",
   "execution_count": null,
   "metadata": {},
   "outputs": [],
   "source": []
  },
  {
   "cell_type": "code",
   "execution_count": null,
   "metadata": {},
   "outputs": [],
   "source": []
  },
  {
   "cell_type": "code",
   "execution_count": null,
   "metadata": {},
   "outputs": [],
   "source": []
  },
  {
   "cell_type": "code",
   "execution_count": null,
   "metadata": {},
   "outputs": [],
   "source": []
  },
  {
   "cell_type": "code",
   "execution_count": null,
   "metadata": {},
   "outputs": [],
   "source": []
  },
  {
   "cell_type": "code",
   "execution_count": null,
   "metadata": {},
   "outputs": [],
   "source": []
  },
  {
   "cell_type": "code",
   "execution_count": null,
   "metadata": {},
   "outputs": [],
   "source": []
  },
  {
   "cell_type": "code",
   "execution_count": null,
   "metadata": {},
   "outputs": [],
   "source": []
  },
  {
   "cell_type": "code",
   "execution_count": null,
   "metadata": {},
   "outputs": [],
   "source": []
  },
  {
   "cell_type": "code",
   "execution_count": null,
   "metadata": {},
   "outputs": [],
   "source": []
  },
  {
   "cell_type": "code",
   "execution_count": null,
   "metadata": {},
   "outputs": [],
   "source": []
  }
 ],
 "metadata": {
  "kernelspec": {
   "display_name": "Python 3",
   "language": "python",
   "name": "python3"
  },
  "language_info": {
   "codemirror_mode": {
    "name": "ipython",
    "version": 3
   },
   "file_extension": ".py",
   "mimetype": "text/x-python",
   "name": "python",
   "nbconvert_exporter": "python",
   "pygments_lexer": "ipython3",
   "version": "3.6.8"
  }
 },
 "nbformat": 4,
 "nbformat_minor": 2
}
